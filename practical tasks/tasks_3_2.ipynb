{
 "cells": [
  {
   "cell_type": "markdown",
   "metadata": {},
   "source": [
    "# Задача 1\n",
    "\n",
    "Прочитайте файл, сосстоящий из 1 строки. Возьмите строку из файла и постройте лесенку. Т.е., сначала 1 слово, потом первые два слова, затем первые три слова и так до конца.\n"
   ]
  },
  {
   "cell_type": "code",
   "execution_count": 83,
   "metadata": {},
   "outputs": [
    {
     "name": "stdout",
     "output_type": "stream",
     "text": [
      "Мама\n",
      "Мама мыла\n",
      "Мама мыла раму\n",
      "Мама мыла раму рама\n",
      "Мама мыла раму рама мыла\n",
      "Мама мыла раму рама мыла маму\n"
     ]
    }
   ],
   "source": [
    "# Место для решения\n",
    "import string\n",
    "with open('file_3_2_t1.txt', encoding = 'utf-8', mode = 'r') as inp_file:\n",
    "    first_string = inp_file.readline().strip()\n",
    "    tmp_list_of_words =  first_string.split(' ')\n",
    "    list_of_words = []\n",
    "    for word in tmp_list_of_words:\n",
    "        for i in range(len(word)):\n",
    "            if word[i] in string.punctuation:\n",
    "                word = word.replace(word[i], '')\n",
    "        list_of_words.append(word)    \n",
    "    tmp_string = ''\n",
    "    for index, word in enumerate(list_of_words):\n",
    "        tmp_string = ' '.join(list_of_words[:index + 1])\n",
    "        print(tmp_string)"
   ]
  },
  {
   "cell_type": "markdown",
   "metadata": {},
   "source": [
    "# Задача 2\n",
    "\n",
    "Сделайте конвертер из tsv формата в csv формат и запишите его."
   ]
  },
  {
   "cell_type": "code",
   "execution_count": 82,
   "metadata": {},
   "outputs": [
    {
     "name": "stdout",
     "output_type": "stream",
     "text": [
      "['DNA\\tName\\tChain\\tSpecie', 'AATTAA\\tGene1\\t+\\tMars settelers', 'TAGACCA\\tGene2\\t+\\tMars settelers', 'AATTAA\\tGene3\\t-\\tMars settelers', 'TAGACCA\\tGene4\\t-\\tMars settelers', 'AATTAA\\tGene5\\t+\\tMars settelers', 'TAGACCA\\tGene6\\t+\\tMoon settelers', 'AATTAA\\tGene7\\t-\\tMars settelers', 'TAGACCA\\tGene8\\t+\\t settelers']\n",
      "\n",
      "['DNA,Name,Chain,Specie', 'AATTAA,Gene1,+,Mars settelers', 'TAGACCA,Gene2,+,Mars settelers', 'AATTAA,Gene3,-,Mars settelers', 'TAGACCA,Gene4,-,Mars settelers', 'AATTAA,Gene5,+,Mars settelers', 'TAGACCA,Gene6,+,Moon settelers', 'AATTAA,Gene7,-,Mars settelers', 'TAGACCA,Gene8,+, settelers']\n",
      "\n"
     ]
    }
   ],
   "source": [
    "# Место для решения\n",
    "with open('file_3_2_t2.txt', 'r') as inp_file:\n",
    "    tsv_list = inp_file.readlines()\n",
    "    new_tsv_list = [element.strip() for element in tsv_list]\n",
    "    csv_list = []\n",
    "    with open ('file_3_2_t2_out.txt', 'w') as out_file:\n",
    "        for element in new_tsv_list:\n",
    "            element = element.replace('\\t', ',')\n",
    "            csv_list.append(element)\n",
    "            out_file.writelines(element + '\\n')\n",
    "    print(new_tsv_list, sep = '\\n', end = '\\n\\n')\n",
    "    print(csv_list, sep = '\\n', end = '\\n\\n')"
   ]
  },
  {
   "cell_type": "markdown",
   "metadata": {},
   "source": [
    "# Задача 3\n",
    "Задача на дозапись в файл: Создайте никнеймы пользователей, которые зарегестрированны на сервере. Напишите цикл, который будет случайно генерировать два числа через ':' иммитируя время последнего появления пользователя на сервере. На каждом шаге цикла, записывайте в файл информацию обо всех изменениях. Т.е., должна созраняться информация о всех предыдущих появлениях на сервере и дополняться информацией о новых появлениях."
   ]
  },
  {
   "cell_type": "code",
   "execution_count": null,
   "metadata": {},
   "outputs": [],
   "source": [
    "# Место для решения"
   ]
  },
  {
   "cell_type": "markdown",
   "metadata": {},
   "source": [
    "# Задача 4\n",
    "\n",
    "Вам даны 2 файла. Задача построить 'расческу', т.е. файл должен выглядеться следующим образом:  \n",
    "\n",
    "'первая строка первого файла'  \n",
    "                             'первая строка второго файла'  \n",
    "'вторая строка первого файла'\n"
   ]
  },
  {
   "cell_type": "code",
   "execution_count": 106,
   "metadata": {},
   "outputs": [
    {
     "name": "stdout",
     "output_type": "stream",
     "text": [
      "['Я', 'крутой', 'программист', 'я', 'смог', 'или', 'смогла', 'написать', 'код', 'для', 'расчески', 'на', 'Python']\n"
     ]
    }
   ],
   "source": [
    "# Место для решения\n",
    "with open('file_3_2_t4.txt', encoding = 'utf-8', mode = 'r') as inp_file_1:\n",
    "    with open('file_3_2_t4_2.txt', encoding = 'utf-8', mode = 'r') as inp_file_2:\n",
    "        \n",
    "        with open('file_3_2_t4_out.txt', encoding = 'utf-8', mode = 'w') as out_file:\n",
    "            first_list = inp_file_1.readlines()\n",
    "            second_list = inp_file_2.readlines()\n",
    "            result_list = []\n",
    "            tmp_list = first_list.copy()\n",
    "            for index, element in enumerate(second_list):\n",
    "                if index < len(first_list):\n",
    "                    tmp_list.insert((index + 1) * 2 - 1, element)\n",
    "                else:\n",
    "                    tmp_list.append(element)\n",
    "            result_list = [element.strip() for element in tmp_list]\n",
    "            print(result_list)\n",
    "            for element in result_list:\n",
    "                out_file.writelines(element + '\\n')\n",
    "            "
   ]
  },
  {
   "cell_type": "code",
   "execution_count": null,
   "metadata": {},
   "outputs": [],
   "source": []
  }
 ],
 "metadata": {
  "kernelspec": {
   "display_name": "Python 3 (ipykernel)",
   "language": "python",
   "name": "python3"
  },
  "language_info": {
   "codemirror_mode": {
    "name": "ipython",
    "version": 3
   },
   "file_extension": ".py",
   "mimetype": "text/x-python",
   "name": "python",
   "nbconvert_exporter": "python",
   "pygments_lexer": "ipython3",
   "version": "3.9.7"
  }
 },
 "nbformat": 4,
 "nbformat_minor": 4
}
