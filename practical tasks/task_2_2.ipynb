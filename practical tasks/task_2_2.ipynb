{
 "cells": [
  {
   "cell_type": "markdown",
   "metadata": {},
   "source": [
    "# Задача 1\n",
    "Код принимает какой-то список. Необходимо преобразовать это список в словарь таким образом, чтобы для каждого элемента списка ключом и значением был этот элемент"
   ]
  },
  {
   "cell_type": "code",
   "execution_count": 2,
   "metadata": {},
   "outputs": [
    {
     "data": {
      "text/plain": [
       "{2: 2,\n",
       " 4: 4,\n",
       " 'string': 'string',\n",
       " 'another_string': 'another_string',\n",
       " 3.29: 3.29,\n",
       " 22: 22}"
      ]
     },
     "execution_count": 2,
     "metadata": {},
     "output_type": "execute_result"
    }
   ],
   "source": [
    "# Решение задача\n",
    "first_list = [2, 4, 'string', 'another_string', 3.29, 22]\n",
    "first_dic = {}\n",
    "for element in first_list:\n",
    "    first_dic.update([(element, element)])\n",
    "first_dic\n",
    "    "
   ]
  },
  {
   "cell_type": "markdown",
   "metadata": {},
   "source": [
    "# Задача 2\n",
    "Дана последовательность ATTTCATTTAGGGGGCCGCAATATCGGCGATCATGCAT. Записать в словарь общую длину последовательности и количество каждого нуклеотида в ней."
   ]
  },
  {
   "cell_type": "code",
   "execution_count": 13,
   "metadata": {},
   "outputs": [
    {
     "data": {
      "text/plain": [
       "{'general length': 38, 'A': 9, 'T': 11, 'G': 10, 'C': 8}"
      ]
     },
     "execution_count": 13,
     "metadata": {},
     "output_type": "execute_result"
    }
   ],
   "source": [
    "# Решение задача\n",
    "first_string = 'ATTTCATTTAGGGGGCCGCAATATCGGCGATCATGCAT'\n",
    "first_string_to_list = list(first_string)\n",
    "first_dic = {}\n",
    "first_dic.update([('general length', len(first_string))])\n",
    "for char in 'ATGC':\n",
    "    first_dic.update([(char, first_string_to_list.count(char))])\n",
    "first_dic"
   ]
  },
  {
   "cell_type": "markdown",
   "metadata": {
    "tags": []
   },
   "source": [
    "# Задача 3\n",
    "\n",
    "Создайте словарь генетического кода. Объясните, какой вариант вы выбрали и почему?"
   ]
  },
  {
   "cell_type": "code",
   "execution_count": 1,
   "metadata": {
    "tags": []
   },
   "outputs": [
    {
     "data": {
      "text/plain": [
       "{'UUU': 'F',\n",
       " 'UUC': 'F',\n",
       " 'UUA': 'L',\n",
       " 'UUG': 'L',\n",
       " 'UCU': 'S',\n",
       " 'UCC': 'S',\n",
       " 'UCA': 'S',\n",
       " 'UCG': 'S',\n",
       " 'UAU': 'Y',\n",
       " 'UAC': 'Y',\n",
       " 'UAA': 'end',\n",
       " 'UAG': 'end',\n",
       " 'UGU': 'C',\n",
       " 'UGC': 'C',\n",
       " 'UGA': 'end',\n",
       " 'UGG': 'W',\n",
       " 'CUU': 'L',\n",
       " 'CUC': 'L',\n",
       " 'CUA': 'L',\n",
       " 'CUG': 'L',\n",
       " 'CCU': 'P',\n",
       " 'CCC': 'P',\n",
       " 'CCA': 'P',\n",
       " 'CCG': 'P',\n",
       " 'CAU': 'H',\n",
       " 'CAC': 'H',\n",
       " 'CAA': 'Q',\n",
       " 'CAG': 'Q',\n",
       " 'CGU': 'R',\n",
       " 'CGC': 'R',\n",
       " 'CGA': 'R',\n",
       " 'CGG': 'R',\n",
       " 'AUU': 'I',\n",
       " 'AUC': 'I',\n",
       " 'AUA': 'I',\n",
       " 'AUG': 'M',\n",
       " 'ACU': 'T',\n",
       " 'ACC': 'T',\n",
       " 'ACA': 'T',\n",
       " 'ACG': 'T',\n",
       " 'AAU': 'N',\n",
       " 'AAC': 'N',\n",
       " 'AAA': 'K',\n",
       " 'AAG': 'K',\n",
       " 'AGU': 'S',\n",
       " 'AGC': 'S',\n",
       " 'AGA': 'R',\n",
       " 'AGG': 'R',\n",
       " 'GUU': 'V',\n",
       " 'GUC': 'V',\n",
       " 'GUA': 'V',\n",
       " 'GUG': 'V',\n",
       " 'GCU': 'A',\n",
       " 'GCC': 'A',\n",
       " 'GCA': 'A',\n",
       " 'GCG': 'A',\n",
       " 'GAU': 'D',\n",
       " 'GAC': 'D',\n",
       " 'GAA': 'E',\n",
       " 'GAG': 'E',\n",
       " 'GGU': 'G',\n",
       " 'GGC': 'G',\n",
       " 'GGA': 'G',\n",
       " 'GGG': 'G'}"
      ]
     },
     "execution_count": 1,
     "metadata": {},
     "output_type": "execute_result"
    }
   ],
   "source": [
    "# Решение задача\n",
    "# Аминокислоты кодируются триплетами (напр TAC). Найти в интернете английскую таблицу ген кода, в котором названия аминокислот записаны одной буквой.\n",
    "# Один триплет кодирует только одну аминокислоту, но одна аминокислота может кодироваться разными триплетами\n",
    "\n",
    "# gene_code_dic = {'TTT': 'F', 'TTC': 'F', 'TTA': 'L', 'TTG': 'L', 'TCT': 'S', 'TCC': 'S', 'TCA': 'S', 'TCG': 'S', 'TAT': 'Y', 'TAC': 'Y', 'TAA': 'end', 'TAG': 'end', \\\n",
    "#                 'TGT' : 'C', 'TGC': 'C', 'TGA': 'end', 'TGG': 'W', 'CTT': 'L', 'CTC': 'L', 'CTA': 'L', 'CTG': 'L', 'CCT': 'P', 'CCC': 'P', 'CCA': 'P', 'CCG': 'P', \\\n",
    "#                 'CAT': 'H', 'CAC': 'H', 'CAA': 'Q', 'CAG': 'Q', 'CGT': 'R', 'CGC': 'R', 'CGA': 'R', 'CGG': 'R', 'ATT': 'I', 'ATC': 'I', 'ATA': 'I', 'ATG': 'M', \\\n",
    "#                 'ACT': 'T', 'ACC': 'T', 'ACA': 'T', 'ACG': 'T', 'AAT': 'N', 'AAC': 'N', 'AAA': 'K', 'AAG': 'K', 'AGT': 'S', 'AGC': 'S', 'AGA': 'R', 'AGG': 'R', \\\n",
    "#                 'GTT': 'V', 'GTC': 'V', 'GTA': 'V', 'GTG': 'V', 'GCT': 'A', 'GCC': 'A', 'GCA': 'A', 'GCG': 'A', 'GAT': 'D', 'GAC': 'D', 'GAA': 'E', 'GAG': 'E', \\\n",
    "#                 'GGT': 'G', 'GGC': 'G', 'GGA': 'G', 'GGG': 'G'}\n",
    "\n",
    "gene_code_dic = {'UUU': 'F', 'UUC': 'F', 'UUA': 'L', 'UUG': 'L', 'UCU': 'S', 'UCC': 'S', 'UCA': 'S', 'UCG': 'S', 'UAU': 'Y', 'UAC': 'Y', 'UAA': 'end', 'UAG': 'end', \\\n",
    "                'UGU' : 'C', 'UGC': 'C', 'UGA': 'end', 'UGG': 'W', 'CUU': 'L', 'CUC': 'L', 'CUA': 'L', 'CUG': 'L', 'CCU': 'P', 'CCC': 'P', 'CCA': 'P', 'CCG': 'P', \\\n",
    "                'CAU': 'H', 'CAC': 'H', 'CAA': 'Q', 'CAG': 'Q', 'CGU': 'R', 'CGC': 'R', 'CGA': 'R', 'CGG': 'R', 'AUU': 'I', 'AUC': 'I', 'AUA': 'I', 'AUG': 'M', \\\n",
    "                'ACU': 'T', 'ACC': 'T', 'ACA': 'T', 'ACG': 'T', 'AAU': 'N', 'AAC': 'N', 'AAA': 'K', 'AAG': 'K', 'AGU': 'S', 'AGC': 'S', 'AGA': 'R', 'AGG': 'R', \\\n",
    "                'GUU': 'V', 'GUC': 'V', 'GUA': 'V', 'GUG': 'V', 'GCU': 'A', 'GCC': 'A', 'GCA': 'A', 'GCG': 'A', 'GAU': 'D', 'GAC': 'D', 'GAA': 'E', 'GAG': 'E', \\\n",
    "                'GGU': 'G', 'GGC': 'G', 'GGA': 'G', 'GGG': 'G'}\n",
    "#геном человека\n",
    "gene_code_dic"
   ]
  },
  {
   "cell_type": "code",
   "execution_count": null,
   "metadata": {},
   "outputs": [],
   "source": []
  }
 ],
 "metadata": {
  "kernelspec": {
   "display_name": "Python 3 (ipykernel)",
   "language": "python",
   "name": "python3"
  },
  "language_info": {
   "codemirror_mode": {
    "name": "ipython",
    "version": 3
   },
   "file_extension": ".py",
   "mimetype": "text/x-python",
   "name": "python",
   "nbconvert_exporter": "python",
   "pygments_lexer": "ipython3",
   "version": "3.9.7"
  }
 },
 "nbformat": 4,
 "nbformat_minor": 4
}
