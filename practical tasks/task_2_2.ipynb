{
 "cells": [
  {
   "cell_type": "markdown",
   "metadata": {},
   "source": [
    "# Задача 1\n",
    "Код принимает какой-то список. Необходимо преобразовать это список в словарь таким образом, чтобы для каждого элемента списка ключом и значением был этот элемент"
   ]
  },
  {
   "cell_type": "code",
   "execution_count": 2,
   "metadata": {},
   "outputs": [
    {
     "data": {
      "text/plain": [
       "{2: 2,\n",
       " 4: 4,\n",
       " 'string': 'string',\n",
       " 'another_string': 'another_string',\n",
       " 3.29: 3.29,\n",
       " 22: 22}"
      ]
     },
     "execution_count": 2,
     "metadata": {},
     "output_type": "execute_result"
    }
   ],
   "source": [
    "# Решение задача\n",
    "first_list = [2, 4, 'string', 'another_string', 3.29, 22]\n",
    "first_dic = {}\n",
    "for element in first_list:\n",
    "    first_dic.update([(element, element)])\n",
    "first_dic\n",
    "    "
   ]
  },
  {
   "cell_type": "markdown",
   "metadata": {},
   "source": [
    "# Задача 2\n",
    "Дана последовательность ATTTCATTTAGGGGGCCGCAATATCGGCGATCATGCAT. Записать в словарь общую длину последовательности и количество каждого нуклеотида в ней."
   ]
  },
  {
   "cell_type": "code",
   "execution_count": 13,
   "metadata": {},
   "outputs": [
    {
     "data": {
      "text/plain": [
       "{'general length': 38, 'A': 9, 'T': 11, 'G': 10, 'C': 8}"
      ]
     },
     "execution_count": 13,
     "metadata": {},
     "output_type": "execute_result"
    }
   ],
   "source": [
    "# Решение задача\n",
    "first_string = 'ATTTCATTTAGGGGGCCGCAATATCGGCGATCATGCAT'\n",
    "first_string_to_list = list(first_string)\n",
    "first_dic = {}\n",
    "first_dic.update([('general length', len(first_string))])\n",
    "for char in 'ATGC':\n",
    "    first_dic.update([(char, first_string_to_list.count(char))])\n",
    "first_dic"
   ]
  },
  {
   "cell_type": "markdown",
   "metadata": {
    "tags": []
   },
   "source": [
    "# Задача 3\n",
    "\n",
    "Создайте словарь генетического кода. Объясните, какой вариант вы выбрали и почему?"
   ]
  },
  {
   "cell_type": "code",
   "execution_count": 15,
   "metadata": {
    "tags": []
   },
   "outputs": [
    {
     "data": {
      "text/plain": [
       "{'TTT': 'F',\n",
       " 'TTC': 'F',\n",
       " 'TTA': 'L',\n",
       " 'TTG': 'L',\n",
       " 'TCT': 'S',\n",
       " 'TCC': 'S',\n",
       " 'TCA': 'S',\n",
       " 'TCG': 'S',\n",
       " 'TAT': 'Y',\n",
       " 'TAC': 'Y',\n",
       " 'TAA': 'T',\n",
       " 'TAG': 'T'}"
      ]
     },
     "execution_count": 15,
     "metadata": {},
     "output_type": "execute_result"
    }
   ],
   "source": [
    "# Решение задача\n",
    "# Аминокислоты кодируются триплетами (напр TAC). Найти в интернете английскую таблицу ген кода, в котором названия аминокислот записаны одной буквой.\n",
    "# Один триплет кодирует только одну аминокислоту, но одна аминокислота может кодироваться разными триплетами\n",
    "\n",
    "gene_code_dic = {'TTT': 'F', 'TTC': 'F', 'TTA': 'L', 'TTG': 'L', 'TCT': 'S', 'TCC': 'S', 'TCA': 'S', 'TCG': 'S', 'TAT': 'Y', 'TAC': 'Y', 'TAA': 'T', 'TAG': 'T' \\\n",
    "                'TGT' :}\n",
    "gene_code_dic"
   ]
  },
  {
   "cell_type": "code",
   "execution_count": null,
   "metadata": {},
   "outputs": [],
   "source": []
  }
 ],
 "metadata": {
  "kernelspec": {
   "display_name": "Python 3 (ipykernel)",
   "language": "python",
   "name": "python3"
  },
  "language_info": {
   "codemirror_mode": {
    "name": "ipython",
    "version": 3
   },
   "file_extension": ".py",
   "mimetype": "text/x-python",
   "name": "python",
   "nbconvert_exporter": "python",
   "pygments_lexer": "ipython3",
   "version": "3.9.7"
  }
 },
 "nbformat": 4,
 "nbformat_minor": 4
}
