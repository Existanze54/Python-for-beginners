{
 "cells": [
  {
   "cell_type": "markdown",
   "metadata": {},
   "source": [
    "# Задача 1\n",
    "\n",
    "Вам дана строка: Я сегодня пришел на курс и сделал ВСЕ заданя. Верните строку, в которой все символы будут отсортированы в алфавитном порядке"
   ]
  },
  {
   "cell_type": "code",
   "execution_count": 2,
   "metadata": {},
   "outputs": [
    {
     "name": "stdout",
     "output_type": "stream",
     "text": [
      "аааавгдддеееезиииклллнннопррссссушяяя\n"
     ]
    }
   ],
   "source": [
    "# Место для решения\n",
    "first_string = 'Я сегодня пришел на курс и сделал ВСЕ задания'\n",
    "first_string = first_string.replace(' ', '')\n",
    "first_string_to_list = [char.lower() for char in first_string]\n",
    "first_string_to_list.sort()\n",
    "print(''.join(first_string_to_list))"
   ]
  },
  {
   "cell_type": "markdown",
   "metadata": {},
   "source": [
    "# Задача 2\n",
    "\n",
    "Вам даны 2 списка. Задача расшифровать едложение. Задача найти такие символы, которые есть в обоих списках, получить их в том порядке, в котором они должны следовать и перевести их из кодировки ASCII в буквенную кодировку (для этого используйте функцию chr)\n",
    "\n",
    "[5, 5, 89, 1, 1, 13, 6, 10, 9, 111, 10, 117, 13, 6, 11, 8, 2, 6, 6, 32, 114, 6, 101, 10, 3, 0, 10, 13, 0, 6, 7, 1, 4, 1, 2, 3, 1, 12, 1, 10, 6, 13, 5, 7, 11, 97, 12, 12, 5, 8, 108, 3, 1, 5, 10, 9, 6, 121, 10, 6, 13, 32, 1, 2, 6, 100, 111, 32, 4, 3, 0, 105, 2, 13, 116, 63]\n",
    "\n",
    "\n",
    "[20, 21, 15, 18, 19, 89, 27, 27, 23, 111, 18, 16, 24, 18, 18, 23, 21, 28, 23, 24, 19, 16, 15, 18, 117, 24, 24, 23, 32, 28, 114, 22, 16, 28, 101, 22, 97, 19, 108, 121, 23, 23, 24, 20, 32, 20, 100, 25, 111, 26, 16, 17, 32, 105, 116, 63]\n",
    "\n",
    "\n"
   ]
  },
  {
   "cell_type": "code",
   "execution_count": 3,
   "metadata": {},
   "outputs": [
    {
     "name": "stdout",
     "output_type": "stream",
     "text": [
      "You realy do it?\n",
      "You realy do it?\n"
     ]
    }
   ],
   "source": [
    "# Место для решения\n",
    "first_list = [5, 5, 89, 1, 1, 13, 6, 10, 9, 111, 10, 117, 13, 6, 11, 8, 2, 6, 6, 32, 114, 6, 101, \\\n",
    "              10, 3, 0, 10, 13, 0, 6, 7, 1, 4, 1, 2, 3, 1, 12, 1, 10, 6, 13, 5, 7, 11, 97, 12, 12, 5, 8, 108, \\\n",
    "              3, 1, 5, 10, 9, 6, 121, 10, 6, 13, 32, 1, 2, 6, 100, 111, 32, 4, 3, 0, 105, 2, 13, 116, 63]\n",
    "second_list = [20, 21, 15, 18, 19, 89, 27, 27, 23, 111, 18, 16, 24, 18, 18, 23, 21, 28, 23, 24, 19, \\\n",
    "               16, 15, 18, 117, 24, 24, 23, 32, 28, 114, 22, 16, 28, 101, 22, 97, 19, 108, 121, 23, 23, \\\n",
    "               24, 20, 32, 20, 100, 25, 111, 26, 16, 17, 32, 105, 116, 63]\n",
    "first_list_unique = set(first_list)\n",
    "second_list_unique = set(second_list)\n",
    "list_of_duplicate = []\n",
    "for elem in first_list_unique:\n",
    "    if elem in second_list_unique:\n",
    "        list_of_duplicate.append(elem)\n",
    "        \n",
    "first_string = ''\n",
    "second_string = ''\n",
    "    \n",
    "for elem in first_list:\n",
    "    if elem in list_of_duplicate:\n",
    "        first_string = first_string + chr(elem)\n",
    "\n",
    "for elem in second_list:\n",
    "    if elem in list_of_duplicate:\n",
    "        second_string = second_string + chr(elem)\n",
    "    \n",
    "print(first_string)\n",
    "print(second_string)"
   ]
  },
  {
   "cell_type": "markdown",
   "metadata": {},
   "source": [
    "# Задача 3\n",
    "\n",
    "- напишите функцию, которая принимает строку. В строке могут находиться символы 'ALPKSWOMBT'\n",
    "- внутри этой функции создайте структуру данных которая бы хранила эти символы и присудите первым пяти из них какое-то целое число от 1 до 5, а вторым 5 какое-то отрицательное число, от -1 до -5\n",
    "- сгенерируйте случайну строку из этих символов длинной 30 и посчитайте сумму всех чисел в строке. Какие символы победили?"
   ]
  },
  {
   "cell_type": "code",
   "execution_count": 26,
   "metadata": {},
   "outputs": [
    {
     "name": "stdout",
     "output_type": "stream",
     "text": [
      "BPWKTPOSPPASBTBMLALBLAKMTAOTAS\n",
      "{'A': 2, 'L': 3, 'P': 3, 'K': 4, 'S': 4, 'W': -5, 'O': -5, 'M': -4, 'B': -3, 'T': -2}\n",
      "Sum of numbers: 8\n"
     ]
    },
    {
     "data": {
      "text/plain": [
       "8"
      ]
     },
     "execution_count": 26,
     "metadata": {},
     "output_type": "execute_result"
    }
   ],
   "source": [
    "# Место для решения\n",
    "list_of_symb = list('ALPKSWOMBT')\n",
    "\n",
    "import numpy as np\n",
    "\n",
    "def sum_random_symbols(some_string):\n",
    "    list_of_symb = list('ALPKSWOMBT')\n",
    "    rand_charge_dic = {}\n",
    "    for index, symb in enumerate(list_of_symb):\n",
    "        if index <= 4:\n",
    "            rand_charge_dic.update([(symb, np.random.randint(1,5))])\n",
    "        else:\n",
    "            rand_charge_dic.update([(symb, np.random.randint(-5,-1))])\n",
    "    tmp = 0\n",
    "    for char in some_string:\n",
    "        tmp += rand_charge_dic[char]\n",
    "    print(some_string)\n",
    "    print(rand_charge_dic)\n",
    "    print(f'Sum of numbers: {tmp}')\n",
    "    return(tmp)\n",
    "\n",
    "random_string = ''\n",
    "for i in range(30):\n",
    "    random_string = random_string + np.random.choice(list('ALPKSWOMBT'))\n",
    "sum_random_symbols(random_string)"
   ]
  },
  {
   "cell_type": "markdown",
   "metadata": {},
   "source": [
    "# Задача 4\n",
    "\n",
    "Напишите функцию, которая принимает и сортирует буквы в строке в зависимости от регистра. Также данная функция должна посчитать, сколько гласных и сколько согласных букв в передаваемой ей строке"
   ]
  },
  {
   "cell_type": "code",
   "execution_count": 34,
   "metadata": {},
   "outputs": [
    {
     "name": "stdout",
     "output_type": "stream",
     "text": [
      "ВЕСЯаааагдддееезиииклллнннопррсссушяя\n",
      "Number of vowels: 16\n",
      "Number of consonants: 21\n"
     ]
    }
   ],
   "source": [
    "# Место для решения\n",
    "first_string = 'Я сегодня пришел на курс и сделал ВСЕ задания'\n",
    "\n",
    "def sort_and_count(some_string):\n",
    "    some_string = some_string.replace(' ', '')\n",
    "    some_string_to_list = list(some_string)\n",
    "    some_string_to_list.sort()\n",
    "    print(''.join(some_string_to_list))\n",
    "    number_of_vowels = 0\n",
    "    number_of_consonants = 0\n",
    "    list_of_vowels = list('ауоыиэяюёеАУОЫИЭЯЮЁЕ')\n",
    "    for char in some_string:\n",
    "        if char in list_of_vowels:\n",
    "            number_of_vowels += 1\n",
    "        else:\n",
    "            number_of_consonants += 1\n",
    "    print(f'Number of vowels: {number_of_vowels}')\n",
    "    print(f'Number of consonants: {number_of_consonants}')\n",
    "\n",
    "sort_and_count(first_string)"
   ]
  },
  {
   "cell_type": "markdown",
   "metadata": {},
   "source": [
    "# Задача 5\n",
    "\n",
    "Напишите функцию, которая принимает 2 последовательности и затем выравнивает их, относительно друг друга.\n",
    "\n",
    "Последовательности:\n",
    "ATTGCGAAATTATAT\n",
    "\n",
    "TATATGTTAAAGCGAGCATGGGCGAT"
   ]
  },
  {
   "cell_type": "code",
   "execution_count": 36,
   "metadata": {},
   "outputs": [
    {
     "ename": "IndentationError",
     "evalue": "expected an indented block (Temp/ipykernel_6388/671738341.py, line 8)",
     "output_type": "error",
     "traceback": [
      "\u001b[1;36m  File \u001b[1;32m\"C:\\Users\\User\\AppData\\Local\\Temp/ipykernel_6388/671738341.py\"\u001b[1;36m, line \u001b[1;32m8\u001b[0m\n\u001b[1;33m    \u001b[0m\n\u001b[1;37m    ^\u001b[0m\n\u001b[1;31mIndentationError\u001b[0m\u001b[1;31m:\u001b[0m expected an indented block\n"
     ]
    }
   ],
   "source": [
    "# Место для решения\n",
    "first_seq = 'ATTGCGAAATTATAT'\n",
    "second_seq = 'TATATGTTAAAGCGAGCATGGGCGAT'\n",
    "\n",
    "def align_seq(first_seq, second_seq):\n",
    "    number_of_duplicate = 0\n",
    "    for char in second_seq:\n",
    "        "
   ]
  },
  {
   "cell_type": "code",
   "execution_count": null,
   "metadata": {},
   "outputs": [],
   "source": []
  }
 ],
 "metadata": {
  "kernelspec": {
   "display_name": "Python 3 (ipykernel)",
   "language": "python",
   "name": "python3"
  },
  "language_info": {
   "codemirror_mode": {
    "name": "ipython",
    "version": 3
   },
   "file_extension": ".py",
   "mimetype": "text/x-python",
   "name": "python",
   "nbconvert_exporter": "python",
   "pygments_lexer": "ipython3",
   "version": "3.9.7"
  }
 },
 "nbformat": 4,
 "nbformat_minor": 4
}
