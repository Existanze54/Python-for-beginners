{
 "cells": [
  {
   "cell_type": "markdown",
   "metadata": {},
   "source": [
    "# Задача 1\n",
    "\n",
    "Вам дана строка: Я сегодня пришел на курс и сделал ВСЕ заданя. Верните строку, в которой все символы будут отсортированы в алфавитном порядке"
   ]
  },
  {
   "cell_type": "code",
   "execution_count": 2,
   "metadata": {},
   "outputs": [
    {
     "name": "stdout",
     "output_type": "stream",
     "text": [
      "аааавгдддеееезиииклллнннопррссссушяяя\n"
     ]
    }
   ],
   "source": [
    "# Место для решения\n",
    "first_string = 'Я сегодня пришел на курс и сделал ВСЕ задания'\n",
    "first_string = first_string.replace(' ', '')\n",
    "first_string_to_list = [char.lower() for char in first_string]\n",
    "first_string_to_list.sort()\n",
    "print(''.join(first_string_to_list))"
   ]
  },
  {
   "cell_type": "markdown",
   "metadata": {},
   "source": [
    "# Задача 2\n",
    "\n",
    "Вам даны 2 списка. Задача расшифровать едложение. Задача найти такие символы, которые есть в обоих списках, получить их в том порядке, в котором они должны следовать и перевести их из кодировки ASCII в буквенную кодировку (для этого используйте функцию chr)\n",
    "\n",
    "[5, 5, 89, 1, 1, 13, 6, 10, 9, 111, 10, 117, 13, 6, 11, 8, 2, 6, 6, 32, 114, 6, 101, 10, 3, 0, 10, 13, 0, 6, 7, 1, 4, 1, 2, 3, 1, 12, 1, 10, 6, 13, 5, 7, 11, 97, 12, 12, 5, 8, 108, 3, 1, 5, 10, 9, 6, 121, 10, 6, 13, 32, 1, 2, 6, 100, 111, 32, 4, 3, 0, 105, 2, 13, 116, 63]\n",
    "\n",
    "\n",
    "[20, 21, 15, 18, 19, 89, 27, 27, 23, 111, 18, 16, 24, 18, 18, 23, 21, 28, 23, 24, 19, 16, 15, 18, 117, 24, 24, 23, 32, 28, 114, 22, 16, 28, 101, 22, 97, 19, 108, 121, 23, 23, 24, 20, 32, 20, 100, 25, 111, 26, 16, 17, 32, 105, 116, 63]\n",
    "\n",
    "\n"
   ]
  },
  {
   "cell_type": "code",
   "execution_count": 3,
   "metadata": {},
   "outputs": [
    {
     "name": "stdout",
     "output_type": "stream",
     "text": [
      "You realy do it?\n",
      "You realy do it?\n"
     ]
    }
   ],
   "source": [
    "# Место для решения\n",
    "first_list = [5, 5, 89, 1, 1, 13, 6, 10, 9, 111, 10, 117, 13, 6, 11, 8, 2, 6, 6, 32, 114, 6, 101, \\\n",
    "              10, 3, 0, 10, 13, 0, 6, 7, 1, 4, 1, 2, 3, 1, 12, 1, 10, 6, 13, 5, 7, 11, 97, 12, 12, 5, 8, 108, \\\n",
    "              3, 1, 5, 10, 9, 6, 121, 10, 6, 13, 32, 1, 2, 6, 100, 111, 32, 4, 3, 0, 105, 2, 13, 116, 63]\n",
    "second_list = [20, 21, 15, 18, 19, 89, 27, 27, 23, 111, 18, 16, 24, 18, 18, 23, 21, 28, 23, 24, 19, \\\n",
    "               16, 15, 18, 117, 24, 24, 23, 32, 28, 114, 22, 16, 28, 101, 22, 97, 19, 108, 121, 23, 23, \\\n",
    "               24, 20, 32, 20, 100, 25, 111, 26, 16, 17, 32, 105, 116, 63]\n",
    "first_list_unique = set(first_list)\n",
    "second_list_unique = set(second_list)\n",
    "list_of_duplicate = []\n",
    "for elem in first_list_unique:\n",
    "    if elem in second_list_unique:\n",
    "        list_of_duplicate.append(elem)\n",
    "        \n",
    "first_string = ''\n",
    "second_string = ''\n",
    "    \n",
    "for elem in first_list:\n",
    "    if elem in list_of_duplicate:\n",
    "        first_string = first_string + chr(elem)\n",
    "\n",
    "for elem in second_list:\n",
    "    if elem in list_of_duplicate:\n",
    "        second_string = second_string + chr(elem)\n",
    "    \n",
    "print(first_string)\n",
    "print(second_string)"
   ]
  },
  {
   "cell_type": "markdown",
   "metadata": {},
   "source": [
    "# Задача 3\n",
    "\n",
    "- напишите функцию, которая принимает строку. В строке могут находиться символы 'ALPAKWOMBT'\n",
    "- внутри этой функции создайте структуру данных которая бы хранила эти символы и присудите первым пяти из них какое-то целое число от 1 до 5, а вторым 5 какое-то отрицательное число, от -1 до -5\n",
    "- сгенерируйте случайну строку из этих символов длинной 30 и посчитайте сумму всех чисел в строке. Какие символы победили?"
   ]
  },
  {
   "cell_type": "code",
   "execution_count": 5,
   "metadata": {},
   "outputs": [
    {
     "data": {
      "text/plain": [
       "['A', 'L', 'P', 'A', 'K', 'W', 'O', 'M', 'B', 'T']"
      ]
     },
     "execution_count": 5,
     "metadata": {},
     "output_type": "execute_result"
    }
   ],
   "source": [
    "# Место для решения\n",
    "list_of_symb = list('ALPAKWOMBT')\n",
    "list_of_symb"
   ]
  },
  {
   "cell_type": "markdown",
   "metadata": {},
   "source": [
    "# Задача 4\n",
    "\n",
    "Напишите функцию, которая принимает и сортирует буквы в строке в зависимости от регистра. Также данная функция должна посчитать, сколько гласных и сколько согласных букв в передаваемой ей строке"
   ]
  },
  {
   "cell_type": "code",
   "execution_count": null,
   "metadata": {},
   "outputs": [],
   "source": [
    "# Место для решения"
   ]
  },
  {
   "cell_type": "markdown",
   "metadata": {},
   "source": [
    "# Задача 5\n",
    "\n",
    "Напишите функцию, которая принимает 2 последовательности и затем выравнивает их, относительно друг друга.\n",
    "\n",
    "Последовательности:\n",
    "ATTGCGAAATTATAT\n",
    "\n",
    "TATATGTTAAAGCGAGCATGGGCGAT"
   ]
  },
  {
   "cell_type": "code",
   "execution_count": null,
   "metadata": {},
   "outputs": [],
   "source": [
    "# Место для решения"
   ]
  }
 ],
 "metadata": {
  "kernelspec": {
   "display_name": "Python 3 (ipykernel)",
   "language": "python",
   "name": "python3"
  },
  "language_info": {
   "codemirror_mode": {
    "name": "ipython",
    "version": 3
   },
   "file_extension": ".py",
   "mimetype": "text/x-python",
   "name": "python",
   "nbconvert_exporter": "python",
   "pygments_lexer": "ipython3",
   "version": "3.9.7"
  }
 },
 "nbformat": 4,
 "nbformat_minor": 4
}
