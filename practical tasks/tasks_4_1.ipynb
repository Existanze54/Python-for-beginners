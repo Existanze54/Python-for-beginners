{
 "cells": [
  {
   "cell_type": "markdown",
   "metadata": {},
   "source": [
    "### Задача 1\n",
    "Попробуйте модифицировать данное регулярное выражение для телефонного номера так, чтобы оно допускало отсутствие дефисов, а также кода страны и города."
   ]
  },
  {
   "cell_type": "code",
   "execution_count": 9,
   "metadata": {},
   "outputs": [
    {
     "name": "stdout",
     "output_type": "stream",
     "text": [
      "<re.Match object; span=(0, 7), match='3452823'>\n"
     ]
    }
   ],
   "source": [
    "import re\n",
    "s = '3452823'\n",
    "\n",
    "#regexp = re.compile('\\d{1}-\\d{3}-\\d{3}-\\d{2}-\\d{2}')\n",
    "regexp = re.compile('\\d{0,1}-{0,1}(\\d{3}|\\d{0})-{0,1}\\d{3}-{0,1}\\d{2}-{0,1}\\d{2}')\n",
    "print(regexp.search(s))"
   ]
  },
  {
   "cell_type": "markdown",
   "metadata": {},
   "source": [
    "### Задача 2\n",
    "Напишите регулярное выражение, описывающая стоп-кодоны: UAA, UAG, UGA. Модифицируйте ваше решение задачи №6 из практических задач tasks_3_1 так, чтобы были использованы регулярные выражения"
   ]
  },
  {
   "cell_type": "code",
   "execution_count": 1,
   "metadata": {},
   "outputs": [
    {
     "name": "stdout",
     "output_type": "stream",
     "text": [
      "{'GUAGGTUAAUGATUGGUGAAGTUGGUAAAUTATTTAGGTGAGGUGGTGGTATGUAUUTGUTGTATAAUAUATAGTUUAUTAGGTTGGAGU': 2, 'GGTATATAGAAGUGAUAAAUUTAGTUUAATGATUGAUATGAAUGUTGGAGUGTTAATTAATUGUAGUGAAUUAAUTTGGGTAAUAAGUGT': 5, 'GGTAAGATAAAUAUAUTGUUGGAAUTUAATATAUTTTUATTGGUGTGUGGGTAGGGTUTTUUATTGAATTGGGUAUGAGAATTUATTGTG': 1, 'TTUGTAGTUTAUGGTTGTATGTTTGUTGUAUAAGUGGAGGTGAUTGGUATUAUAGUUATTTUAAAAGTAGGATATAUAAUAGUGTGTAUG': 1, 'UGUUAAAAAGGGGTGATAGGUAGTAUAGAUAAAUGGAUTTTAGUGATUUGAGTATTTUGTUATUAGATAGGUGTAUTTTTATAUTTAAGT': 3, 'AUAAUTUAGATGUUGUUUTGGTGTATTGUAGUGUTTUTGTAUUGTTUTAGAAAGUGGUTAAUGAUUUAUTUATGGAUTAGTGTTUAAATT': 2, 'GTTGGTGGTAGGAUAUAGGGAGAATGGUGTUTGUTUTTATAUGGUTUAUAGAGGUAGTUUUAATAGUTUGGTTUTGGTAUGUUGUTAGTU': 4, 'AAATGUAGUGGGUGUGTTGAAGTAGAGGUUUGAGGTAATUAGTGUTAUUUUAUAAAGGTGATUGTGTGTAATATGGGAGGGUAGTGATTT': 3, 'GGUAUUATTGTTATGTTAAGUGGGGGUTGTGUTTGTUGAGAGGUAGUGAGGGAUATTGGAUUUAUTGUTAGAUAGGTAATTAGTUTTAUT': 2, 'AGATATGATTUTTGGTUGTUTUAGTUGATAAGGGTGUGAGGAGAATATATTTAGGTAUATTGUAAGTTUUGGAGAGTATTUGTTGUTUAT': 2, 'TGGGUAUAUUGAUGAUAUATGUUGUAGGTGAAAUTTGAAATGTAATUTTAATUUAATUGGAGTTGUUGTAATAGAUTUGAUGUUUAUTGG': 3, 'UTAUUTTGAAGTUUTTTUAAUTUUUUAGTUAATUUGTUATUAAGGTGATAGGGUUATTAAAGTUTGGUUUAGGTUTUAGGGGGUUGUTTG': 1, 'AGAAGTAGAUTUAUATTAAUUAUUGTAGAUUGAUUGTUGGGUGUGUGTTTAGUATTGATGUTTTUTTAGTUUTUGTTGUTAGTTTGUTUG': 1, 'GTTTGTAUGUTUGUAUATUGATUUTTGTGTUTUTAAGUTTATGGAAATTGUUTAAAUGTGATGTTAGTATATGUGAGATTATAATUUUGU': 1, 'TATATTATTTAATTTTATTAGUTUUGUUGTAAUTTTTAGAAATTAAAAGUTTUGUATATTUAAAUATAATTTUUUUUUUUUGTATUTUGG': 1, 'GGUTAGGUGTTGGTTUUAAUTAGTUGUGGGTAGAATTGUGAAUTAGGGTUGGUTTTUTUAATUGTAUAUUAGUATTUUGGTGUGUGTAGA': 1, 'AGATGTUAGTUUUUTUGGTAGTTTUTTUTAGATUGUUTAAUGAUAGAUTAATGTUGTGGUGUGAAGUTUAGUATAGUATAUTGAGAUTGU': 1, 'GUUGTGGGGAUTGUTTUAUAGAUUGTTUTGTTUTGAGTAGTGUUUGUAUTGTGGATTATATUTGTATTAAUGTAGTGATAAGTUUGGTUU': 1, 'AGTTTGTUGUUGTUTUAGAUTGAAUAGAUTGUGUTAAGATATGGTUUGAUAGATATGUUTAUUTUATAAGGGGUAAGUTGAAGAGTTATT': 2, 'TATAATUGAGAUAUGGTAGGAAATAUTATGGAUAAUAGGGGUTGAUAUTUTUUATGAUGUTGATAGAGAAAATGGGAAGTGUUUTATGGG': 1}\n",
      "\n"
     ]
    }
   ],
   "source": [
    "# Место для решения\n",
    "import re\n",
    "regexp = re.compile('UA[AG]|UGA')\n",
    "\n",
    "import random\n",
    "list_of_nucleotides = ['A', 'U', 'G', 'T']\n",
    "list_of_random_unique_sequence = list(set([''.join([random.choice(list_of_nucleotides) for i in range(90)]) for j in range(30)]))\n",
    "\n",
    "result_dic = {}\n",
    "for seq in list_of_random_unique_sequence:\n",
    "    index = 0\n",
    "    tmp = 0\n",
    "    if regexp.search(seq):\n",
    "        while regexp.search(seq[index:]):\n",
    "            if regexp.search(seq[index:]).start() % 3 == 0: \n",
    "                tmp += 1\n",
    "                index += regexp.search(seq[index:]).end()\n",
    "            elif (regexp.search(seq[index:]).start() - 1) % 3 == 0: index += regexp.search(seq[index:]).start() + 2\n",
    "            else: index += regexp.search(seq[index:]).start() + 1\n",
    "    if tmp > 0: result_dic.update([(seq, tmp)]) \n",
    "\n",
    "print(result_dic, end = '\\n\\n')"
   ]
  },
  {
   "cell_type": "markdown",
   "metadata": {},
   "source": [
    "### Задача 3\n",
    "Напишите скрипт для поиска десятичных дробей (разделитель - .) меньше 5 в строке. Результатом выполнения программы должен быть список"
   ]
  },
  {
   "cell_type": "code",
   "execution_count": null,
   "metadata": {},
   "outputs": [
    {
     "name": "stdout",
     "output_type": "stream",
     "text": [
      "['1.5', '0.11', '4.5']\n"
     ]
    }
   ],
   "source": [
    "s = '6.12 .5 12 альпака 0,23 0,24 1.5 0.11 32 4.5'\n",
    "\n",
    "# Место для решения\n",
    "import re\n",
    "\n",
    "regexp = re.compile('\\d+\\.\\d*')\n",
    "first_list = [fraction for fraction in regexp.findall(s) if float(fraction) <= 5]\n",
    "print(first_list)"
   ]
  },
  {
   "cell_type": "markdown",
   "metadata": {},
   "source": [
    "### Задача 4\n",
    "В результате выполнения пайплайна был получен файл assoc_tab.txt в директории lections/files_and_images. Однако вместо стандартных разделителей в нём используются последовательности пробелов произвольной длины. Напишите программу, конвертирующую данный файл в формат CSV"
   ]
  },
  {
   "cell_type": "code",
   "execution_count": 54,
   "metadata": {},
   "outputs": [],
   "source": [
    "# Место для решения\n",
    "import os\n",
    "path_to_code = os.getcwd()\n",
    "path_to_inp_file = os.path.join(path_to_code, os.pardir, 'lections', 'files_and_images', 'assoc_tab.txt')\n",
    "path_to_out_file = os.path.join(path_to_code, 'tasks_4_1_tab_to_csv.txt')\n",
    "\n",
    "import re\n",
    "regexp = re.compile(r' +')\n",
    "regexp_start = re.compile(r'^ +')\n",
    "regexp_end = re.compile(r' +$')\n",
    "with open(path_to_inp_file, 'r') as inp_file:\n",
    "    original_table = inp_file.readlines()\n",
    "\n",
    "with open(path_to_out_file, 'w') as out_file:\n",
    "    for elem in original_table:\n",
    "        elem = regexp_start.sub('', elem)\n",
    "        elem = regexp_end.sub('', elem)\n",
    "        elem = regexp.sub('\\t', elem)\n",
    "        out_file.write(elem)"
   ]
  },
  {
   "cell_type": "markdown",
   "metadata": {},
   "source": [
    "### Задача 5\n",
    "В файле quote.txt, расположенном в директории lections/files_and_images, содержится текст. Напищите программу, выводящую ввиде списка первые три буквы каждого слова"
   ]
  },
  {
   "cell_type": "code",
   "execution_count": 86,
   "metadata": {},
   "outputs": [
    {
     "name": "stdout",
     "output_type": "stream",
     "text": [
      "In a hole in the ground there lived a hobbit. Not a nasty, dirty, wet hole, filled with the ends of worms and an oozy smell, nor yet a dry, bare, sandy hole with nothing in it to sit down on or to eat: it was a hobbit-hole, and that means comfort.\n",
      "\n",
      "['In', 'a', 'hole', 'in', 'the', 'ground', 'there', 'lived', 'a', 'hobbit', 'Not', 'a', 'nasty', 'dirty', 'wet', 'hole', 'filled', 'with', 'the', 'ends', 'of', 'worms', 'and', 'an', 'oozy', 'smell', 'nor', 'yet', 'a', 'dry', 'bare', 'sandy', 'hole', 'with', 'nothing', 'in', 'it', 'to', 'sit', 'down', 'on', 'or', 'to', 'eat', 'it', 'was', 'a', 'hobbit', 'hole', 'and', 'that', 'means', 'comfort']\n",
      "\n",
      "['in', 'a', 'hol', 'in', 'the', 'gro', 'the', 'liv', 'a', 'hob', 'not', 'a', 'nas', 'dir', 'wet', 'hol', 'fil', 'wit', 'the', 'end', 'of', 'wor', 'and', 'an', 'ooz', 'sme', 'nor', 'yet', 'a', 'dry', 'bar', 'san', 'hol', 'wit', 'not', 'in', 'it', 'to', 'sit', 'dow', 'on', 'or', 'to', 'eat', 'it', 'was', 'a', 'hob', 'hol', 'and', 'tha', 'mea', 'com']\n"
     ]
    }
   ],
   "source": [
    "# Место для решения\n",
    "import os\n",
    "path_to_code = os.getcwd()\n",
    "path_to_inp_file = os.path.join(path_to_code, os.pardir, 'lections', 'files_and_images', 'quote.txt')\n",
    "\n",
    "import re\n",
    "regexp = re.compile(r'[a-zA-Z]+')\n",
    "with open(path_to_inp_file, 'r') as inp_file:\n",
    "    original_string = inp_file.read()\n",
    "print(original_string)\n",
    "    \n",
    "list_of_words = regexp.findall(original_string)\n",
    "print(list_of_words, end = '\\n\\n')\n",
    "result_list = []\n",
    "for word in list_of_words:\n",
    "    if len(word) >= 3: result_list.append(word[0:3].lower())\n",
    "    else: result_list.append(word.lower())\n",
    "print(result_list)\n",
    "    "
   ]
  },
  {
   "cell_type": "markdown",
   "metadata": {},
   "source": [
    "### Задача 6\n",
    "В файле quote.txt, расположенном в директории lections/files_and_images, содержится текст. Напищите программу, выводящую ввиде строки (с пробелом в качестве разделителя) все слова, начинающиеся с глассной буквы."
   ]
  },
  {
   "cell_type": "code",
   "execution_count": 87,
   "metadata": {},
   "outputs": [
    {
     "name": "stdout",
     "output_type": "stream",
     "text": [
      "In a hole in the ground there lived a hobbit. Not a nasty, dirty, wet hole, filled with the ends of worms and an oozy smell, nor yet a dry, bare, sandy hole with nothing in it to sit down on or to eat: it was a hobbit-hole, and that means comfort.\n",
      "\n",
      "['In', 'a', 'in', 'a', 'a', 'ends', 'of', 'and', 'an', 'oozy', 'yet', 'a', 'in', 'it', 'on', 'or', 'eat', 'it', 'a', 'and']\n",
      "In a in a a ends of and an oozy yet a in it on or eat it a and\n"
     ]
    }
   ],
   "source": [
    "# Место для решения\n",
    "import os\n",
    "path_to_code = os.getcwd()\n",
    "path_to_inp_file = os.path.join(path_to_code, os.pardir, 'lections', 'files_and_images', 'quote.txt')\n",
    "\n",
    "import re\n",
    "regexp_vowels = re.compile(r'\\b[aeiouyAEIOUY][a-zA-Z]*')\n",
    "with open(path_to_inp_file, 'r') as inp_file:\n",
    "    original_string = inp_file.read()\n",
    "print(original_string)\n",
    "    \n",
    "list_of_words_from_vowels = regexp_vowels.findall(original_string)\n",
    "print(list_of_words_from_vowels)\n",
    "string_of_words_from_vowels = ' '.join(list_of_words_from_vowels)\n",
    "print(string_of_words_from_vowels)\n"
   ]
  },
  {
   "cell_type": "markdown",
   "metadata": {},
   "source": [
    "### Задача 7\n",
    "Дан файл sites.bed (в директории lections/files_and_images) вида \"имя_хромосомы\"\\t\"старт\"\\t\"конец\", содержащий координаты сайтов. Используя регулярные выражения, посчитайте среднюю длину и медиану интервала в данном файле."
   ]
  },
  {
   "cell_type": "code",
   "execution_count": 109,
   "metadata": {},
   "outputs": [
    {
     "name": "stdout",
     "output_type": "stream",
     "text": [
      "chr1\t867265\t867349\n",
      "chr1\t879522\t879606\n",
      "chr1\t919742\t919826\n",
      "chr1\t925494\t925578\n",
      "chr1\t944316\t944407\n",
      "chr1\t958810\t958894\n",
      "chr1\t961994\t962078\n",
      "chr1\t1037038\t1037122\n",
      "chr1\t1060109\t1060126\n",
      "chr1\t1077509\t1077593\n",
      "chr1\t1095160\t1095244\n",
      "chr1\t1151314\t1151398\n",
      "chr1\t1193642\t1193726\n",
      "chr1\t1201213\t1201297\n",
      "chr1\t1313813\t1313897\n",
      "chr1\t1315854\t1315938\n",
      "chr1\t1325748\t1325832\n",
      "chr1\t1370682\t1370766\n",
      "chr1\t1372748\t1372832\n",
      "chr1\t1444436\t1444520\n",
      "\n",
      "[('chr1', '867265', '867349'), ('chr1', '879522', '879606'), ('chr1', '919742', '919826'), ('chr1', '925494', '925578'), ('chr1', '944316', '944407'), ('chr1', '958810', '958894'), ('chr1', '961994', '962078'), ('chr1', '1037038', '1037122'), ('chr1', '1060109', '1060126'), ('chr1', '1077509', '1077593'), ('chr1', '1095160', '1095244'), ('chr1', '1151314', '1151398'), ('chr1', '1193642', '1193726'), ('chr1', '1201213', '1201297'), ('chr1', '1313813', '1313897'), ('chr1', '1315854', '1315938'), ('chr1', '1325748', '1325832'), ('chr1', '1370682', '1370766'), ('chr1', '1372748', '1372832'), ('chr1', '1444436', '1444520')]\n",
      "\n",
      "[17, 84, 84, 84, 84, 84, 84, 84, 84, 84, 84, 84, 84, 84, 84, 84, 84, 84, 84, 91]\n",
      "mean_value = 81.0\n",
      "median_value = 84.0\n"
     ]
    }
   ],
   "source": [
    "# Место для решения\n",
    "import os\n",
    "path_to_code = os.getcwd()\n",
    "path_to_inp_file = os.path.join(path_to_code, os.pardir, 'lections', 'files_and_images', 'sites.bed')\n",
    "\n",
    "import re\n",
    "regexp = re.compile(r'(?P<chr>chr[0-9]+|[XMY]{1})\\t(?P<start>[0-9]+)\\t(?P<end>[0-9]+)')\n",
    "with open(path_to_inp_file, 'r') as inp_file:\n",
    "    original_string = inp_file.read()\n",
    "print(original_string)\n",
    "\n",
    "list_of_chromosomes = regexp.findall(original_string)\n",
    "print(list_of_chromosomes, end = '\\n\\n')\n",
    "\n",
    "mean_value = 0\n",
    "madian_value = 0\n",
    "list_of_len = []\n",
    "for elem in list_of_chromosomes:\n",
    "    list_of_len.append(int(elem[2]) - int(elem[1]))\n",
    "list_of_len.sort()\n",
    "print(list_of_len)\n",
    "\n",
    "mean_value = sum(list_of_len) / len(list_of_len)\n",
    "print(f'mean_value = {mean_value}')\n",
    "if len(list_of_len) % 2 != 0: median_value = list_of_len[int((len(list_of_len) - 1) / 2)]\n",
    "else: median_value = (list_of_len[int(len(list_of_len) / 2)] + list_of_len[int((len(list_of_len) / 2) - 1)]) / 2\n",
    "print(f'median_value = {median_value}')"
   ]
  },
  {
   "cell_type": "markdown",
   "metadata": {},
   "source": [
    "### Задача 8\n",
    "В директории lections/files_and_images располагается файл exp_submission_dates.tab. В данном файле первая колонка содержит идентификатор эксперимента, а вторая колонка - дату публикации данных (раделитель - таб). Обратите внимание, что в файле встречаются идентификаторы двух типов: EXP###### и HEXP######. Напишите программу, которая отбирает эксперименты с идентификатором вида EXP######, опубликованные после 2016 года. Результатом выполнения программы должен быть словарь, где ключ - идентификатор эксперимента, а значение - дата публикации."
   ]
  },
  {
   "cell_type": "code",
   "execution_count": 137,
   "metadata": {},
   "outputs": [
    {
     "name": "stdout",
     "output_type": "stream",
     "text": [
      "EXP040082\t2015-12-16\n",
      "EXP040266\t2016-05-13\n",
      "EXP045112\t2018-03-06\n",
      "EXP040218\t2016-03-14\n",
      "HEXP000520\t2019-04-27\n",
      "EXP045171\t2014-12-17\n",
      "EXP040303\t2017-01-27\n",
      "HEXP000115\t2019-04-27\n",
      "EXP039874\t2016-05-13\n",
      "EXP039521\t2014-07-04\n",
      "EXP039233\t2016-12-15\n",
      "EXP045242\t2016-03-14\n",
      "EXP044887\t2016-04-29\n",
      "EXP040201\t2016-10-08\n",
      "EXP044788\t2016-07-29\n",
      "\n",
      "[('EXP044887', '2016', '04', '29'), ('EXP040266', '2016', '05', '13'), ('EXP044788', '2016', '07', '29'), ('EXP045112', '2018', '03', '06'), ('EXP040218', '2016', '03', '14'), ('EXP040201', '2016', '10', '08'), ('EXP045171', '2014', '12', '17'), ('EXP040303', '2017', '01', '27'), ('EXP045242', '2016', '03', '14'), ('EXP039521', '2014', '07', '04'), ('EXP040082', '2015', '12', '16'), ('EXP039233', '2016', '12', '15'), ('EXP039874', '2016', '05', '13')]\n",
      "\n",
      "{'EXP045112': '2018-03-06', 'EXP040303': '2017-01-27'}\n"
     ]
    }
   ],
   "source": [
    "# Место для решения\n",
    "import os\n",
    "path_to_code = os.getcwd()\n",
    "path_to_inp_file = os.path.join(path_to_code, os.pardir, 'lections', 'files_and_images', 'exp_submission_dates.tab')\n",
    "\n",
    "import re\n",
    "regexp = re.compile(r'(?P<id>\\bEXP[0-9]+)\\t(?P<year>\\d{4})-(?P<month>\\d{2})-(?P<day>\\d{2})')\n",
    "with open(path_to_inp_file, 'r') as inp_file:\n",
    "    original_string = inp_file.read()\n",
    "print(original_string)\n",
    "\n",
    "list_of_unique_exp = list(set(regexp.findall(original_string)))\n",
    "print(list_of_unique_exp, end = '\\n\\n')\n",
    "\n",
    "result_dic = {}\n",
    "for elem in list_of_unique_exp:\n",
    "    if int(elem[1]) > 2016: result_dic.update([(elem[0], f'{elem[1]}-{elem[2]}-{elem[3]}')])\n",
    "print(result_dic)"
   ]
  },
  {
   "cell_type": "code",
   "execution_count": null,
   "metadata": {},
   "outputs": [],
   "source": []
  }
 ],
 "metadata": {
  "kernelspec": {
   "display_name": "Python 3 (ipykernel)",
   "language": "python",
   "name": "python3"
  },
  "language_info": {
   "codemirror_mode": {
    "name": "ipython",
    "version": 3
   },
   "file_extension": ".py",
   "mimetype": "text/x-python",
   "name": "python",
   "nbconvert_exporter": "python",
   "pygments_lexer": "ipython3",
   "version": "3.9.7"
  }
 },
 "nbformat": 4,
 "nbformat_minor": 4
}
