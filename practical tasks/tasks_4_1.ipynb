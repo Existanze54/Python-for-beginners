{
 "cells": [
  {
   "cell_type": "markdown",
   "metadata": {},
   "source": [
    "### Задача 1\n",
    "Попробуйте модифицировать данное регулярное выражение для телефонного номера так, чтобы оно допускало отсутствие дефисов, а также кода страны и города."
   ]
  },
  {
   "cell_type": "code",
   "execution_count": 9,
   "metadata": {},
   "outputs": [
    {
     "name": "stdout",
     "output_type": "stream",
     "text": [
      "<re.Match object; span=(0, 7), match='3452823'>\n"
     ]
    }
   ],
   "source": [
    "import re\n",
    "s = '3452823'\n",
    "\n",
    "#regexp = re.compile('\\d{1}-\\d{3}-\\d{3}-\\d{2}-\\d{2}')\n",
    "regexp = re.compile('\\d{0,1}-{0,1}(\\d{3}|\\d{0})-{0,1}\\d{3}-{0,1}\\d{2}-{0,1}\\d{2}')\n",
    "print(regexp.search(s))"
   ]
  },
  {
   "cell_type": "markdown",
   "metadata": {},
   "source": [
    "### Задача 2\n",
    "Напишите регулярное выражение, описывающая стоп-кодоны: UAA, UAG, UGA. Модифицируйте ваше решение задачи №6 из практических задач tasks_3_1 так, чтобы были использованы регулярные выражения"
   ]
  },
  {
   "cell_type": "code",
   "execution_count": 2,
   "metadata": {},
   "outputs": [
    {
     "name": "stdout",
     "output_type": "stream",
     "text": [
      "<re.Match object; span=(10, 13), match='UAG'>\n"
     ]
    }
   ],
   "source": [
    "# Место для решения\n",
    "import re\n",
    "\n",
    "random_sequence = 'AUUAUAUTAUUAGTUUGATTAGGGTGUGAGTAAAUGTTTUTAGAUGATAGTUGUTAGAUTUTTGTUUGTTGATATGUGUTUAUTGTGUTT'\n",
    "regexp = re.compile('U(A[A,G]|GA)')\n",
    "print(regexp.search(random_sequence))"
   ]
  },
  {
   "cell_type": "markdown",
   "metadata": {},
   "source": [
    "### Задача 3\n",
    "Напишите скрипт для поиска десятичных дробей (разделитель - .) меньше 5 в строке. Результатом выполнения программы должен быть список"
   ]
  },
  {
   "cell_type": "code",
   "execution_count": 7,
   "metadata": {},
   "outputs": [
    {
     "name": "stdout",
     "output_type": "stream",
     "text": [
      "['1.5', '0.11', '4.5']\n"
     ]
    }
   ],
   "source": [
    "s = '6.12 .5 12 альпака 0,23 0,24 1.5 0.11 32 4.5'\n",
    "\n",
    "# Место для решения\n",
    "import re\n",
    "\n",
    "regexp = re.compile('\\d+\\.\\d*')\n",
    "first_list = [fraction for fraction in regexp.findall(s) if float(fraction) <= 5]\n",
    "print(first_list)"
   ]
  },
  {
   "cell_type": "markdown",
   "metadata": {},
   "source": [
    "### Задача 4\n",
    "В результате выполнения пайплайна был получен файл assoc_tab.txt в директории lections/files_and_images. Однако вместо стандартных разделителей в нём используются последовательности пробелов произвольной длины. Напишите программу, конвертирующую данный файл в формат CSV"
   ]
  },
  {
   "cell_type": "code",
   "execution_count": 4,
   "metadata": {},
   "outputs": [
    {
     "name": "stdout",
     "output_type": "stream",
     "text": [
      "c:\\projects\\python-for-beginners\\practical tasks\n",
      "c:\\projects\\python-for-beginners\\practical tasks\\..\\lections\\files_and_images\n"
     ]
    }
   ],
   "source": [
    "# Место для решения\n",
    "import os\n",
    "# os.chdir(os.curdir)\n",
    "# cur_dir = os.getcwd()\n",
    "# os.chdir(os.pardir)\n",
    "# path_to_file = os.getcwd()\n",
    "# print(cur_dir)\n",
    "# print(path_to_file)\n",
    "#os.chdir(os.pardir)\n",
    "path_to_code = os.getcwd()\n",
    "print(path_to_code)\n",
    "path_to_file = os.path.join(path_to_code, os.pardir, 'lections', 'files_and_images')\n",
    "#path_to_file = os.chdir(os.pardir)\n",
    "print(path_to_file)"
   ]
  },
  {
   "cell_type": "code",
   "execution_count": null,
   "metadata": {},
   "outputs": [],
   "source": []
  },
  {
   "cell_type": "markdown",
   "metadata": {},
   "source": [
    "### Задача 5\n",
    "В файле quote.txt, расположенном в директории lections/files_and_images, содержится текст. Напищите программу, выводящую ввиде списка первые три буквы каждого слова"
   ]
  },
  {
   "cell_type": "code",
   "execution_count": 1,
   "metadata": {},
   "outputs": [],
   "source": [
    "# Место для решения"
   ]
  },
  {
   "cell_type": "markdown",
   "metadata": {},
   "source": [
    "### Задача 6\n",
    "В файле quote.txt, расположенном в директории lections/files_and_images, содержится текст. Напищите программу, выводящую ввиде строки (с пробелом в качестве разделителя) все слова, начинающиеся с глассной буквы."
   ]
  },
  {
   "cell_type": "code",
   "execution_count": 1,
   "metadata": {},
   "outputs": [],
   "source": [
    "# Место для решения"
   ]
  },
  {
   "cell_type": "markdown",
   "metadata": {},
   "source": [
    "### Задача 7\n",
    "Дан файл sites.bed (в директории lections/files_and_images) вида \"имя_хромосомы\"\\t\"старт\"\\t\"конец\", содержащий координаты сайтов. Используя регулярные выражения, посчитайте среднюю длину и медиану интервала в данном файле."
   ]
  },
  {
   "cell_type": "code",
   "execution_count": 1,
   "metadata": {},
   "outputs": [],
   "source": [
    "# Место для решения"
   ]
  },
  {
   "cell_type": "markdown",
   "metadata": {},
   "source": [
    "### Задача 8\n",
    "В директории lections/files_and_images располагается файл exp_submission_dates.tab. В данном файле первая колонка содержит идентификатор эксперимента, а вторая колонка - дату публикации данных (раделитель - таб). Обратите внимание, что в файле встречаются идентификаторы двух типов: EXP###### и HEXP######. Напишите программу, которая отбирает эксперименты с идентификатором вида EXP######, опубликованные после 2016 года. Результатом выполнения программы должен быть словарь, где ключ - идентификатор эксперимента, а значение - дата публикации."
   ]
  },
  {
   "cell_type": "code",
   "execution_count": 1,
   "metadata": {},
   "outputs": [],
   "source": [
    "# Место для решения"
   ]
  }
 ],
 "metadata": {
  "kernelspec": {
   "display_name": "Python 3 (ipykernel)",
   "language": "python",
   "name": "python3"
  },
  "language_info": {
   "codemirror_mode": {
    "name": "ipython",
    "version": 3
   },
   "file_extension": ".py",
   "mimetype": "text/x-python",
   "name": "python",
   "nbconvert_exporter": "python",
   "pygments_lexer": "ipython3",
   "version": "3.9.7"
  }
 },
 "nbformat": 4,
 "nbformat_minor": 4
}
