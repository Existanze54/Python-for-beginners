{
 "cells": [
  {
   "cell_type": "markdown",
   "metadata": {},
   "source": [
    "### Задача 1\n",
    "Выведите список видов (specie), описываемых в таблице chip_experiments "
   ]
  },
  {
   "cell_type": "code",
   "execution_count": 8,
   "metadata": {},
   "outputs": [
    {
     "name": "stdout",
     "output_type": "stream",
     "text": [
      "[('Homo sapiens',), ('Mus musculus',), ('Rattus norvegicus',), ('Schizosaccharomyces pombe',), ('Arabidopsis thaliana',), ('Saccharomyces cerevisiae',), ('Caenorhabditis elegans',), ('Drosophila melanogaster',)]\n"
     ]
    }
   ],
   "source": [
    "# Место для ответа\n",
    "import os\n",
    "path_to_code = os.getcwd()\n",
    "path_to_inp_database = os.path.join(path_to_code, os.pardir, 'lections', 'files_and_images', 'database.sqlite')\n",
    "\n",
    "import sqlite3\n",
    "con = sqlite3.connect(path_to_inp_database)\n",
    "cursor = con.cursor()\n",
    "\n",
    "result = cursor.execute('SELECT DISTINCT(specie) FROM chip_experiments')\n",
    "print(result.fetchall())"
   ]
  },
  {
   "cell_type": "markdown",
   "metadata": {},
   "source": [
    "### Задача 2\n",
    "Выведите колонки: id, treatment и cell_id первых 10 записей из таблицы dnase_experiments, упорядоченные по cell_id по убыванию."
   ]
  },
  {
   "cell_type": "code",
   "execution_count": 13,
   "metadata": {},
   "outputs": [
    {
     "data": {
      "text/plain": [
       "[('DEXP002972', '', 6646),\n",
       " ('DEXP002971', '', 6645),\n",
       " ('DEXP002970', '', 6644),\n",
       " ('DEXP002826', 'Treatment: DNase; GTRD_Rep_Group: 6', 6567),\n",
       " ('DEXP002827', 'Treatment: DNase; GTRD_Rep_Group: 6', 6567),\n",
       " ('DEXP002816', 'Treatment: DNase; GTRD_Rep_Group: 1', 6566),\n",
       " ('DEXP002815', 'Treatment: DNase', 6565),\n",
       " ('DEXP002822', 'Treatment: DNase; GTRD_Rep_Group: 4', 5892),\n",
       " ('DEXP002823', 'Treatment: DNase; GTRD_Rep_Group: 4', 5892),\n",
       " ('DEXP002969', '', 5345)]"
      ]
     },
     "execution_count": 13,
     "metadata": {},
     "output_type": "execute_result"
    }
   ],
   "source": [
    "# Место для ответа\n",
    "result = cursor.execute('SELECT id, treatment, cell_id FROM dnase_experiments ORDER BY cell_id DESC LIMIT 10')\n",
    "result.fetchall()"
   ]
  },
  {
   "cell_type": "markdown",
   "metadata": {},
   "source": [
    "### Задача 3\n",
    "Выведите 10 записей из таблицы cells, в которых title содержит слово \"cancer\". Ограничьте вывод только колонками id и title. Какой минимальный и максимальный идентификатор имеют эти записи (не ограничиваясь 10)?"
   ]
  },
  {
   "cell_type": "code",
   "execution_count": 22,
   "metadata": {},
   "outputs": [
    {
     "name": "stdout",
     "output_type": "stream",
     "text": [
      "[(66, 'prostate cancer'), (90, 'BicR (prostate cancer)'), (527, 'KSIC_c806 (pancreatic cancer)'), (555, \"LREX' (prostate cancer)\"), (557, 'LS180 (colon cancer)'), (558, 'LTED (breast cancer)'), (565, 'prostate cancer metastasis'), (586, 'MCFDCIS (breast cancer)'), (604, 'metastatic prostate cancer tissue'), (619, 'MMTV-PyMT breast cancer cells')]\n",
      "[(66, 6365)]\n"
     ]
    }
   ],
   "source": [
    "# Место для ответа\n",
    "result = cursor.execute(\"SELECT id, title FROM cells WHERE title LIKE '%cancer%' LIMIT 10\")\n",
    "print(result.fetchall())\n",
    "result = cursor.execute(\"SELECT MIN(id), MAX(id) FROM cells WHERE title LIKE '%cancer%'\")\n",
    "print(result.fetchall())"
   ]
  },
  {
   "cell_type": "markdown",
   "metadata": {},
   "source": [
    "### Задача 4\n",
    "Сколько записей с значением поля specie равного либо 'Homo sapiens' либо 'Drosophila melanogaster' присутствует в таблице chip_experiments?"
   ]
  },
  {
   "cell_type": "code",
   "execution_count": 27,
   "metadata": {},
   "outputs": [
    {
     "name": "stdout",
     "output_type": "stream",
     "text": [
      "[(1543,)]\n"
     ]
    }
   ],
   "source": [
    "# Место для ответа\n",
    "result = cursor.execute(\"SELECT COUNT(specie) FROM chip_experiments WHERE specie IN ('Homo sapiens', 'Drosophila')\")\n",
    "print(result.fetchall())"
   ]
  },
  {
   "cell_type": "markdown",
   "metadata": {},
   "source": [
    "### Задача 5\n",
    "Сгруппируйте записи таблицы chip_experiments по идентификатору транскрипционного фактора (tf_uniprot_db). Выведите на экран транскрипционные факторы и количество экспериментов, соответствующее им. Выведите на экран только ту часть таблицы, содержащую транскрипционные факторы, описанные в более чем 50 экспериментах"
   ]
  },
  {
   "cell_type": "code",
   "execution_count": 36,
   "metadata": {},
   "outputs": [
    {
     "name": "stdout",
     "output_type": "stream",
     "text": [
      "[('O60885', 76), ('P49711', 63)]\n"
     ]
    }
   ],
   "source": [
    "# Место для ответа\n",
    "cursor.execute(\"SELECT tf_uniprot_id, COUNT(tf_uniprot_id) AS count \"\n",
    "                        \"FROM chip_experiments GROUP BY tf_uniprot_id HAVING count > 50\")\n",
    "print(result.fetchall())"
   ]
  },
  {
   "cell_type": "markdown",
   "metadata": {},
   "source": [
    "### Задача 6\n",
    "Получите список идентификаторов клеточных типов (из таблицы cells), которые не встречаются в таблице cells. Сколько таких клеточных типов?"
   ]
  },
  {
   "cell_type": "code",
   "execution_count": 37,
   "metadata": {},
   "outputs": [
    {
     "ename": "OperationalError",
     "evalue": "ambiguous column name: id",
     "output_type": "error",
     "traceback": [
      "\u001b[1;31m---------------------------------------------------------------------------\u001b[0m",
      "\u001b[1;31mOperationalError\u001b[0m                          Traceback (most recent call last)",
      "\u001b[1;32m~\\AppData\\Local\\Temp/ipykernel_10900/2577726236.py\u001b[0m in \u001b[0;36m<module>\u001b[1;34m\u001b[0m\n\u001b[0;32m      4\u001b[0m \u001b[1;31m# print(result.fetchall())\u001b[0m\u001b[1;33m\u001b[0m\u001b[1;33m\u001b[0m\u001b[0m\n\u001b[0;32m      5\u001b[0m \u001b[1;33m\u001b[0m\u001b[0m\n\u001b[1;32m----> 6\u001b[1;33m result = cursor.execute(\"SELECT id, cell_id FROM dnase_experiments AS exps\"\n\u001b[0m\u001b[0;32m      7\u001b[0m                         \"LEFT JOIN cells ON exps.cell_id = cells.id\")\n\u001b[0;32m      8\u001b[0m \u001b[0mprint\u001b[0m\u001b[1;33m(\u001b[0m\u001b[0mresult\u001b[0m\u001b[1;33m.\u001b[0m\u001b[0mfetchall\u001b[0m\u001b[1;33m(\u001b[0m\u001b[1;33m)\u001b[0m\u001b[1;33m)\u001b[0m\u001b[1;33m\u001b[0m\u001b[1;33m\u001b[0m\u001b[0m\n",
      "\u001b[1;31mOperationalError\u001b[0m: ambiguous column name: id"
     ]
    }
   ],
   "source": [
    "# Место для ответа\n",
    "# cursor.execute(\"SELECT cell_id, COUNT(tf_uniprot_id) AS count \"\n",
    "#                         \"FROM chip_experiments GROUP BY tf_uniprot_id HAVING count > 50\")\n",
    "# print(result.fetchall())\n",
    "\n",
    "result = cursor.execute(\"SELECT id, cell_id FROM chip_experiments AS exps\"\n",
    "                        \"LEFT JOIN cells ON exps.cell_id = cells.id\")\n",
    "print(result.fetchall())\n",
    "\n",
    "# result = cursor.execute(\"SELECT id, cell_id FROM chip_experiments AS exps\"\n",
    "#                         \"LEFT JOIN cells ON exps.cell_id = cells.id\")"
   ]
  },
  {
   "cell_type": "markdown",
   "metadata": {},
   "source": [
    "### Задача 7\n",
    "Какое количество транскрипционных факторов описывается экспериментами из chip_experiments для клеточных типов: 514, 113, 546 и 27. Следует исключить эксперименты, относящиеся к контролю, т. е. эксперименты, содержащие в experiment_type слово control."
   ]
  },
  {
   "cell_type": "code",
   "execution_count": 43,
   "metadata": {},
   "outputs": [
    {
     "data": {
      "text/plain": [
       "[(89,)]"
      ]
     },
     "execution_count": 43,
     "metadata": {},
     "output_type": "execute_result"
    }
   ],
   "source": [
    "# Место для ответа\n",
    "result = cursor.execute(\"SELECT COUNT(tf_uniprot_id) FROM chip_experiments \"\n",
    "                        \"WHERE cell_id IN ('514', '113', '546', '27') AND experiment_type NOT IN ('%control%')\")\n",
    "result.fetchall()"
   ]
  },
  {
   "cell_type": "markdown",
   "metadata": {},
   "source": [
    "### Задача 8\n",
    "Получите список названий генов (gene_name) для всех экспериментов, содержащихся в таблице chip_experiments"
   ]
  },
  {
   "cell_type": "code",
   "execution_count": 46,
   "metadata": {},
   "outputs": [
    {
     "ename": "OperationalError",
     "evalue": "no such column: gene_name",
     "output_type": "error",
     "traceback": [
      "\u001b[1;31m---------------------------------------------------------------------------\u001b[0m",
      "\u001b[1;31mOperationalError\u001b[0m                          Traceback (most recent call last)",
      "\u001b[1;32m~\\AppData\\Local\\Temp/ipykernel_10900/1281186382.py\u001b[0m in \u001b[0;36m<module>\u001b[1;34m\u001b[0m\n\u001b[0;32m      1\u001b[0m \u001b[1;31m# Место для ответа\u001b[0m\u001b[1;33m\u001b[0m\u001b[1;33m\u001b[0m\u001b[0m\n\u001b[1;32m----> 2\u001b[1;33m \u001b[0mresult\u001b[0m \u001b[1;33m=\u001b[0m \u001b[0mcursor\u001b[0m\u001b[1;33m.\u001b[0m\u001b[0mexecute\u001b[0m\u001b[1;33m(\u001b[0m\u001b[1;34m'SELECT DISTINCT(gene_name) FROM chip_experiments'\u001b[0m\u001b[1;33m)\u001b[0m\u001b[1;33m\u001b[0m\u001b[1;33m\u001b[0m\u001b[0m\n\u001b[0m\u001b[0;32m      3\u001b[0m \u001b[1;31m#result = cursor.execute('SELECT * FROM chip_experiments LIMIT 5')\u001b[0m\u001b[1;33m\u001b[0m\u001b[1;33m\u001b[0m\u001b[0m\n\u001b[0;32m      4\u001b[0m \u001b[0mresult\u001b[0m\u001b[1;33m.\u001b[0m\u001b[0mfetchall\u001b[0m\u001b[1;33m(\u001b[0m\u001b[1;33m)\u001b[0m\u001b[1;33m\u001b[0m\u001b[1;33m\u001b[0m\u001b[0m\n",
      "\u001b[1;31mOperationalError\u001b[0m: no such column: gene_name"
     ]
    }
   ],
   "source": [
    "# Место для ответа\n",
    "result = cursor.execute('SELECT DISTINCT(gene_name) FROM chip_experiments')\n",
    "#result = cursor.execute('SELECT * FROM chip_experiments LIMIT 5')\n",
    "result.fetchall()"
   ]
  },
  {
   "cell_type": "markdown",
   "metadata": {},
   "source": [
    "### Задача 9\n",
    "Необходимо получить таблицу, в которой для каждого эксперимента приводится описание клеточного типа и транскрипионного фактора. Для этого напишите запрос, выводящий 5 строк вида chip_experiments.id, chip_experiments.cell_id, cell_id.title, chip_experiments.tf_uniprot_id, uniprot.gene_name."
   ]
  },
  {
   "cell_type": "code",
   "execution_count": null,
   "metadata": {},
   "outputs": [],
   "source": [
    "# Место для ответа"
   ]
  },
  {
   "cell_type": "markdown",
   "metadata": {},
   "source": [
    "### Задача 10\n",
    "Модифицируйте таблицу cells, добавьте префикс \"EMBRYO:\" в названия всех клеточных типов, содержашие слово \"embryo\"\n",
    "\n",
    "Для решения данной задачи пригодится функция CONCAT(string1, string2, ...), возвращающая сконкатенированную строку"
   ]
  },
  {
   "cell_type": "code",
   "execution_count": null,
   "metadata": {},
   "outputs": [],
   "source": [
    "# Место для ответа"
   ]
  }
 ],
 "metadata": {
  "kernelspec": {
   "display_name": "Python 3",
   "language": "python",
   "name": "python3"
  },
  "language_info": {
   "codemirror_mode": {
    "name": "ipython",
    "version": 3
   },
   "file_extension": ".py",
   "mimetype": "text/x-python",
   "name": "python",
   "nbconvert_exporter": "python",
   "pygments_lexer": "ipython3",
   "version": "3.7.3"
  }
 },
 "nbformat": 4,
 "nbformat_minor": 4
}
