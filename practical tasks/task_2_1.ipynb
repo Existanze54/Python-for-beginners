{
 "cells": [
  {
   "cell_type": "markdown",
   "metadata": {},
   "source": [
    "# Задача 1"
   ]
  },
  {
   "cell_type": "markdown",
   "metadata": {},
   "source": [
    "# Поле для решения\n",
    "\n",
    "Представьте список в обратном порядке\n",
    "\n",
    "[2,4,'string', 'another_string', 3.29, 22]"
   ]
  },
  {
   "cell_type": "code",
   "execution_count": 26,
   "metadata": {},
   "outputs": [
    {
     "data": {
      "text/plain": [
       "[22, 3.29, 'another_string', 'string', 4, 2]"
      ]
     },
     "execution_count": 26,
     "metadata": {},
     "output_type": "execute_result"
    }
   ],
   "source": [
    "# Место для решения\n",
    "first_list = [2, 4, 'string', 'another_string', 3.29, 22]\n",
    "first_list.reverse()\n",
    "first_list"
   ]
  },
  {
   "cell_type": "markdown",
   "metadata": {},
   "source": [
    "# Задача 2\n",
    "\n",
    "Дан список ['A', 'T', 'G', 'C', 'T', 'G', 'C', 'A', 'T', 'G', 'G', 'G', 'C', 'A', 'G', 'C', 'T', 'T', 'T', 'T', 'A', 'G', 'C', 'G', 'A']\n",
    ". Замените в нем 1 символ на последний, а последний на первый"
   ]
  },
  {
   "cell_type": "code",
   "execution_count": 13,
   "metadata": {},
   "outputs": [
    {
     "data": {
      "text/plain": [
       "['T',\n",
       " 'T',\n",
       " 'G',\n",
       " 'C',\n",
       " 'T',\n",
       " 'G',\n",
       " 'C',\n",
       " 'A',\n",
       " 'T',\n",
       " 'G',\n",
       " 'G',\n",
       " 'G',\n",
       " 'C',\n",
       " 'A',\n",
       " 'G',\n",
       " 'C',\n",
       " 'T',\n",
       " 'T',\n",
       " 'T',\n",
       " 'T',\n",
       " 'A',\n",
       " 'G',\n",
       " 'C',\n",
       " 'G',\n",
       " 'A']"
      ]
     },
     "execution_count": 13,
     "metadata": {},
     "output_type": "execute_result"
    }
   ],
   "source": [
    "# Место для решения\n",
    "second_list = ['A', 'T', 'G', 'C', 'T', 'G', 'C', 'A', 'T', 'G', 'G', 'G', 'C', 'A', 'G', 'C', 'T', 'T', 'T', 'T', 'A', 'G', 'C', 'G', 'T']\n",
    "second_list[0], second_list[-1] = second_list[-1], second_list[0]\n",
    "second_list"
   ]
  },
  {
   "cell_type": "markdown",
   "metadata": {},
   "source": [
    "# Задача 3\n",
    "\n",
    "Примите от пользователя 4 строки. Если длина строки больше 5 символов, поместите ее в список1, а если меньше то в список2. Выведите в конце оба списка"
   ]
  },
  {
   "cell_type": "code",
   "execution_count": 2,
   "metadata": {},
   "outputs": [
    {
     "name": "stdout",
     "output_type": "stream",
     "text": [
      "[2, 4, 'string', 'another_string', 3.29, 22, 'qwerty', 'zxcvbnm', 'yuiotpr']\n",
      "['A', 'T', 'G', 'C', 'T', 'G', 'C', 'A', 'T', 'G', 'G', 'G', 'C', 'A', 'G', 'C', 'T', 'T', 'T', 'T', 'A', 'G', 'C', 'G', 'T', 'asd']\n"
     ]
    }
   ],
   "source": [
    "# Место для решения\n",
    "first_list = [2, 4, 'string', 'another_string', 3.29, 22]\n",
    "second_list = ['A', 'T', 'G', 'C', 'T', 'G', 'C', 'A', 'T', 'G', 'G', 'G', 'C', 'A', 'G', 'C', 'T', 'T', 'T', 'T', 'A', 'G', 'C', 'G', 'T']\n",
    "\n",
    "first_string = 'qwerty'\n",
    "second_string = 'asd'\n",
    "third_string = 'zxcvbnm'\n",
    "fourth_string = 'yuiotpr'\n",
    "list_of_strings = [first_string, second_string, third_string, fourth_string]\n",
    "for str in list_of_strings:\n",
    "    if len(str) > 5:\n",
    "        first_list.append(str)\n",
    "    elif len(str) < 5:\n",
    "        second_list.append(str)\n",
    "\n",
    "print(first_list)\n",
    "print(second_list)\n",
    "    \n"
   ]
  },
  {
   "cell_type": "markdown",
   "metadata": {},
   "source": [
    "# Задача 4\n",
    "\n",
    "На вход принимает кортеж и случайный элемент. Требуется вернуть новый кортеж, начинающийся с первого появления элемента в нем и заканчивающийся вторым его появлением включительно.\n",
    "Если элемента нет вовсе – вернуть пустой кортеж.\n",
    "Если элемент встречается только один раз, то вернуть кортеж, который начинается с него и идет до конца исходного."
   ]
  },
  {
   "cell_type": "code",
   "execution_count": 71,
   "metadata": {},
   "outputs": [
    {
     "name": "stdout",
     "output_type": "stream",
     "text": [
      "('dak', 12, 'zen', 'ascd', [5, 3], 'dak')\n"
     ]
    }
   ],
   "source": [
    "# Место для решения\n",
    "first_tuple = (3, 'dak', 12, 'zen', 'ascd', [5, 3], 'dak', ['asd', 'fgh'], 'dak', 25)\n",
    "#first_tuple = (3, 12, 'zen', 'ascd', [5, 3], 'dak', ['asd', 'fgh'], 5, 25)\n",
    "#first_tuple = (3, 12, 'zen', 'ascd', [5, 3], ['asd', 'fgh'], 5, 25)\n",
    "any_element = 'dak'\n",
    "\n",
    "first_tuple_to_list = list(first_tuple)\n",
    "\n",
    "if first_tuple_to_list.count(any_element) == 0:\n",
    "    first_tuple_to_list.clear()\n",
    "    result_tuple = tuple(first_tuple_to_list)\n",
    "elif first_tuple_to_list.count(any_element) == 1:\n",
    "    any_element_index_first = first_tuple_to_list.index(any_element) \n",
    "    result_tuple = tuple(first_tuple_to_list[any_element_index_first::])\n",
    "if first_tuple_to_list.count(any_element) >= 2:\n",
    "    any_element_index_first = first_tuple_to_list.index(any_element) \n",
    "    any_element_index_second = first_tuple_to_list.index(any_element, any_element_index_first + 1,)\n",
    "    result_tuple = tuple(first_tuple_to_list[any_element_index_first:any_element_index_second + 1:]) \n",
    "\n",
    "print(result_tuple)"
   ]
  },
  {
   "cell_type": "markdown",
   "metadata": {},
   "source": [
    "# Задача 5\n",
    "\n",
    "На вход кортеж и элемент. Задача сделать так, чтобы удалять первое появление определенного элемента из кортежа по значению и возвращать кортеж без этого элемента. Если элемента в кортеже нет, кортеж надо вернуть в исходном виде\n",
    "\n"
   ]
  },
  {
   "cell_type": "code",
   "execution_count": 7,
   "metadata": {},
   "outputs": [
    {
     "name": "stdout",
     "output_type": "stream",
     "text": [
      "(2, 4, 'string', 'another_string', 3.29, 22, [5, 3])\n"
     ]
    }
   ],
   "source": [
    "# Место для решения\n",
    "first_tuple = (2, 4, 'string', [5, 3], 'another_string', 3.29, 22, [5,3])\n",
    "any_element = [5, 3]\n",
    "\n",
    "first_tuple_to_list = list(first_tuple)\n",
    "if first_tuple_to_list.count(any_element) > 0:\n",
    "    any_element_index_first = first_tuple_to_list.index(any_element) \n",
    "    first_tuple_to_list.pop(any_element_index_first)\n",
    "result_tuple = tuple(first_tuple_to_list)\n",
    "print(result_tuple)\n",
    "\n",
    "\n",
    "\n"
   ]
  },
  {
   "cell_type": "markdown",
   "metadata": {},
   "source": [
    "# Задача 6\n",
    "\n",
    "На вход подается строка, преобразовать ее в множество и сравнить длину исходной строки и новой"
   ]
  },
  {
   "cell_type": "code",
   "execution_count": 12,
   "metadata": {},
   "outputs": [
    {
     "name": "stdout",
     "output_type": "stream",
     "text": [
      "qwertywsdcwx\n",
      "12\n",
      "{'w', 'y', 's', 'r', 'd', 'q', 't', 'e', 'x', 'c'}\n",
      "10\n"
     ]
    }
   ],
   "source": [
    "# Место для решения\n",
    "first_string = 'qwertywsdcwx'\n",
    "first_string_to_set = set(first_string)\n",
    "print(first_string)\n",
    "print(len(first_string))\n",
    "print(first_string_to_set)\n",
    "print(len(first_string_to_set))"
   ]
  },
  {
   "cell_type": "markdown",
   "metadata": {},
   "source": [
    "# Задача 7\n",
    "\n",
    "Передаются 3 строки. Необходимо получить только уникальные элементы из этих строк"
   ]
  },
  {
   "cell_type": "code",
   "execution_count": 1,
   "metadata": {},
   "outputs": [
    {
     "name": "stdout",
     "output_type": "stream",
     "text": [
      "{'s', 'b', 'z', 'x', 'y', 'a', 'd', 'c'}\n"
     ]
    }
   ],
   "source": [
    "# Место для решения\n",
    "first_string = 'abcdab'\n",
    "second_string = 'asdxz'\n",
    "third_string = 'bay'\n",
    "unique_elements = set(first_string + second_string + third_string)\n",
    "print(unique_elements)"
   ]
  },
  {
   "cell_type": "markdown",
   "metadata": {},
   "source": [
    "# Задача 9\n",
    "\n",
    "У вас есть аминокислотная последовательность: QVQLQESGGGLVQAGGSLRLSCAASGRTFSSTGHTFSSYAMGWFRQTPGKEREFVAAISWSGTSTYYADSVKGRFTISRDNAKNTVYLQMNSLKPEDTAVYYCAARFWDYGLGSSDLKSPREYDYWGQGTQVTVSS. На данный момент выделяют 20 аминокислот (хотя некоторые биохимики выделяют до 22 аминокислот). Проверьте, все ли аминокислоты присутсвуют в этой последовательности?"
   ]
  },
  {
   "cell_type": "code",
   "execution_count": 31,
   "metadata": {},
   "outputs": [
    {
     "name": "stdout",
     "output_type": "stream",
     "text": [
      "All amino acids are presented\n"
     ]
    }
   ],
   "source": [
    "# Место для решения\n",
    "first_string = 'QVQLQESGGGLVQAGGSLRLSCAASGRTFSSTGHTFSSYAMGWFRQTPGKEREFVAAISWSGTSTYYADSVKGRFT\\\n",
    "ISRDNAKNTVYLQMNSLKPEDTAVYYCAARFWDYGLGSSDLKSPREYDYWGQGTQVTVSS'\n",
    "first_string_to_set = set(first_string)\n",
    "if len(first_string_to_set) == 20:\n",
    "    print('All amino acids are presented')\n",
    "else:\n",
    "    print('There is missed amino acids')"
   ]
  },
  {
   "cell_type": "code",
   "execution_count": null,
   "metadata": {},
   "outputs": [],
   "source": []
  }
 ],
 "metadata": {
  "kernelspec": {
   "display_name": "Python 3 (ipykernel)",
   "language": "python",
   "name": "python3"
  },
  "language_info": {
   "codemirror_mode": {
    "name": "ipython",
    "version": 3
   },
   "file_extension": ".py",
   "mimetype": "text/x-python",
   "name": "python",
   "nbconvert_exporter": "python",
   "pygments_lexer": "ipython3",
   "version": "3.9.7"
  }
 },
 "nbformat": 4,
 "nbformat_minor": 4
}
