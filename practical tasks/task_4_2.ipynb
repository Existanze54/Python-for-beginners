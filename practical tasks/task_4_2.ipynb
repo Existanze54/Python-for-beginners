{
 "cells": [
  {
   "cell_type": "markdown",
   "metadata": {},
   "source": [
    "# Задача 1\n",
    "\n",
    "Напишите функцию, которая принимает 2 числа, start и end. Функция суммирует все целые числа от значения «start» до «end» включительно. Если пользователь задаст star больше stop, необходимо их поменять местами. Функция должна вернуть результат суммирования."
   ]
  },
  {
   "cell_type": "code",
   "execution_count": 257,
   "metadata": {},
   "outputs": [
    {
     "data": {
      "text/plain": [
       "6"
      ]
     },
     "execution_count": 257,
     "metadata": {},
     "output_type": "execute_result"
    }
   ],
   "source": [
    "# Место для решения\n",
    "def sum_numbers(start, end):\n",
    "    if start > end:\n",
    "        start, end = end, start\n",
    "    tmp_sum = 0\n",
    "    for i in range(start, end + 1):\n",
    "        tmp_sum += i\n",
    "    return(tmp_sum)\n",
    "\n",
    "sum_numbers(1, 3)"
   ]
  },
  {
   "cell_type": "markdown",
   "metadata": {},
   "source": [
    "# Задача 2\n",
    "\n",
    "Напишите функцию, которая будет принимать любое количество строк. Функция должна найти самую длинную строку из всех и затем сравнить ее с остальными и вернуть строку, состоящую из уникальных только для нее символов."
   ]
  },
  {
   "cell_type": "code",
   "execution_count": 83,
   "metadata": {},
   "outputs": [
    {
     "data": {
      "text/plain": [
       "\"{'j', 'f', 'h', 'g'}\""
      ]
     },
     "execution_count": 83,
     "metadata": {},
     "output_type": "execute_result"
    }
   ],
   "source": [
    "# Место для решения\n",
    "# def compare_strings(*some_strings):\n",
    "#     tmp_len = 0\n",
    "#     tmp_index = 0\n",
    "#     tmp_elem = ''\n",
    "#     unique_string = ''\n",
    "#     for index, elem in enumerate(list(some_strings)):\n",
    "#         if len(elem) > tmp_len:\n",
    "#             tmp_len = len(elem)\n",
    "#             tmp_elem = elem\n",
    "            \n",
    "#     tmp_set = set(tmp_elem)\n",
    "    \n",
    "#     for elem in some_strings:\n",
    "#         if elem != tmp_elem:\n",
    "#             tmp_set -= set(elem)\n",
    "#     for elem in tmp_set:\n",
    "#         unique_string += elem\n",
    "\n",
    "#     return(unique_string)\n",
    "\n",
    "def compare_strings(*some_strings):\n",
    "    list_of_tuples = []\n",
    "    for elem in some_strings:\n",
    "        list_of_tuples.append((elem, len(elem)))\n",
    "    list_of_tuples.sort(key = lambda e: e[1]) #sorting tuple\n",
    "    unique_set = set(list_of_tuples.pop()[0])\n",
    "    for elem in list_of_tuples:\n",
    "        unique_set -= set(elem[0])\n",
    "    unique_string = str(unique_set)     \n",
    "    return(unique_string)\n",
    "    \n",
    "\n",
    "compare_strings('ads', 'asdfghj', 'vo', 'llxc')"
   ]
  },
  {
   "cell_type": "markdown",
   "metadata": {},
   "source": [
    "# Задача 3\n",
    "\n",
    "Напишите функцию, которая будет принимать на вход список из цифр. После этого, функция должна объеденить первый элемент с последним и добавить их в список, затем сложить второй и предпоследний и также добавить их в список и так до момента, пока не будет пройден весь список. Если в списке нечетное количество элементов, то последний оставшийся элемент надо возвести в степень и также добавить в список"
   ]
  },
  {
   "cell_type": "code",
   "execution_count": 256,
   "metadata": {},
   "outputs": [
    {
     "data": {
      "text/plain": [
       "[123, 23, 6, 4, 98, 221, 27, 36]"
      ]
     },
     "execution_count": 256,
     "metadata": {},
     "output_type": "execute_result"
    }
   ],
   "source": [
    "# Место для решения\n",
    "# def extending_list(some_list):\n",
    "#     addition_list = []\n",
    "#     if len(some_list) % 2 == 0:\n",
    "#         for i in range(int(len(some_list) / 2)):\n",
    "#             addition_list.append(some_list[i] + some_list[-1 -i])\n",
    "#     else:\n",
    "#         for i in range(int((len(some_list) - 1) / 2)):\n",
    "#             addition_list.append(some_list[i] + some_list[-1 -i])\n",
    "#         addition_list.append(some_list[int((len(some_list) - 1) / 2)] * some_list[int((len(some_list) - 1) / 2)])\n",
    "#     some_list.extend(addition_list)\n",
    "#     return(some_list)\n",
    "\n",
    "def extending_list(some_list):\n",
    "    tmp = len(some_list)\n",
    "    if tmp % 2 == 0:\n",
    "        for i in range(int(tmp / 2)):\n",
    "            some_list.append(some_list[i] + some_list[tmp - 1 - i])\n",
    "    else:\n",
    "        for i in range(int((tmp - 1) / 2)):\n",
    "            some_list.append(some_list[i] + some_list[tmp - 1 - i])\n",
    "        some_list.append(some_list[int((tmp - 1) / 2)] * some_list[int((tmp - 1) / 2)])\n",
    "    return(some_list)\n",
    "\n",
    "extending_list([123, 23, 6, 4, 98])"
   ]
  },
  {
   "cell_type": "markdown",
   "metadata": {},
   "source": [
    "# Задача 4\n",
    "\n",
    "Напишите 2 функции. Обе принимают 2 аргумента-числа. Первая функция возводит 1 число в степень второго и делит на их сумму, а затем возвращает этот результат. Вторая функция, возводит 2 число в степень 1 и делит на их разность и также возвращает результат. Запиши код таким образом, чтобы передать этим функциям одновременно одинаковые аргументы и получить сумму результатов работы этих функций."
   ]
  },
  {
   "cell_type": "code",
   "execution_count": 119,
   "metadata": {},
   "outputs": [
    {
     "data": {
      "text/plain": [
       "-7.4"
      ]
     },
     "execution_count": 119,
     "metadata": {},
     "output_type": "execute_result"
    }
   ],
   "source": [
    "# Место для решения\n",
    "def first_function(arg1, arg2):\n",
    "    return ((arg1 ** arg2) / (arg1 + arg2))\n",
    "\n",
    "def second_function(arg1, arg2):\n",
    "    if arg1 != arg2:\n",
    "        return ((arg2 ** arg1) / (arg1 - arg2))\n",
    "    else:\n",
    "        print('error')\n",
    "        return 0\n",
    "        \n",
    "def summary_function(arg1, arg2):\n",
    "    return first_function(arg1, arg2) + second_function(arg1, arg2)\n",
    "\n",
    "summary_function(2,3)\n"
   ]
  },
  {
   "cell_type": "markdown",
   "metadata": {},
   "source": [
    "# Задача 5\n",
    "\n",
    "У вас имеется словарь nucleotides = {A:19, T:31, G:27, C:14} в котором перечислен нуклетидный состав какой-то последовательности. Необоходимо отсортировать значения по убыванию (от наибольшего к меньшему) "
   ]
  },
  {
   "cell_type": "code",
   "execution_count": 158,
   "metadata": {},
   "outputs": [
    {
     "data": {
      "text/plain": [
       "[('T', 31), ('G', 27), ('A', 19), ('C', 14)]"
      ]
     },
     "execution_count": 158,
     "metadata": {},
     "output_type": "execute_result"
    }
   ],
   "source": [
    "# Место для решения\n",
    "dict_of_nucleotides = {'A': 19, 'T': 31, 'G': 27, 'C': 14}\n",
    "\n",
    "def sorting_dict(dict_of_nucleotides):\n",
    "    list_of_nucleotides = list(dic_of_nucleotides.items())\n",
    "    for elem in list_of_nucleotides:\n",
    "        list_of_nucleotides.sort(key=lambda e: e[1], reverse=True)\n",
    "    return(list_of_nucleotides)\n",
    "\n",
    "sorting_dict(dict_of_nucleotides)"
   ]
  },
  {
   "cell_type": "markdown",
   "metadata": {},
   "source": [
    "# Задача 6\n",
    "\n",
    "Прочитайте из fasta файла нуклеотидную последовательность и превратите ее в одну строку без специальных символов переносов с использованием функции-генератора. (В качестве файла возьмите wombat_mit.fasta)"
   ]
  },
  {
   "cell_type": "code",
   "execution_count": 246,
   "metadata": {},
   "outputs": [
    {
     "name": "stdout",
     "output_type": "stream",
     "text": [
      ">NC_003322.1:14176-15321 Vombatus ursinus mitochondrion, complete genome\n",
      "ATGATTAACCTACGCAAAACACATCCCCTTATAAAAATCGTCAATGAAGCATTCATCGACCTACCCACACCCTCCAATATCTCCGCCTGATGAAATTTTGGATCACTATTAGGAATCTGCCTTATCATACAAATCCTAACAGGCCTATTCCTAGCCATACATTACACCTCCGATACCCTAACAGCCTTCTCTTCAGTAGCCCATATCTGCCGAGATGTGAATCACGGCTGACTCATCCGCAACCTCCACGCCAACGGAGCGTCTATATTCTTCATATGCCTATACCTCCACATTGGCCGAGGAATCTATTATGGCTCCTACCTCTACAAAGAAACATGAAACATCGGAGTATTTCTTCTACTCACAGTTATAGCAACTGCTTTCGTTGGCTATGTACTCCCATGAGGACAAATATCCTTCTGAGGTGCAACCGTAATTACCAACTTATTATCAGCCATCCCTTACGTAGGCACCACCCTAGTAGAATGAATTTGAGGTGGATTCTCCGTAGACAAAGCCACACTGACCCGATTCTTCGCCTTCCATTTTATCCTACCCTTCATTGTCACAGCACTAGCTATCGTTCACCTACTATTCCTTCATGAAACAGGCTCAAACAACCCCTCAGGAATTAACCCCGACGCAGACAAAATTCCCTTCCACCCCTACTACACTACCAAAGACATTATAGGTGCAATCCTAATAATCCTTGCCCTCCTACTACTTACCCTATTCTCACCCGACATGTTAGGAGACCCAGACAACTTCTCCCCTGCCAACCCCCTCAGCACACCACCCCACATCAAACCAGAATGATATTTCCTATTCGCCTACGCTATTCTCCGATCAATCCCAAATAAACTGGGAGGAGTACTAGCCCTACTAGCATCCATCCTAATCCTCCTAGTCATCCCATTCCTGCATACATCCAAACAGCGCAGTATAATATTTCGACCCATCTCCCAAACCCTCTTCTGAATTTTAATCGCAAACCTCCTCATCCTAACCTGAATCGGAGGACAACCTGTAGAACAACCTTACATTATCATCGGACAAACTGCATCCATCACATACTTCCTCCTAATCCTCATTCTAATACCCGCAGCAGGACTATTTGAAAACTACATACTAAAACCTAAATGAAGA\n"
     ]
    }
   ],
   "source": [
    "# Место для решения\n",
    "import os\n",
    "path_to_code = os.getcwd()\n",
    "path_to_file = os.path.join(path_to_code, os.pardir, 'lections', 'files_and_images', 'wombat_mit.fasta')\n",
    "#print(path_to_code)\n",
    "#print(path_to_file)\n",
    "    \n",
    "def read_fasta_file(inp_fasta_file):\n",
    "    name, seq = '', []\n",
    "    for line in inp_fasta_file:\n",
    "        line = line.rstrip()\n",
    "        if line.startswith(\">\"):\n",
    "            if name:\n",
    "                yield(name, ''.join(seq))\n",
    "            name, seq = line, []\n",
    "        else: \n",
    "            seq.append(line)\n",
    "    if name: \n",
    "        yield(name, ''.join(seq))\n",
    "            \n",
    "with open(path_to_file, 'r') as inp_fasta_file:\n",
    "    for name, seq in read_fasta_file(inp_fasta_file):\n",
    "        print(name, seq, sep = '\\n')"
   ]
  },
  {
   "cell_type": "code",
   "execution_count": null,
   "metadata": {},
   "outputs": [],
   "source": []
  }
 ],
 "metadata": {
  "kernelspec": {
   "display_name": "Python 3 (ipykernel)",
   "language": "python",
   "name": "python3"
  },
  "language_info": {
   "codemirror_mode": {
    "name": "ipython",
    "version": 3
   },
   "file_extension": ".py",
   "mimetype": "text/x-python",
   "name": "python",
   "nbconvert_exporter": "python",
   "pygments_lexer": "ipython3",
   "version": "3.9.7"
  }
 },
 "nbformat": 4,
 "nbformat_minor": 4
}
