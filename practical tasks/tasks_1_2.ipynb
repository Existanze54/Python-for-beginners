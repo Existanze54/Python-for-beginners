{
 "cells": [
  {
   "cell_type": "markdown",
   "metadata": {},
   "source": [
    "# Задачи для лекций по теме строки"
   ]
  },
  {
   "cell_type": "markdown",
   "metadata": {},
   "source": [
    "## Задача 1.1\n",
    "Сравнить строки: '12304'  и '234'. Как из них больше?\n"
   ]
  },
  {
   "cell_type": "code",
   "execution_count": 2,
   "metadata": {},
   "outputs": [
    {
     "name": "stdout",
     "output_type": "stream",
     "text": [
      "5\n",
      "3\n"
     ]
    }
   ],
   "source": [
    "# Поле для решения задачи\n",
    "string1 = '12304'\n",
    "string2 = '234'\n",
    "print(len(string1))\n",
    "print(len(string2))"
   ]
  },
  {
   "cell_type": "markdown",
   "metadata": {},
   "source": [
    "## Задача 1.2\n",
    "Переводчик с русского на выдуманный прусский: принимается предложение. Необхиодимо каждому слову в предложении прибавить в начале букву п"
   ]
  },
  {
   "cell_type": "code",
   "execution_count": 18,
   "metadata": {},
   "outputs": [
    {
     "name": "stdin",
     "output_type": "stream",
     "text": [
      "Введите предложение Шла Даша по шоссе\n"
     ]
    },
    {
     "data": {
      "text/plain": [
       "'пШла пДаша ппо пшоссе'"
      ]
     },
     "execution_count": 18,
     "metadata": {},
     "output_type": "execute_result"
    }
   ],
   "source": [
    "# Поле для решения задачи\n",
    "start_string = str(input('Введите предложение'))\n",
    "start_string_with_p = 'п' + start_string.replace(' ',' п')\n",
    "start_string_with_p"
   ]
  },
  {
   "cell_type": "markdown",
   "metadata": {},
   "source": [
    "## Задача 1.3\n",
    "\n",
    "Провекрка строки: Проверьте, начинается ли строка с заглавной буквы? Если да, то сообщите об этом, точно также проверьте, какие буквы в строке? все маленькие? Все большие? Или смешанные? Сделайте обратное преобразование, если строка состоит из маленьких букв, сделайте ее большими, если из больших - маленькими. "
   ]
  },
  {
   "cell_type": "code",
   "execution_count": 27,
   "metadata": {},
   "outputs": [
    {
     "name": "stdin",
     "output_type": "stream",
     "text": [
      "Введите предложение Абобус вав АВАв\n"
     ]
    },
    {
     "name": "stdout",
     "output_type": "stream",
     "text": [
      "Начинается с заглавной\n",
      "Буквы смешанные\n"
     ]
    }
   ],
   "source": [
    "# Поле для решения задачи\n",
    "start_string = str(input('Введите предложение'))\n",
    "if start_string[0].istitle():\n",
    "    print('Начинается с заглавной')\n",
    "if start_string.islower():\n",
    "    print('Все буквы маленькие')\n",
    "    start_string = start_string.upper()\n",
    "    print(start_string)\n",
    "elif start_string.isupper():\n",
    "    print('Все буквы большие')\n",
    "    start_string = start_string.lower()\n",
    "    print(start_string)\n",
    "else:\n",
    "    print('Буквы смешанные')\n"
   ]
  },
  {
   "cell_type": "markdown",
   "metadata": {},
   "source": [
    "## Задача 1.4\n",
    "\n",
    "Проверьте строку на знаки препинания. Есть ли там знаки препинания? Если нет, то сообщите об этом пользователю"
   ]
  },
  {
   "cell_type": "code",
   "execution_count": 29,
   "metadata": {},
   "outputs": [
    {
     "name": "stdin",
     "output_type": "stream",
     "text": [
      "Введите предложение gfhb\n"
     ]
    },
    {
     "name": "stdout",
     "output_type": "stream",
     "text": [
      "-1\n"
     ]
    }
   ],
   "source": [
    "# Поле для решения задачи\n",
    "start_string = str(input('Введите предложение'))\n",
    "start_string = start_string.strip()\n",
    "print(start_string.find('ЛАВА'))"
   ]
  },
  {
   "cell_type": "markdown",
   "metadata": {},
   "source": [
    "## Задача 1.5\n",
    "\n",
    "Пользователем передаются 2 строки. s1 и s2. Задача - определить, какая строка длиннее и проверить, есть ли котороткая строка внутри длинной строки."
   ]
  },
  {
   "cell_type": "code",
   "execution_count": null,
   "metadata": {},
   "outputs": [],
   "source": [
    "# Поле для решения задачи"
   ]
  },
  {
   "cell_type": "markdown",
   "metadata": {},
   "source": [
    "## Задача 1.6\n",
    "\n",
    "Передается 4 строки, сама строка, старт, стоп и замена. Задача найти висходной строке старт и стоп, вырезать их из исходной последовательности и вставить на это место строку-замену\n",
    "s = 'GCTGGGGGGCTATAAAAAGAGGAGGCGCAGCGGAGAGACAGAGACGGACAAAGACCAAGAGAGCGAAACC'  \n",
    "start = 'CTA'  \n",
    "end = 'CCA'  \n",
    "insert = 'CCCCGGGGCGCGGGGGCGCCCGATATACGCGCGCG'  "
   ]
  },
  {
   "cell_type": "code",
   "execution_count": null,
   "metadata": {},
   "outputs": [],
   "source": [
    "# Поле для решения задачи"
   ]
  }
 ],
 "metadata": {
  "kernelspec": {
   "display_name": "Python 3 (ipykernel)",
   "language": "python",
   "name": "python3"
  },
  "language_info": {
   "codemirror_mode": {
    "name": "ipython",
    "version": 3
   },
   "file_extension": ".py",
   "mimetype": "text/x-python",
   "name": "python",
   "nbconvert_exporter": "python",
   "pygments_lexer": "ipython3",
   "version": "3.9.7"
  }
 },
 "nbformat": 4,
 "nbformat_minor": 4
}
