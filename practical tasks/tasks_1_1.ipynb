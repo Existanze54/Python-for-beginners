{
 "cells": [
  {
   "cell_type": "markdown",
   "metadata": {},
   "source": [
    "# Задачи для лекций по темам числа, логические типы данных, переменные и логические конструкции"
   ]
  },
  {
   "cell_type": "markdown",
   "metadata": {},
   "source": [
    "## Задача 1.1\n",
    "\n",
    "Обозначьте порядок вычисления выражения по операциям:\n",
    "11 * 2 ** 2 – 13 / 4 + 7.\n",
    "\n",
    "Какой будет ответ?\n",
    "Какое целое число получается?\n"
   ]
  },
  {
   "cell_type": "code",
   "execution_count": 55,
   "metadata": {},
   "outputs": [
    {
     "name": "stdout",
     "output_type": "stream",
     "text": [
      "47.75\n"
     ]
    },
    {
     "data": {
      "text/plain": [
       "47.75"
      ]
     },
     "execution_count": 55,
     "metadata": {},
     "output_type": "execute_result"
    }
   ],
   "source": [
    "# Поле для решения задачи\n",
    "\n",
    "print((11 * (2 ** 2)) - (13 / 4) + 7)\n",
    "11 * 2 ** 2 - 13 / 4 + 7"
   ]
  },
  {
   "cell_type": "markdown",
   "metadata": {},
   "source": [
    "## Задача 1.2\n",
    "\n",
    "Используя стандартные арифметические операции получите наибольшее число в результате комбинации цифр 4 6 3"
   ]
  },
  {
   "cell_type": "code",
   "execution_count": 19,
   "metadata": {},
   "outputs": [
    {
     "data": {
      "text/plain": [
       "282429536481"
      ]
     },
     "execution_count": 19,
     "metadata": {},
     "output_type": "execute_result"
    }
   ],
   "source": [
    "# Поле для решения задачи\n",
    "(3**4)**6"
   ]
  },
  {
   "cell_type": "markdown",
   "metadata": {
    "tags": []
   },
   "source": [
    "## Задача 1.3\n",
    "\n",
    "Решить пример:  \n",
    "\n",
    "37052.28 : 76 − 49.03"
   ]
  },
  {
   "cell_type": "code",
   "execution_count": 18,
   "metadata": {},
   "outputs": [
    {
     "data": {
      "text/plain": [
       "438.5"
      ]
     },
     "execution_count": 18,
     "metadata": {},
     "output_type": "execute_result"
    }
   ],
   "source": [
    "# Поле для решения задачи\n",
    "37052.28 / 76 - 49.03"
   ]
  },
  {
   "cell_type": "markdown",
   "metadata": {},
   "source": [
    "## Задача 1.4\n",
    "\n",
    "запишите число Эйлера (2.718281828459045) в экспоненциальной форме "
   ]
  },
  {
   "cell_type": "code",
   "execution_count": 20,
   "metadata": {},
   "outputs": [
    {
     "data": {
      "text/plain": [
       "2.718281828459045"
      ]
     },
     "execution_count": 20,
     "metadata": {},
     "output_type": "execute_result"
    }
   ],
   "source": [
    "# Поле для решения задачи\n",
    "2718281828459045e-15"
   ]
  },
  {
   "cell_type": "markdown",
   "metadata": {},
   "source": [
    "## Задача 1.5\n",
    "\n",
    "Запишите число 3141592e-6 в виде десятичной дроби и проверьте равны ли они"
   ]
  },
  {
   "cell_type": "code",
   "execution_count": 24,
   "metadata": {},
   "outputs": [
    {
     "name": "stdout",
     "output_type": "stream",
     "text": [
      "3.141592\n",
      "True\n"
     ]
    }
   ],
   "source": [
    "# Поле для решения задачи\n",
    "print(3.141592)\n",
    "print(3.141592 == 3141592e-6)"
   ]
  },
  {
   "cell_type": "markdown",
   "metadata": {},
   "source": [
    "## Задача 1.6\n",
    "\n",
    "Решите пример: 6 ** 16 - int(float(6 ** 16)). Какой получили ответ и какой ответ должен был получиться?"
   ]
  },
  {
   "cell_type": "code",
   "execution_count": 51,
   "metadata": {},
   "outputs": [
    {
     "name": "stdout",
     "output_type": "stream",
     "text": [
      "2821109907456\n",
      "2821109907456.0\n",
      "2821109907456\n",
      "0.0\n"
     ]
    }
   ],
   "source": [
    "# Поле для решения задачи\n",
    "print(6 ** 16) \n",
    "\n",
    "print(float(6 ** 16))\n",
    "print(int(float(6 ** 16)))\n",
    "\n",
    "print(float(6 ** 16 - int(float(6 ** 16))))\n",
    "\n"
   ]
  },
  {
   "cell_type": "markdown",
   "metadata": {},
   "source": [
    "## Задача 1.7\n",
    "\n",
    "Решите пример: 0.1 + 0.2. Проверьте, равен ли результат 0.3"
   ]
  },
  {
   "cell_type": "code",
   "execution_count": 49,
   "metadata": {},
   "outputs": [
    {
     "name": "stdout",
     "output_type": "stream",
     "text": [
      "0.30000000000000004\n",
      "False\n"
     ]
    }
   ],
   "source": [
    "# Поле для решения задачи\n",
    "print(0.1+0.2)\n",
    "print(0.1+0.2 == 0.3)"
   ]
  },
  {
   "cell_type": "markdown",
   "metadata": {},
   "source": [
    "## Задача 1.8\n",
    "\n",
    "Решить логарифмическое уравнение: \n",
    "log5(5 - x) = 2 log5(3)"
   ]
  },
  {
   "cell_type": "code",
   "execution_count": 77,
   "metadata": {},
   "outputs": [
    {
     "name": "stdout",
     "output_type": "stream",
     "text": [
      "-4.000000000000002\n"
     ]
    }
   ],
   "source": [
    "# Поле для решения задачи\n",
    "import math\n",
    "a = 2*math.log(3,5)\n",
    "x = 5-5**a\n",
    "print(x)"
   ]
  },
  {
   "cell_type": "markdown",
   "metadata": {},
   "source": [
    "## Задача 1.9\n",
    "\n",
    "Найти объем конуса с pi = 3,14 и pi из библиотеки math, и сравнить результаты. R = 10, h = 8"
   ]
  },
  {
   "cell_type": "code",
   "execution_count": 76,
   "metadata": {},
   "outputs": [
    {
     "name": "stdout",
     "output_type": "stream",
     "text": [
      "837.3333333333334\n",
      "837.7580409572782\n"
     ]
    }
   ],
   "source": [
    "# Поле для решения задачи\n",
    "R = 10\n",
    "h = 8\n",
    "S1 = 3.14*(R**2)*h/3\n",
    "S2 = math.pi*(R**2)*h/3\n",
    "print(S1)\n",
    "print(S2)"
   ]
  },
  {
   "cell_type": "markdown",
   "metadata": {},
   "source": [
    "## Задача 1.10  \n",
    "Дано 2 скрипта. Запустите оба, в каком возникает ошибка? Объясните почему\n",
    "\n",
    "Скрипт 1.\n",
    "a = None  \n",
    "if len(a) > 0 and a is not None:\n",
    "<p style=\"margin-left: 20px\">print('Это не None')</p>\n",
    "\n",
    "Скрипт 2.  \n",
    "a = None  \n",
    "if a is not None and len(a) > 0:  \n",
    "<p style=\"margin-left: 20px\">print('Это не None')</p>"
   ]
  },
  {
   "cell_type": "code",
   "execution_count": 74,
   "metadata": {},
   "outputs": [
    {
     "ename": "TypeError",
     "evalue": "object of type 'NoneType' has no len()",
     "output_type": "error",
     "traceback": [
      "\u001b[1;31m---------------------------------------------------------------------------\u001b[0m",
      "\u001b[1;31mTypeError\u001b[0m                                 Traceback (most recent call last)",
      "\u001b[1;32m~\\AppData\\Local\\Temp/ipykernel_10248/3842445174.py\u001b[0m in \u001b[0;36m<module>\u001b[1;34m\u001b[0m\n\u001b[0;32m      1\u001b[0m \u001b[1;31m# Поле для решения задачи\u001b[0m\u001b[1;33m\u001b[0m\u001b[1;33m\u001b[0m\u001b[0m\n\u001b[0;32m      2\u001b[0m \u001b[0ma\u001b[0m \u001b[1;33m=\u001b[0m \u001b[1;32mNone\u001b[0m\u001b[1;33m\u001b[0m\u001b[1;33m\u001b[0m\u001b[0m\n\u001b[1;32m----> 3\u001b[1;33m \u001b[1;32mif\u001b[0m \u001b[0mlen\u001b[0m\u001b[1;33m(\u001b[0m\u001b[0ma\u001b[0m\u001b[1;33m)\u001b[0m \u001b[1;33m>\u001b[0m \u001b[1;36m0\u001b[0m \u001b[1;32mand\u001b[0m \u001b[0ma\u001b[0m \u001b[1;32mis\u001b[0m \u001b[1;32mnot\u001b[0m \u001b[1;32mNone\u001b[0m\u001b[1;33m:\u001b[0m\u001b[1;33m\u001b[0m\u001b[1;33m\u001b[0m\u001b[0m\n\u001b[0m\u001b[0;32m      4\u001b[0m \u001b[1;33m\u001b[0m\u001b[0m\n\u001b[0;32m      5\u001b[0m     \u001b[0mprint\u001b[0m\u001b[1;33m(\u001b[0m\u001b[1;34m'Это не None'\u001b[0m\u001b[1;33m)\u001b[0m\u001b[1;33m\u001b[0m\u001b[1;33m\u001b[0m\u001b[0m\n",
      "\u001b[1;31mTypeError\u001b[0m: object of type 'NoneType' has no len()"
     ]
    }
   ],
   "source": [
    "# Поле для решения задачи\n",
    "a = None\n",
    "if len(a) > 0 and a is not None:\n",
    "\n",
    "    print('Это не None')\n",
    "    \n",
    "#and проверяет вначале первое условие"
   ]
  },
  {
   "cell_type": "code",
   "execution_count": 75,
   "metadata": {},
   "outputs": [],
   "source": [
    "a = None\n",
    "if a is not None and len(a) > 0:\n",
    "\n",
    "    print('Это не None')"
   ]
  },
  {
   "cell_type": "markdown",
   "metadata": {},
   "source": [
    "## Задача 1.11\n",
    "\n",
    "Написать программу, проверяющую выполнение условия для введённого пользователем числа.  \n",
    "Условия:  \n",
    "(-∞, -10] U [-5, 5] U (2, +∞)"
   ]
  },
  {
   "cell_type": "code",
   "execution_count": 94,
   "metadata": {},
   "outputs": [
    {
     "name": "stdin",
     "output_type": "stream",
     "text": [
      "Введите число 12\n"
     ]
    },
    {
     "name": "stdout",
     "output_type": "stream",
     "text": [
      "Условие выполняется\n"
     ]
    }
   ],
   "source": [
    "# Поле для решения задачи\n",
    "number = float(input('Введите число'))\n",
    "if (number <= -10) or (number >= -5 and number <=5) or (number > 2):\n",
    "    print('Условие выполняется')\n",
    "else:\n",
    "    print('Условие не выполняется')"
   ]
  },
  {
   "cell_type": "markdown",
   "metadata": {},
   "source": [
    "## Задача 1.12 \\*\n",
    "\n",
    "Напишите программу, которая будет принимать аргументы и реализовывать алгоритм угадывания даты рождения и возраста: http://www.scanword.net/focus/124.htm"
   ]
  },
  {
   "cell_type": "code",
   "execution_count": 117,
   "metadata": {},
   "outputs": [
    {
     "name": "stdin",
     "output_type": "stream",
     "text": [
      "Загадайте день рождения 5\n",
      "Загадайте месяц рождения 11\n"
     ]
    },
    {
     "name": "stdout",
     "output_type": "stream",
     "text": [
      "День рождения: 5\n",
      "Месяц рождения: 11\n"
     ]
    }
   ],
   "source": [
    "### Поле для решения задачи\n",
    "day_of_birthday = int(input('Загадайте день рождения'))\n",
    "month_of_birthday = int(input('Загадайте месяц рождения'))\n",
    "\n",
    "magic_number = (2 * day_of_birthday + 5) * 50 + month_of_birthday - 250\n",
    "\n",
    "day_of_birthday_result = int(magic_number / 100)\n",
    "month_of_birthday_result = magic_number % 100\n",
    "\n",
    "print('День рождения:', day_of_birthday_result)\n",
    "print('Месяц рождения:', month_of_birthday_result)"
   ]
  },
  {
   "cell_type": "markdown",
   "metadata": {},
   "source": [
    "### Задача 1.13 \\*\n",
    "\n",
    "Напишите программу для определения какой пиццы больше: двух средних или одной большей или они равны (пользователь сам задаёт диаметр каждого типа пиццы)\n"
   ]
  },
  {
   "cell_type": "code",
   "execution_count": null,
   "metadata": {},
   "outputs": [],
   "source": [
    "year1 = int(input())"
   ]
  },
  {
   "cell_type": "code",
   "execution_count": 105,
   "metadata": {},
   "outputs": [
    {
     "name": "stdin",
     "output_type": "stream",
     "text": [
      "Введите диаметр средней пиццы: 30\n",
      "Введите диаметр большой пиццы: 45\n"
     ]
    },
    {
     "name": "stdout",
     "output_type": "stream",
     "text": [
      "площадь двух средних = 1413.7166941154069\n",
      "площадь одной большой = 1590.4312808798327\n",
      "одной большой пиццы больше\n"
     ]
    }
   ],
   "source": [
    "# Поле для решения задачи\n",
    "medium_pizza_diameter = float(input('Введите диаметр средней пиццы:'))\n",
    "big_pizza_diameter = float(input('Введите диаметр большой пиццы:'))\n",
    "print('площадь двух средних =', 2 * math.pi * ((medium_pizza_diameter / 2) ** 2))\n",
    "print('площадь одной большой =', math.pi * ((big_pizza_diameter / 2) ** 2))\n",
    "if 2 * (medium_pizza_diameter ** 2) > big_pizza_diameter ** 2:\n",
    "    print('две средних пиццы больше')\n",
    "elif 2 * (medium_pizza_diameter ** 2) < big_pizza_diameter ** 2:\n",
    "    print('одной большой пиццы больше')\n",
    "else:\n",
    "    print('пиццы равны')"
   ]
  }
 ],
 "metadata": {
  "kernelspec": {
   "display_name": "Python 3 (ipykernel)",
   "language": "python",
   "name": "python3"
  },
  "language_info": {
   "codemirror_mode": {
    "name": "ipython",
    "version": 3
   },
   "file_extension": ".py",
   "mimetype": "text/x-python",
   "name": "python",
   "nbconvert_exporter": "python",
   "pygments_lexer": "ipython3",
   "version": "3.9.7"
  }
 },
 "nbformat": 4,
 "nbformat_minor": 4
}
