{
 "cells": [
  {
   "cell_type": "markdown",
   "metadata": {},
   "source": [
    "### Задача 1\n",
    "Модифицируйте программу ниже так, что при генерации исключения, связанного с отсутствием ключа, в исходный словарь добавлялся искомый ключ со значением None (имитация setdefault)."
   ]
  },
  {
   "cell_type": "code",
   "execution_count": 1,
   "metadata": {},
   "outputs": [
    {
     "ename": "KeyError",
     "evalue": "'d'",
     "output_type": "error",
     "traceback": [
      "\u001b[1;31m---------------------------------------------------------------------------\u001b[0m",
      "\u001b[1;31mKeyError\u001b[0m                                  Traceback (most recent call last)",
      "\u001b[1;32m~\\AppData\\Local\\Temp/ipykernel_13484/3966761748.py\u001b[0m in \u001b[0;36m<module>\u001b[1;34m\u001b[0m\n\u001b[0;32m      1\u001b[0m \u001b[0msome_dict\u001b[0m \u001b[1;33m=\u001b[0m \u001b[0mdict\u001b[0m\u001b[1;33m.\u001b[0m\u001b[0mfromkeys\u001b[0m\u001b[1;33m(\u001b[0m\u001b[1;33m[\u001b[0m\u001b[1;34m'a'\u001b[0m\u001b[1;33m,\u001b[0m \u001b[1;34m'b'\u001b[0m\u001b[1;33m,\u001b[0m \u001b[1;34m'c'\u001b[0m\u001b[1;33m]\u001b[0m\u001b[1;33m)\u001b[0m\u001b[1;33m\u001b[0m\u001b[1;33m\u001b[0m\u001b[0m\n\u001b[1;32m----> 2\u001b[1;33m \u001b[0msome_dict\u001b[0m\u001b[1;33m[\u001b[0m\u001b[1;34m'd'\u001b[0m\u001b[1;33m]\u001b[0m\u001b[1;33m\u001b[0m\u001b[1;33m\u001b[0m\u001b[0m\n\u001b[0m",
      "\u001b[1;31mKeyError\u001b[0m: 'd'"
     ]
    }
   ],
   "source": [
    "some_dict = dict.fromkeys(['a', 'b', 'c'])\n",
    "some_dict['d']"
   ]
  },
  {
   "cell_type": "code",
   "execution_count": 6,
   "metadata": {},
   "outputs": [
    {
     "name": "stdout",
     "output_type": "stream",
     "text": [
      "{'a': None, 'b': None, 'c': None, 'd': 'None'}\n"
     ]
    }
   ],
   "source": [
    "some_dict = dict.fromkeys(['a', 'b', 'c'])\n",
    "some_key = 'd'\n",
    "try:\n",
    "    some_dict[some_key]\n",
    "except KeyError as exc_1: \n",
    "    some_dict.update([(some_key, 'None')])\n",
    "print(some_dict)"
   ]
  },
  {
   "cell_type": "markdown",
   "metadata": {},
   "source": [
    "### Задача 2\n",
    "Напишите программу, собирающую от пользователя информацию о номере его СНИЛС'а (9 цифр без разделителей). При нарушении правил форматирования входных данных вам необходимо выдать информацию об ошибке и попросить пользователя ввести номер повторно. (в данной задаче необходимо использовать собственный класс исклбчения)"
   ]
  },
  {
   "cell_type": "code",
   "execution_count": 15,
   "metadata": {},
   "outputs": [
    {
     "name": "stdin",
     "output_type": "stream",
     "text": [
      "Enter SNILS number:  333333333\n"
     ]
    }
   ],
   "source": [
    "# Место для решения\n",
    "class SnilsError(Exception):\n",
    "    pass\n",
    "\n",
    "snils_number = input('Enter SNILS number: ')\n",
    "try:\n",
    "    if not snils_number.isdigit():\n",
    "        raise SnilsError('FORMAT ERROR', 'Only numbers are allowed')\n",
    "    if len(snils_number) != 9:\n",
    "        raise SnilsError('LENGTH ERROR', 'Not enough numbers')\n",
    "except SnilsError as exc_1:\n",
    "    print(f'{exc_1.args[0]}: {exc_1.args[1]}')\n",
    "\n",
    "\n"
   ]
  },
  {
   "cell_type": "markdown",
   "metadata": {},
   "source": [
    "### Задача 3\n",
    "Напишите программу, которая запрашивает у пользователя число. Добавьте обработчик исключений, срабатывающий в случае ввода не числового значения и предлагающий повторить ввод числа"
   ]
  },
  {
   "cell_type": "code",
   "execution_count": 23,
   "metadata": {},
   "outputs": [
    {
     "name": "stdin",
     "output_type": "stream",
     "text": [
      "Enter some number:  f\n",
      "Enter correct number:  f\n",
      "Enter correct number:  f\n",
      "Enter correct number:  f\n",
      "Enter correct number:  f\n",
      "Enter correct number:  c\n",
      "Enter correct number:  4\n"
     ]
    }
   ],
   "source": [
    "# Место для решения\n",
    "try:\n",
    "    some_number = float(input('Enter some number: '))\n",
    "except ValueError as exc_1:\n",
    "    par = 0\n",
    "    while par == 0:\n",
    "        try:\n",
    "            some_number = float(input('Enter correct number: '))\n",
    "            par = 1\n",
    "        except ValueError as exc_2:\n",
    "            pass "
   ]
  },
  {
   "cell_type": "markdown",
   "metadata": {},
   "source": [
    "### Задача 4\n",
    "Напишите программу запрашивающую от пользователя число и генерирующую нестандартное исключение ValueTooLarge, если введённое значение больше 100"
   ]
  },
  {
   "cell_type": "code",
   "execution_count": 25,
   "metadata": {},
   "outputs": [
    {
     "name": "stdin",
     "output_type": "stream",
     "text": [
      "Enter some number:  300\n"
     ]
    },
    {
     "name": "stdout",
     "output_type": "stream",
     "text": [
      "VALUE TOO LARGE ERROR: The number should not exceed 100\n"
     ]
    }
   ],
   "source": [
    "# Место для решения\n",
    "class ValueTooLarge(Exception):\n",
    "    pass\n",
    "\n",
    "some_number = float(input('Enter some number: '))\n",
    "try:\n",
    "    if some_number > 100:\n",
    "        raise ValueTooLarge('VALUE TOO LARGE ERROR', 'The number should not exceed 100')\n",
    "except ValueTooLarge as exc_1:\n",
    "    print(f'{exc_1.args[0]}: {exc_1.args[1]}')"
   ]
  },
  {
   "cell_type": "markdown",
   "metadata": {},
   "source": [
    "### Задача 5\n",
    "Напишите обработчик исключений, позволяющий избегать аварийного завершения программы при распаковке кортежей. Например, вам дан список кортежей [(1, 5), (2, 7), (12, 4, 3)], при столкновении с кортежем отличной длины, игнорируйте элементы кортежа, выходящие за установленные границы"
   ]
  },
  {
   "cell_type": "code",
   "execution_count": 6,
   "metadata": {},
   "outputs": [
    {
     "name": "stdout",
     "output_type": "stream",
     "text": [
      "1 5\n",
      "2 7\n",
      "12 4\n",
      "10 12\n",
      "1 2\n",
      "9 8\n",
      "10 11\n",
      "9 2\n"
     ]
    }
   ],
   "source": [
    "# Место для решения\n",
    "list_of_tuples = [(1,5), (2,7), (12, 4, 3), (10, 12), (1, 2, 3), (9, 8), (10, 11, 12, 15), (9, 2)]\n",
    "\n",
    "tmp = 0 \n",
    "par = 0\n",
    "while par == 0:\n",
    "    try:\n",
    "        for index, (a, b) in enumerate(list_of_tuples[tmp: ]):\n",
    "            print(a, b)\n",
    "        par = 1\n",
    "    except ValueError as exc_1:\n",
    "        print(list_of_tuples[tmp + index][0], list_of_tuples[tmp + index][1])\n",
    "        tmp += index + 1"
   ]
  },
  {
   "cell_type": "code",
   "execution_count": null,
   "metadata": {},
   "outputs": [],
   "source": []
  }
 ],
 "metadata": {
  "kernelspec": {
   "display_name": "Python 3 (ipykernel)",
   "language": "python",
   "name": "python3"
  },
  "language_info": {
   "codemirror_mode": {
    "name": "ipython",
    "version": 3
   },
   "file_extension": ".py",
   "mimetype": "text/x-python",
   "name": "python",
   "nbconvert_exporter": "python",
   "pygments_lexer": "ipython3",
   "version": "3.9.7"
  }
 },
 "nbformat": 4,
 "nbformat_minor": 4
}
