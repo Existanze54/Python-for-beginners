{
 "cells": [
  {
   "cell_type": "markdown",
   "metadata": {},
   "source": [
    "- основываясь на таблице генетического кода в словаре, создайте таблицу зарядов аминокислот\n",
    "- создайте словарь, который будет хранить статистику, которую насчитывает ваш код с домашней задачи по строкам\n",
    "- придумать, как одновременно хранить в системе цепь 3'-5' и 5'-3'"
   ]
  },
  {
   "cell_type": "code",
   "execution_count": 1,
   "metadata": {},
   "outputs": [
    {
     "name": "stdout",
     "output_type": "stream",
     "text": [
      "{'D': -1, 'E': -1, 'K': 1, 'R': 1, 'H': 1}\n"
     ]
    },
    {
     "data": {
      "text/plain": [
       "{\"5'-3'\": {'seq': 'ATTTCATTTAGGGGGCCGCAATATCGGCGATCATGCAT',\n",
       "  'type': 'DNA',\n",
       "  'mean': 9.5,\n",
       "  'length': 38,\n",
       "  'count': {'A': 9, 'T': 11, 'G': 10, 'C': 8},\n",
       "  'gs': 47.368421052631575,\n",
       "  'sec_chain': 'ATGCATGATCGCCGATATTGCGGCCCCCTAAATGAAAT'},\n",
       " \"3'-5'\": {'seq': 'ATGCATGATCGCCGATATTGCGGCCCCCTAAATGAAAT',\n",
       "  'type': 'DNA',\n",
       "  'mean': 9.5,\n",
       "  'length': 38,\n",
       "  'count': {'A': 11, 'T': 9, 'G': 8, 'C': 10},\n",
       "  'gs': 47.368421052631575,\n",
       "  'sec_chain': 'ATTTCATTTAGGGGGCCGCAATATCGGCGATCATGCAT'}}"
      ]
     },
     "execution_count": 1,
     "metadata": {},
     "output_type": "execute_result"
    }
   ],
   "source": [
    "# Место выполнения задания\n",
    "amino_acids_charge_dic = {'D': -1, 'E': -1, 'K': 1, 'R': 1, 'H': 1}\n",
    "print(amino_acids_charge_dic)\n",
    "\n",
    "# DNA or RNA sequence\n",
    "def nucl_seq_type(nucl_seq):\n",
    "    par = False\n",
    "    if 'T' in list(nucl_seq): \n",
    "        par = True\n",
    "    return par\n",
    "\n",
    "# Mean value of nucleotides in sequence\n",
    "def nucl_seq_mean_value(nucl_seq):\n",
    "    mean_value = (list(nucl_seq).count('A') + list(nucl_seq).count('G') + list(nucl_seq).count('C') + list(nucl_seq).count('T') + list(nucl_seq).count('U')) / 4\n",
    "    return mean_value\n",
    "\n",
    "# Nucleotide composition\n",
    "def nucl_seq_count(nucl_seq):\n",
    "    dict_of_nucl = {}\n",
    "    if nucl_seq_type(nucl_seq):\n",
    "        for elem in list('ATGC'):\n",
    "            dict_of_nucl.update([(elem, list(nucl_seq).count(elem))])\n",
    "    else:\n",
    "        for elem in list('AUGC'):\n",
    "            dict_of_nucl.update([(elem, list(nucl_seq).count(elem))])\n",
    "    return dict_of_nucl\n",
    "\n",
    "# GC - composition\n",
    "def nucl_seq_gc(nucl_seq):\n",
    "    dict_of_nucl = nucl_seq_count(nucl_seq)\n",
    "    gc_composition = ((dict_of_nucl['G'] + dict_of_nucl['C']) / len(nucl_seq)) * 100\n",
    "    return gc_composition\n",
    "\n",
    "# Builds a complementary DNA chain\n",
    "def nucl_seq_complement(nucl_seq):\n",
    "    nucl_seq_comp = []\n",
    "    for elem in nucl_seq:\n",
    "        if elem == 'A': \n",
    "            nucl_seq_comp.append('T')\n",
    "        elif elem == 'T': \n",
    "            nucl_seq_comp.append('A')\n",
    "        elif elem == 'G':\n",
    "            nucl_seq_comp.append('C')\n",
    "        elif elem == 'C':\n",
    "            nucl_seq_comp.append('G')\n",
    "    return ''.join(nucl_seq_comp)\n",
    "\n",
    "# Builds a paired dna chain\n",
    "def nucl_seq_second_chain(nucl_seq):\n",
    "    if nucl_seq_type(nucl_seq): \n",
    "        nucl_seq_sec = nucl_seq_complement(nucl_seq)[ : :-1]\n",
    "    else: \n",
    "        nucl_seq_sec = 'Not a DNA'\n",
    "    return nucl_seq_sec\n",
    "\n",
    "# Shows basic statistic of nucleotide chain\n",
    "def nucl_seq_stat(nucl_seq):\n",
    "    print(f'Initial sequence: {nucl_seq}')\n",
    "    if nucl_seq_type(nucl_seq): \n",
    "        print('This is a DNA sequence')\n",
    "    else: \n",
    "        print('This is a RNA sequence')\n",
    "    print(f'Mean value = {nucl_seq_mean_value(nucl_seq)}')\n",
    "    print(f'Length = {len(nucl_seq)}')\n",
    "    print(nucl_seq_count(nucl_seq))\n",
    "    print(f'GC - composition = {nucl_seq_gc(nucl_seq)}%')\n",
    "    print(f'Second DNA chain: {nucl_seq_second_chain(nucl_seq)}')\n",
    "\n",
    "# Saves basic statistic of nucleotide chain to the dictionary\n",
    "def nucl_seq_stat_to_dic(nucl_seq):\n",
    "    seq_stat_dic = {}\n",
    "    seq_stat_dic['seq'] = nucl_seq\n",
    "    if nucl_seq_type(nucl_seq): \n",
    "        seq_stat_dic['type'] = 'DNA'\n",
    "    else: \n",
    "        seq_stat_dic['type'] = 'RNA'\n",
    "    seq_stat_dic['mean'] = nucl_seq_mean_value(nucl_seq)\n",
    "    seq_stat_dic['length'] = len(nucl_seq)\n",
    "    seq_stat_dic['count'] = nucl_seq_count(nucl_seq)\n",
    "    seq_stat_dic['gs'] = nucl_seq_gc(nucl_seq)\n",
    "    seq_stat_dic['sec_chain'] = nucl_seq_second_chain(nucl_seq)    \n",
    "    return seq_stat_dic\n",
    "\n",
    "# Saves basic statistic of both nucleotide chains to the dictionary\n",
    "def double_nucl_seq_stat_to_dic(first_nucl_seq):\n",
    "    second_nucl_seq = nucl_seq_second_chain(first_nucl_seq)\n",
    "    double_seq_stat_dic = {}\n",
    "    double_seq_stat_dic['5\\'-3\\''] = nucl_seq_stat_to_dic(first_nucl_seq)\n",
    "    double_seq_stat_dic['3\\'-5\\''] = nucl_seq_stat_to_dic(second_nucl_seq)  \n",
    "    return double_seq_stat_dic\n",
    "    \n",
    "#---------------------------------------------------------------   \n",
    "nucl_seq = 'ATTTCATTTAGGGGGCCGCAATATCGGCGATCATGCAT'\n",
    "\n",
    "double_nucl_seq_stat_to_dic(nucl_seq)"
   ]
  },
  {
   "cell_type": "code",
   "execution_count": null,
   "metadata": {},
   "outputs": [],
   "source": []
  }
 ],
 "metadata": {
  "kernelspec": {
   "display_name": "Python 3 (ipykernel)",
   "language": "python",
   "name": "python3"
  },
  "language_info": {
   "codemirror_mode": {
    "name": "ipython",
    "version": 3
   },
   "file_extension": ".py",
   "mimetype": "text/x-python",
   "name": "python",
   "nbconvert_exporter": "python",
   "pygments_lexer": "ipython3",
   "version": "3.9.7"
  }
 },
 "nbformat": 4,
 "nbformat_minor": 4
}
