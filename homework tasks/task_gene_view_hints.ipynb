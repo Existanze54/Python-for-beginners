{
 "cells": [
  {
   "cell_type": "markdown",
   "id": "6097f93c-8866-4b2c-9d27-bb2f70e4740b",
   "metadata": {},
   "source": [
    "# Домашнее задание \n",
    "\n",
    "1. Изучить паттерны проектирования:\n",
    "* [Builder (Строитель)](https://refactoring.guru/ru/design-patterns/builder)\n",
    "* [Composite (Компоновщик)](https://refactoring.guru/ru/design-patterns/composite)\n",
    " \n",
    "2. Разработать иерархию классов для рисования простых фигур (BoxView, TextView) и составных из них фигур (CompositeView, паттерн Composite)\n",
    "* спроектировать \n",
    "* нарисовать разработанную иерархию классов, используя [Plant UML](https://plantuml.com/ru/class-diagram)\n",
    "* реализовать разработанную иерархию, используя для рисования функции [ipycnvas](https://ipycanvas.readthedocs.io/en/latest/)\n",
    "\n",
    "При реализации каждого класса, отдельной клеточкой делать тест для его тестирования и отладки\n",
    "\n",
    "3. Разработать простой геномный браузер для визуализации генов\n",
    "* использовать подход [Model-View-Controller](https://ru.wikipedia.org/wiki/Model-View-Controller)\n",
    "* Разработать модель гена, изобразить ее используя [Plant UML](https://plantuml.com/ru/class-diagram)\n",
    "* Для генерации View для гена использовать шаблон [Composite (Компоновщик)](https://refactoring.guru/ru/design-patterns/composite)\n",
    "\n",
    "4. Продемонстрировать работу геномного браузера, получив примерно такую картинку\n",
    "\n",
    "<img src=\"https://gitlab.sirius-web.org/students/2021/kolpakov.fa/python-for-beginners/-/raw/master/lections/files_and_images/gene_view.png\">\n",
    "\n",
    "## Подсказки\n",
    "\n",
    "### Интерфейс View, BaseView\n",
    "приведены ниже\n",
    "\n",
    "### определение размера текста для TextView\n",
    "def textSize(x, y, text, font_size, font_name):\n",
    "    '''\n",
    "    Некоторая проблема - узнать размер отображения текста.\n",
    "    Напрямую библиотека pycanvas не имеет такого метода, поэтому мы делаем некоторую эвристику, чтобы угадать размер текста.\n",
    "    \n",
    "    Параметры:\n",
    "    x, y - координаты, используемые для рисования текста в pycanvas\n",
    "    text - текст, для которого рассчитывается размер\n",
    "    font_size - размер шрифта\n",
    "    \n",
    "    Возвращает Rectangle, описывающий размер заданного текста.\n",
    "    '''\n",
    "    k = 0.55\n",
    "    if font_name != 'monospace': \n",
    "        k = 0.47\n",
    "    \n",
    "    return Rectangle(x, y, font_size*len(text)*k, font_size*1)\n",
    "\n",
    "### версия с заголовками и тестами\n",
    "это версия с тестами и заготовками классов, которые использовал преподаватель для выполнения этой работы.\n"
   ]
  },
  {
   "cell_type": "markdown",
   "id": "62e48d1d-d9b9-4844-b9d6-ed80c629861b",
   "metadata": {},
   "source": [
    "## Рисование диаграмм черер PlantUML и kroki\n",
    "https://github.com/sunhwan/jupyter-kroki-magic\n",
    "https://ipython.readthedocs.io/en/stable/config/custommagics.html#defining-magics"
   ]
  },
  {
   "cell_type": "code",
   "execution_count": 1,
   "id": "8d206c2d-1b50-4d76-b06c-b6c3333ced2e",
   "metadata": {},
   "outputs": [],
   "source": [
    "# поддержка типа клеток %%kroki\n",
    "import requests\n",
    "from IPython.display import SVG, display\n",
    "from IPython.core.magic import register_cell_magic\n",
    "\n",
    "diagrams_supported = set(['blockdiag', 'seqdiag', 'mermaid', 'actdiag', 'nwdiag',\n",
    "                          'packetdiag', 'rackdiag', 'erd', 'nomnoml', 'plantuml',\n",
    "                          'umlet', 'wavedrom', 'bpmn', 'bytefield', 'pikchr',\n",
    "                          'graphviz', 'vega', 'vega-lite', 'ditaa', 'svgbob'])\n",
    "\n",
    "\n",
    "@register_cell_magic\n",
    "def kroki(line, cell):\n",
    "        \"simple wrapper for kroki.io\"\n",
    "        \n",
    "        if line not in diagrams_supported:\n",
    "            raise NotImplemented\n",
    "            \n",
    "        url = 'https://kroki.io'\n",
    "        r = requests.post(f'{url}/{line}/svg', json={'diagram_source': cell})\n",
    "        if r.status_code == 200:\n",
    "            return display(SVG(r.text))\n",
    "        else:\n",
    "            raise ValueError\n"
   ]
  },
  {
   "cell_type": "markdown",
   "id": "66ed0354-5f00-4c73-becc-6e4ff715ab48",
   "metadata": {},
   "source": [
    "## Примеры диаграмм "
   ]
  },
  {
   "cell_type": "code",
   "execution_count": 2,
   "id": "1e42e1ab-59bd-4d3a-9926-ce642657002e",
   "metadata": {},
   "outputs": [
    {
     "data": {
      "image/svg+xml": [
       "<svg xmlns=\"http://www.w3.org/2000/svg\" xmlns:xlink=\"http://www.w3.org/1999/xlink\" contentScriptType=\"application/ecmascript\" contentStyleType=\"text/css\" height=\"311px\" preserveAspectRatio=\"none\" style=\"width:291px;height:311px;background:#FFFFFF;\" version=\"1.1\" viewBox=\"0 0 291 311\" width=\"291px\" zoomAndPan=\"magnify\"><defs><filter height=\"300%\" id=\"fsmzdywlff851\" width=\"300%\" x=\"-1\" y=\"-1\"><feGaussianBlur result=\"blurOut\" stdDeviation=\"2.0\"/><feColorMatrix in=\"blurOut\" result=\"blurOut2\" type=\"matrix\" values=\"0 0 0 0 0 0 0 0 0 0 0 0 0 0 0 0 0 0 .4 0\"/><feOffset dx=\"4.0\" dy=\"4.0\" in=\"blurOut2\" result=\"blurOut3\"/><feBlend in=\"SourceGraphic\" in2=\"blurOut3\" mode=\"normal\"/></filter></defs><g><!--MD5=[b4fa10df80476353258f72a232547d63]\n",
       "class AbstractList--><rect codeLine=\"1\" fill=\"#FEFECE\" filter=\"url(#fsmzdywlff851)\" height=\"48\" id=\"AbstractList\" style=\"stroke:#A80036;stroke-width:1.5;\" width=\"95\" x=\"172.5\" y=\"115\"/><ellipse cx=\"187.5\" cy=\"131\" fill=\"#A9DCDF\" rx=\"11\" ry=\"11\" style=\"stroke:#A80036;stroke-width:1.0;\"/><path d=\"M188.4531,134.6563 Q188.4531,134.1563 188.7344,133.9844 Q189.0313,133.7969 189.5781,133.7969 L189.9688,133.7969 L189.5781,132.8125 L185.5313,132.8125 L185.1406,133.7969 L185.5313,133.7969 Q186.6406,133.7969 186.6406,134.6563 Q186.6406,135.5 185.5313,135.5 L183.2656,135.5 Q182.1406,135.5 182.1406,134.6563 Q182.1406,134.1406 182.4375,133.9688 Q182.7344,133.7969 183.2813,133.7969 L185.9219,127.2813 L184.8438,127.2813 Q183.7031,127.2813 183.7031,126.4375 Q183.7031,125.9219 184,125.7656 Q184.2969,125.5938 184.8438,125.5938 L188.5156,125.5938 L191.9063,133.7969 Q193.0625,133.7969 193.0625,134.6563 Q193.0625,135.5 191.9375,135.5 L189.5781,135.5 Q188.4531,135.5 188.4531,134.6563 Z M188.875,131.1094 L187.5469,127.8438 L186.2031,131.1094 L188.875,131.1094 Z \" fill=\"#000000\"/><text fill=\"#000000\" font-family=\"sans-serif\" font-size=\"12\" font-style=\"italic\" lengthAdjust=\"spacing\" textLength=\"63\" x=\"201.5\" y=\"135.8\">AbstractList</text><line style=\"stroke:#A80036;stroke-width:1.5;\" x1=\"173.5\" x2=\"266.5\" y1=\"147\" y2=\"147\"/><line style=\"stroke:#A80036;stroke-width:1.5;\" x1=\"173.5\" x2=\"266.5\" y1=\"155\" y2=\"155\"/><!--MD5=[8e34b16d8d8f96f4a11290cd523ed859]\n",
       "class AbstractCollection--><rect codeLine=\"2\" fill=\"#FEFECE\" filter=\"url(#fsmzdywlff851)\" height=\"48\" id=\"AbstractCollection\" style=\"stroke:#A80036;stroke-width:1.5;\" width=\"130\" x=\"7\" y=\"115\"/><ellipse cx=\"22\" cy=\"131\" fill=\"#A9DCDF\" rx=\"11\" ry=\"11\" style=\"stroke:#A80036;stroke-width:1.0;\"/><path d=\"M22.9531,134.6563 Q22.9531,134.1563 23.2344,133.9844 Q23.5313,133.7969 24.0781,133.7969 L24.4688,133.7969 L24.0781,132.8125 L20.0313,132.8125 L19.6406,133.7969 L20.0313,133.7969 Q21.1406,133.7969 21.1406,134.6563 Q21.1406,135.5 20.0313,135.5 L17.7656,135.5 Q16.6406,135.5 16.6406,134.6563 Q16.6406,134.1406 16.9375,133.9688 Q17.2344,133.7969 17.7813,133.7969 L20.4219,127.2813 L19.3438,127.2813 Q18.2031,127.2813 18.2031,126.4375 Q18.2031,125.9219 18.5,125.7656 Q18.7969,125.5938 19.3438,125.5938 L23.0156,125.5938 L26.4063,133.7969 Q27.5625,133.7969 27.5625,134.6563 Q27.5625,135.5 26.4375,135.5 L24.0781,135.5 Q22.9531,135.5 22.9531,134.6563 Z M23.375,131.1094 L22.0469,127.8438 L20.7031,131.1094 L23.375,131.1094 Z \" fill=\"#000000\"/><text fill=\"#000000\" font-family=\"sans-serif\" font-size=\"12\" font-style=\"italic\" lengthAdjust=\"spacing\" textLength=\"98\" x=\"36\" y=\"135.8\">AbstractCollection</text><line style=\"stroke:#A80036;stroke-width:1.5;\" x1=\"8\" x2=\"136\" y1=\"147\" y2=\"147\"/><line style=\"stroke:#A80036;stroke-width:1.5;\" x1=\"8\" x2=\"136\" y1=\"155\" y2=\"155\"/><!--MD5=[3d4177ac58b4411586d067f34e84928f]\n",
       "class List--><rect codeLine=\"3\" fill=\"#FEFECE\" filter=\"url(#fsmzdywlff851)\" height=\"48\" id=\"List\" style=\"stroke:#A80036;stroke-width:1.5;\" width=\"51\" x=\"183.5\" y=\"7\"/><ellipse cx=\"198.5\" cy=\"23\" fill=\"#B4A7E5\" rx=\"11\" ry=\"11\" style=\"stroke:#A80036;stroke-width:1.0;\"/><path d=\"M201.1719,26.2969 Q201.7188,26.2969 202,26.4844 Q202.2813,26.6563 202.2813,27.1563 Q202.2813,28 201.1719,28 L196.0313,28 Q194.9063,28 194.9063,27.1563 Q194.9063,26.6563 195.1875,26.4844 Q195.4844,26.2969 196.0313,26.2969 L197.75,26.2969 L197.75,19.7813 L196.0313,19.7813 Q194.9063,19.7813 194.9063,18.9375 Q194.9063,18.4531 195.1875,18.2813 Q195.4844,18.0938 196.0313,18.0938 L201.1719,18.0938 Q201.7188,18.0938 202,18.2813 Q202.2813,18.4531 202.2813,18.9375 Q202.2813,19.7813 201.1719,19.7813 L199.4531,19.7813 L199.4531,26.2969 L201.1719,26.2969 Z \" fill=\"#000000\"/><text fill=\"#000000\" font-family=\"sans-serif\" font-size=\"12\" font-style=\"italic\" lengthAdjust=\"spacing\" textLength=\"19\" x=\"212.5\" y=\"27.8\">List</text><line style=\"stroke:#A80036;stroke-width:1.5;\" x1=\"184.5\" x2=\"233.5\" y1=\"39\" y2=\"39\"/><line style=\"stroke:#A80036;stroke-width:1.5;\" x1=\"184.5\" x2=\"233.5\" y1=\"47\" y2=\"47\"/><!--MD5=[c160724f8e3bb89ca8141a12554ac2e3]\n",
       "class Collection--><rect codeLine=\"4\" fill=\"#FEFECE\" filter=\"url(#fsmzdywlff851)\" height=\"48\" id=\"Collection\" style=\"stroke:#A80036;stroke-width:1.5;\" width=\"86\" x=\"51\" y=\"7\"/><ellipse cx=\"66\" cy=\"23\" fill=\"#B4A7E5\" rx=\"11\" ry=\"11\" style=\"stroke:#A80036;stroke-width:1.0;\"/><path d=\"M68.6719,26.2969 Q69.2188,26.2969 69.5,26.4844 Q69.7813,26.6563 69.7813,27.1563 Q69.7813,28 68.6719,28 L63.5313,28 Q62.4063,28 62.4063,27.1563 Q62.4063,26.6563 62.6875,26.4844 Q62.9844,26.2969 63.5313,26.2969 L65.25,26.2969 L65.25,19.7813 L63.5313,19.7813 Q62.4063,19.7813 62.4063,18.9375 Q62.4063,18.4531 62.6875,18.2813 Q62.9844,18.0938 63.5313,18.0938 L68.6719,18.0938 Q69.2188,18.0938 69.5,18.2813 Q69.7813,18.4531 69.7813,18.9375 Q69.7813,19.7813 68.6719,19.7813 L66.9531,19.7813 L66.9531,26.2969 L68.6719,26.2969 Z \" fill=\"#000000\"/><text fill=\"#000000\" font-family=\"sans-serif\" font-size=\"12\" font-style=\"italic\" lengthAdjust=\"spacing\" textLength=\"54\" x=\"80\" y=\"27.8\">Collection</text><line style=\"stroke:#A80036;stroke-width:1.5;\" x1=\"52\" x2=\"136\" y1=\"39\" y2=\"39\"/><line style=\"stroke:#A80036;stroke-width:1.5;\" x1=\"52\" x2=\"136\" y1=\"47\" y2=\"47\"/><!--MD5=[ab8871ed637f40707b866ba6597734bc]\n",
       "class ArrayList--><rect codeLine=\"13\" fill=\"#FEFECE\" filter=\"url(#fsmzdywlff851)\" height=\"74.3998\" id=\"ArrayList\" style=\"stroke:#A80036;stroke-width:1.5;\" width=\"115\" x=\"162.5\" y=\"223\"/><ellipse cx=\"193.25\" cy=\"239\" fill=\"#ADD1B2\" rx=\"11\" ry=\"11\" style=\"stroke:#A80036;stroke-width:1.0;\"/><path d=\"M192.6094,242.7813 Q193.4063,242.7813 193.9688,242.5938 Q194.5469,242.3906 194.7813,242.1719 Q195.0313,241.9375 195.2656,241.75 Q195.5156,241.5469 195.7344,241.5469 Q196.0781,241.5469 196.3281,241.8125 Q196.5938,242.0625 196.5938,242.3906 Q196.5938,243.125 195.4219,243.8125 Q194.2656,244.4844 192.5625,244.4844 Q190.4063,244.4844 188.9844,243.2188 Q187.5625,241.9531 187.5625,240.0156 L187.5625,238.8906 Q187.5625,236.8594 188.8906,235.4844 Q190.2188,234.0938 192.1875,234.0938 Q193.375,234.0938 194.5938,234.6719 L194.7656,234.75 Q195.0625,234.3438 195.4844,234.3438 Q195.9688,234.3438 196.1406,234.6406 Q196.3281,234.9219 196.3281,235.4688 L196.3281,236.8906 Q196.3281,238.0156 195.4844,238.0156 Q195.1719,238.0156 194.9688,237.8438 Q194.7813,237.6719 194.7344,237.5313 Q194.7031,237.375 194.6563,237.1094 Q194.5469,236.5938 194.0313,236.2813 Q193.5156,235.9688 193.0625,235.8906 Q192.625,235.7969 192.25,235.7969 Q190.9688,235.7969 190.1094,236.6719 Q189.2656,237.5469 189.2656,238.8906 L189.2656,239.9844 Q189.2656,241.2656 190.1719,242.0313 Q191.0781,242.7813 192.6094,242.7813 Z \" fill=\"#000000\"/><text fill=\"#000000\" font-family=\"sans-serif\" font-size=\"12\" lengthAdjust=\"spacing\" textLength=\"48\" x=\"210.75\" y=\"243.8\">ArrayList</text><line style=\"stroke:#A80036;stroke-width:1.5;\" x1=\"163.5\" x2=\"276.5\" y1=\"255\" y2=\"255\"/><text fill=\"#000000\" font-family=\"sans-serif\" font-size=\"11\" lengthAdjust=\"spacing\" textLength=\"103\" x=\"168.5\" y=\"269.9999\">Object[] elementData</text><line style=\"stroke:#A80036;stroke-width:1.5;\" x1=\"163.5\" x2=\"276.5\" y1=\"276.1999\" y2=\"276.1999\"/><text fill=\"#000000\" font-family=\"sans-serif\" font-size=\"11\" lengthAdjust=\"spacing\" textLength=\"26\" x=\"168.5\" y=\"291.1998\">size()</text><!--MD5=[00308d07b6a5721fb0cf5861877e6652]\n",
       "reverse link List to AbstractList--><path codeLine=\"6\" d=\"M213.46,75.02 C214.87,88.58 216.37,103.04 217.58,114.68 \" fill=\"none\" id=\"List-backto-AbstractList\" style=\"stroke:#A80036;stroke-width:1.0;\"/><polygon fill=\"none\" points=\"206.49,75.62,211.39,55,220.41,74.17,206.49,75.62\" style=\"stroke:#A80036;stroke-width:1.0;\"/><!--MD5=[1822909749df1453bdd84de7a60a3406]\n",
       "reverse link Collection to AbstractCollection--><path codeLine=\"7\" d=\"M85.07,75.02 C82.26,88.58 79.26,103.04 76.84,114.68 \" fill=\"none\" id=\"Collection-backto-AbstractCollection\" style=\"stroke:#A80036;stroke-width:1.0;\"/><polygon fill=\"none\" points=\"78.31,73.16,89.23,55,92.02,76.01,78.31,73.16\" style=\"stroke:#A80036;stroke-width:1.0;\"/><!--MD5=[0159284274f96a472eb2618ad803aaca]\n",
       "reverse link Collection to List--><path codeLine=\"9\" d=\"M157.39,31 C166.08,31 174.76,31 183.45,31 \" fill=\"none\" id=\"Collection-backto-List\" style=\"stroke:#A80036;stroke-width:1.0;\"/><polygon fill=\"none\" points=\"157.13,38,137.12,31,157.12,24,157.13,38\" style=\"stroke:#A80036;stroke-width:1.0;\"/><!--MD5=[7a3a52e8f65ef1a8d8d29530ea5cd870]\n",
       "reverse link AbstractCollection to AbstractList--><path codeLine=\"10\" d=\"M157.18,139 C162.24,139 167.3,139 172.36,139 \" fill=\"none\" id=\"AbstractCollection-backto-AbstractList\" style=\"stroke:#A80036;stroke-width:1.0;\"/><polygon fill=\"none\" points=\"157.04,146,137.04,139,157.04,132,157.04,146\" style=\"stroke:#A80036;stroke-width:1.0;\"/><!--MD5=[40e4bb1af59cca28d4643aaff05088cc]\n",
       "reverse link AbstractList to ArrayList--><path codeLine=\"11\" d=\"M220,183.43 C220,196.33 220,210.32 220,222.71 \" fill=\"none\" id=\"AbstractList-backto-ArrayList\" style=\"stroke:#A80036;stroke-width:1.0;\"/><polygon fill=\"none\" points=\"213,183.23,220,163.23,227,183.23,213,183.23\" style=\"stroke:#A80036;stroke-width:1.0;\"/><!--MD5=[8c57b88c7543ba66b17f20f1b341b7e0]\n",
       "@startuml\n",
       "abstract class AbstractList\n",
       "abstract AbstractCollection\n",
       "interface List\n",
       "interface Collection\n",
       "\n",
       "List <|- - AbstractList\n",
       "Collection <|- - AbstractCollection\n",
       "\n",
       "Collection <|- List\n",
       "AbstractCollection <|- AbstractList\n",
       "AbstractList <|- - ArrayList\n",
       "\n",
       "class ArrayList {\n",
       "  Object[] elementData\n",
       "  size()\n",
       "}\n",
       "@enduml\n",
       "\n",
       "PlantUML version 1.2021.8(Sat Jun 26 08:20:59 GMT 2021)\n",
       "(GPL source distribution)\n",
       "Java Runtime: OpenJDK Runtime Environment\n",
       "JVM: OpenJDK 64-Bit Server VM\n",
       "Default Encoding: UTF-8\n",
       "Language: en\n",
       "Country: US\n",
       "--></g></svg>"
      ],
      "text/plain": [
       "<IPython.core.display.SVG object>"
      ]
     },
     "metadata": {},
     "output_type": "display_data"
    }
   ],
   "source": [
    "%%kroki plantuml\n",
    "\n",
    "abstract class AbstractList\n",
    "abstract AbstractCollection\n",
    "interface List\n",
    "interface Collection\n",
    "\n",
    "List <|-- AbstractList\n",
    "Collection <|-- AbstractCollection\n",
    "\n",
    "Collection <|- List\n",
    "AbstractCollection <|- AbstractList\n",
    "AbstractList <|-- ArrayList\n",
    "\n",
    "class ArrayList {\n",
    "  Object[] elementData\n",
    "  size()\n",
    "}"
   ]
  },
  {
   "cell_type": "code",
   "execution_count": 277,
   "id": "adf4b6a4-9b81-4b2b-9fee-cd7f771e632d",
   "metadata": {},
   "outputs": [
    {
     "data": {
      "image/svg+xml": [
       "<svg xmlns=\"http://www.w3.org/2000/svg\" xmlns:xlink=\"http://www.w3.org/1999/xlink\" contentScriptType=\"application/ecmascript\" contentStyleType=\"text/css\" height=\"393px\" preserveAspectRatio=\"none\" style=\"width:531px;height:393px;background:#FFFFFF;\" version=\"1.1\" viewBox=\"0 0 531 393\" width=\"531px\" zoomAndPan=\"magnify\"><defs><filter height=\"300%\" id=\"f9mdkixml51ex\" width=\"300%\" x=\"-1\" y=\"-1\"><feGaussianBlur result=\"blurOut\" stdDeviation=\"2.0\"/><feColorMatrix in=\"blurOut\" result=\"blurOut2\" type=\"matrix\" values=\"0 0 0 0 0 0 0 0 0 0 0 0 0 0 0 0 0 0 .4 0\"/><feOffset dx=\"4.0\" dy=\"4.0\" in=\"blurOut2\" result=\"blurOut3\"/><feBlend in=\"SourceGraphic\" in2=\"blurOut3\" mode=\"normal\"/></filter></defs><g><!--MD5=[c045e12321b83266d36d22b9096c24ea]\n",
       "class View--><rect codeLine=\"1\" fill=\"#FEFECE\" filter=\"url(#f9mdkixml51ex)\" height=\"48\" id=\"View\" style=\"stroke:#A80036;stroke-width:1.5;\" width=\"59\" x=\"297.5\" y=\"7\"/><ellipse cx=\"312.5\" cy=\"23\" fill=\"#A9DCDF\" rx=\"11\" ry=\"11\" style=\"stroke:#A80036;stroke-width:1.0;\"/><path d=\"M313.4531,26.6563 Q313.4531,26.1563 313.7344,25.9844 Q314.0313,25.7969 314.5781,25.7969 L314.9688,25.7969 L314.5781,24.8125 L310.5313,24.8125 L310.1406,25.7969 L310.5313,25.7969 Q311.6406,25.7969 311.6406,26.6563 Q311.6406,27.5 310.5313,27.5 L308.2656,27.5 Q307.1406,27.5 307.1406,26.6563 Q307.1406,26.1406 307.4375,25.9688 Q307.7344,25.7969 308.2813,25.7969 L310.9219,19.2813 L309.8438,19.2813 Q308.7031,19.2813 308.7031,18.4375 Q308.7031,17.9219 309,17.7656 Q309.2969,17.5938 309.8438,17.5938 L313.5156,17.5938 L316.9063,25.7969 Q318.0625,25.7969 318.0625,26.6563 Q318.0625,27.5 316.9375,27.5 L314.5781,27.5 Q313.4531,27.5 313.4531,26.6563 Z M313.875,23.1094 L312.5469,19.8438 L311.2031,23.1094 L313.875,23.1094 Z \" fill=\"#000000\"/><text fill=\"#000000\" font-family=\"sans-serif\" font-size=\"12\" font-style=\"italic\" lengthAdjust=\"spacing\" textLength=\"27\" x=\"326.5\" y=\"27.8\">View</text><line style=\"stroke:#A80036;stroke-width:1.5;\" x1=\"298.5\" x2=\"355.5\" y1=\"39\" y2=\"39\"/><line style=\"stroke:#A80036;stroke-width:1.5;\" x1=\"298.5\" x2=\"355.5\" y1=\"47\" y2=\"47\"/><!--MD5=[7f71caf2f03bc97de09c89514fe9107d]\n",
       "class BaseView--><rect codeLine=\"2\" fill=\"#FEFECE\" filter=\"url(#f9mdkixml51ex)\" height=\"48\" id=\"BaseView\" style=\"stroke:#A80036;stroke-width:1.5;\" width=\"85\" x=\"284.5\" y=\"115\"/><ellipse cx=\"299.5\" cy=\"131\" fill=\"#ADD1B2\" rx=\"11\" ry=\"11\" style=\"stroke:#A80036;stroke-width:1.0;\"/><path d=\"M298.8594,134.7813 Q299.6563,134.7813 300.2188,134.5938 Q300.7969,134.3906 301.0313,134.1719 Q301.2813,133.9375 301.5156,133.75 Q301.7656,133.5469 301.9844,133.5469 Q302.3281,133.5469 302.5781,133.8125 Q302.8438,134.0625 302.8438,134.3906 Q302.8438,135.125 301.6719,135.8125 Q300.5156,136.4844 298.8125,136.4844 Q296.6563,136.4844 295.2344,135.2188 Q293.8125,133.9531 293.8125,132.0156 L293.8125,130.8906 Q293.8125,128.8594 295.1406,127.4844 Q296.4688,126.0938 298.4375,126.0938 Q299.625,126.0938 300.8438,126.6719 L301.0156,126.75 Q301.3125,126.3438 301.7344,126.3438 Q302.2188,126.3438 302.3906,126.6406 Q302.5781,126.9219 302.5781,127.4688 L302.5781,128.8906 Q302.5781,130.0156 301.7344,130.0156 Q301.4219,130.0156 301.2188,129.8438 Q301.0313,129.6719 300.9844,129.5313 Q300.9531,129.375 300.9063,129.1094 Q300.7969,128.5938 300.2813,128.2813 Q299.7656,127.9688 299.3125,127.8906 Q298.875,127.7969 298.5,127.7969 Q297.2188,127.7969 296.3594,128.6719 Q295.5156,129.5469 295.5156,130.8906 L295.5156,131.9844 Q295.5156,133.2656 296.4219,134.0313 Q297.3281,134.7813 298.8594,134.7813 Z \" fill=\"#000000\"/><text fill=\"#000000\" font-family=\"sans-serif\" font-size=\"12\" lengthAdjust=\"spacing\" textLength=\"53\" x=\"313.5\" y=\"135.8\">BaseView</text><line style=\"stroke:#A80036;stroke-width:1.5;\" x1=\"285.5\" x2=\"368.5\" y1=\"147\" y2=\"147\"/><line style=\"stroke:#A80036;stroke-width:1.5;\" x1=\"285.5\" x2=\"368.5\" y1=\"155\" y2=\"155\"/><!--MD5=[4fff57d5df32d204da251f71f66b42d5]\n",
       "class RectangleView--><rect codeLine=\"3\" fill=\"#FEFECE\" filter=\"url(#f9mdkixml51ex)\" height=\"48\" id=\"RectangleView\" style=\"stroke:#A80036;stroke-width:1.5;\" width=\"111\" x=\"140.5\" y=\"223\"/><ellipse cx=\"155.5\" cy=\"239\" fill=\"#ADD1B2\" rx=\"11\" ry=\"11\" style=\"stroke:#A80036;stroke-width:1.0;\"/><path d=\"M154.8594,242.7813 Q155.6563,242.7813 156.2188,242.5938 Q156.7969,242.3906 157.0313,242.1719 Q157.2813,241.9375 157.5156,241.75 Q157.7656,241.5469 157.9844,241.5469 Q158.3281,241.5469 158.5781,241.8125 Q158.8438,242.0625 158.8438,242.3906 Q158.8438,243.125 157.6719,243.8125 Q156.5156,244.4844 154.8125,244.4844 Q152.6563,244.4844 151.2344,243.2188 Q149.8125,241.9531 149.8125,240.0156 L149.8125,238.8906 Q149.8125,236.8594 151.1406,235.4844 Q152.4688,234.0938 154.4375,234.0938 Q155.625,234.0938 156.8438,234.6719 L157.0156,234.75 Q157.3125,234.3438 157.7344,234.3438 Q158.2188,234.3438 158.3906,234.6406 Q158.5781,234.9219 158.5781,235.4688 L158.5781,236.8906 Q158.5781,238.0156 157.7344,238.0156 Q157.4219,238.0156 157.2188,237.8438 Q157.0313,237.6719 156.9844,237.5313 Q156.9531,237.375 156.9063,237.1094 Q156.7969,236.5938 156.2813,236.2813 Q155.7656,235.9688 155.3125,235.8906 Q154.875,235.7969 154.5,235.7969 Q153.2188,235.7969 152.3594,236.6719 Q151.5156,237.5469 151.5156,238.8906 L151.5156,239.9844 Q151.5156,241.2656 152.4219,242.0313 Q153.3281,242.7813 154.8594,242.7813 Z \" fill=\"#000000\"/><text fill=\"#000000\" font-family=\"sans-serif\" font-size=\"12\" lengthAdjust=\"spacing\" textLength=\"79\" x=\"169.5\" y=\"243.8\">RectangleView</text><line style=\"stroke:#A80036;stroke-width:1.5;\" x1=\"141.5\" x2=\"250.5\" y1=\"255\" y2=\"255\"/><line style=\"stroke:#A80036;stroke-width:1.5;\" x1=\"141.5\" x2=\"250.5\" y1=\"263\" y2=\"263\"/><!--MD5=[67263f88993659c5b56bfa37a6626d0b]\n",
       "class TextView--><rect codeLine=\"4\" fill=\"#FEFECE\" filter=\"url(#f9mdkixml51ex)\" height=\"48\" id=\"TextView\" style=\"stroke:#A80036;stroke-width:1.5;\" width=\"81\" x=\"286.5\" y=\"223\"/><ellipse cx=\"301.5\" cy=\"239\" fill=\"#ADD1B2\" rx=\"11\" ry=\"11\" style=\"stroke:#A80036;stroke-width:1.0;\"/><path d=\"M300.8594,242.7813 Q301.6563,242.7813 302.2188,242.5938 Q302.7969,242.3906 303.0313,242.1719 Q303.2813,241.9375 303.5156,241.75 Q303.7656,241.5469 303.9844,241.5469 Q304.3281,241.5469 304.5781,241.8125 Q304.8438,242.0625 304.8438,242.3906 Q304.8438,243.125 303.6719,243.8125 Q302.5156,244.4844 300.8125,244.4844 Q298.6563,244.4844 297.2344,243.2188 Q295.8125,241.9531 295.8125,240.0156 L295.8125,238.8906 Q295.8125,236.8594 297.1406,235.4844 Q298.4688,234.0938 300.4375,234.0938 Q301.625,234.0938 302.8438,234.6719 L303.0156,234.75 Q303.3125,234.3438 303.7344,234.3438 Q304.2188,234.3438 304.3906,234.6406 Q304.5781,234.9219 304.5781,235.4688 L304.5781,236.8906 Q304.5781,238.0156 303.7344,238.0156 Q303.4219,238.0156 303.2188,237.8438 Q303.0313,237.6719 302.9844,237.5313 Q302.9531,237.375 302.9063,237.1094 Q302.7969,236.5938 302.2813,236.2813 Q301.7656,235.9688 301.3125,235.8906 Q300.875,235.7969 300.5,235.7969 Q299.2188,235.7969 298.3594,236.6719 Q297.5156,237.5469 297.5156,238.8906 L297.5156,239.9844 Q297.5156,241.2656 298.4219,242.0313 Q299.3281,242.7813 300.8594,242.7813 Z \" fill=\"#000000\"/><text fill=\"#000000\" font-family=\"sans-serif\" font-size=\"12\" lengthAdjust=\"spacing\" textLength=\"49\" x=\"315.5\" y=\"243.8\">TextView</text><line style=\"stroke:#A80036;stroke-width:1.5;\" x1=\"287.5\" x2=\"366.5\" y1=\"255\" y2=\"255\"/><line style=\"stroke:#A80036;stroke-width:1.5;\" x1=\"287.5\" x2=\"366.5\" y1=\"263\" y2=\"263\"/><!--MD5=[da1498b558fd9d5f1c3ba75241b61f78]\n",
       "class SequenceView--><rect codeLine=\"5\" fill=\"#FEFECE\" filter=\"url(#f9mdkixml51ex)\" height=\"48\" id=\"SequenceView\" style=\"stroke:#A80036;stroke-width:1.5;\" width=\"109\" x=\"272.5\" y=\"331\"/><ellipse cx=\"287.5\" cy=\"347\" fill=\"#ADD1B2\" rx=\"11\" ry=\"11\" style=\"stroke:#A80036;stroke-width:1.0;\"/><path d=\"M286.8594,350.7813 Q287.6563,350.7813 288.2188,350.5938 Q288.7969,350.3906 289.0313,350.1719 Q289.2813,349.9375 289.5156,349.75 Q289.7656,349.5469 289.9844,349.5469 Q290.3281,349.5469 290.5781,349.8125 Q290.8438,350.0625 290.8438,350.3906 Q290.8438,351.125 289.6719,351.8125 Q288.5156,352.4844 286.8125,352.4844 Q284.6563,352.4844 283.2344,351.2188 Q281.8125,349.9531 281.8125,348.0156 L281.8125,346.8906 Q281.8125,344.8594 283.1406,343.4844 Q284.4688,342.0938 286.4375,342.0938 Q287.625,342.0938 288.8438,342.6719 L289.0156,342.75 Q289.3125,342.3438 289.7344,342.3438 Q290.2188,342.3438 290.3906,342.6406 Q290.5781,342.9219 290.5781,343.4688 L290.5781,344.8906 Q290.5781,346.0156 289.7344,346.0156 Q289.4219,346.0156 289.2188,345.8438 Q289.0313,345.6719 288.9844,345.5313 Q288.9531,345.375 288.9063,345.1094 Q288.7969,344.5938 288.2813,344.2813 Q287.7656,343.9688 287.3125,343.8906 Q286.875,343.7969 286.5,343.7969 Q285.2188,343.7969 284.3594,344.6719 Q283.5156,345.5469 283.5156,346.8906 L283.5156,347.9844 Q283.5156,349.2656 284.4219,350.0313 Q285.3281,350.7813 286.8594,350.7813 Z \" fill=\"#000000\"/><text fill=\"#000000\" font-family=\"sans-serif\" font-size=\"12\" lengthAdjust=\"spacing\" textLength=\"77\" x=\"301.5\" y=\"351.8\">SequenceView</text><line style=\"stroke:#A80036;stroke-width:1.5;\" x1=\"273.5\" x2=\"380.5\" y1=\"363\" y2=\"363\"/><line style=\"stroke:#A80036;stroke-width:1.5;\" x1=\"273.5\" x2=\"380.5\" y1=\"371\" y2=\"371\"/><!--MD5=[c66493ebdec305df4c407ef70a0b378d]\n",
       "class CompositeView--><rect codeLine=\"6\" fill=\"#FEFECE\" filter=\"url(#f9mdkixml51ex)\" height=\"48\" id=\"CompositeView\" style=\"stroke:#A80036;stroke-width:1.5;\" width=\"114\" x=\"403\" y=\"223\"/><ellipse cx=\"418\" cy=\"239\" fill=\"#ADD1B2\" rx=\"11\" ry=\"11\" style=\"stroke:#A80036;stroke-width:1.0;\"/><path d=\"M417.3594,242.7813 Q418.1563,242.7813 418.7188,242.5938 Q419.2969,242.3906 419.5313,242.1719 Q419.7813,241.9375 420.0156,241.75 Q420.2656,241.5469 420.4844,241.5469 Q420.8281,241.5469 421.0781,241.8125 Q421.3438,242.0625 421.3438,242.3906 Q421.3438,243.125 420.1719,243.8125 Q419.0156,244.4844 417.3125,244.4844 Q415.1563,244.4844 413.7344,243.2188 Q412.3125,241.9531 412.3125,240.0156 L412.3125,238.8906 Q412.3125,236.8594 413.6406,235.4844 Q414.9688,234.0938 416.9375,234.0938 Q418.125,234.0938 419.3438,234.6719 L419.5156,234.75 Q419.8125,234.3438 420.2344,234.3438 Q420.7188,234.3438 420.8906,234.6406 Q421.0781,234.9219 421.0781,235.4688 L421.0781,236.8906 Q421.0781,238.0156 420.2344,238.0156 Q419.9219,238.0156 419.7188,237.8438 Q419.5313,237.6719 419.4844,237.5313 Q419.4531,237.375 419.4063,237.1094 Q419.2969,236.5938 418.7813,236.2813 Q418.2656,235.9688 417.8125,235.8906 Q417.375,235.7969 417,235.7969 Q415.7188,235.7969 414.8594,236.6719 Q414.0156,237.5469 414.0156,238.8906 L414.0156,239.9844 Q414.0156,241.2656 414.9219,242.0313 Q415.8281,242.7813 417.3594,242.7813 Z \" fill=\"#000000\"/><text fill=\"#000000\" font-family=\"sans-serif\" font-size=\"12\" lengthAdjust=\"spacing\" textLength=\"82\" x=\"432\" y=\"243.8\">CompositeView</text><line style=\"stroke:#A80036;stroke-width:1.5;\" x1=\"404\" x2=\"516\" y1=\"255\" y2=\"255\"/><line style=\"stroke:#A80036;stroke-width:1.5;\" x1=\"404\" x2=\"516\" y1=\"263\" y2=\"263\"/><!--MD5=[a11986054526db6cdda666d86bdc1459]\n",
       "class Gene--><rect codeLine=\"9\" fill=\"#FEFECE\" filter=\"url(#f9mdkixml51ex)\" height=\"48\" id=\"Gene\" style=\"stroke:#A80036;stroke-width:1.5;\" width=\"59\" x=\"38.5\" y=\"7\"/><ellipse cx=\"53.5\" cy=\"23\" fill=\"#ADD1B2\" rx=\"11\" ry=\"11\" style=\"stroke:#A80036;stroke-width:1.0;\"/><path d=\"M52.8594,26.7813 Q53.6563,26.7813 54.2188,26.5938 Q54.7969,26.3906 55.0313,26.1719 Q55.2813,25.9375 55.5156,25.75 Q55.7656,25.5469 55.9844,25.5469 Q56.3281,25.5469 56.5781,25.8125 Q56.8438,26.0625 56.8438,26.3906 Q56.8438,27.125 55.6719,27.8125 Q54.5156,28.4844 52.8125,28.4844 Q50.6563,28.4844 49.2344,27.2188 Q47.8125,25.9531 47.8125,24.0156 L47.8125,22.8906 Q47.8125,20.8594 49.1406,19.4844 Q50.4688,18.0938 52.4375,18.0938 Q53.625,18.0938 54.8438,18.6719 L55.0156,18.75 Q55.3125,18.3438 55.7344,18.3438 Q56.2188,18.3438 56.3906,18.6406 Q56.5781,18.9219 56.5781,19.4688 L56.5781,20.8906 Q56.5781,22.0156 55.7344,22.0156 Q55.4219,22.0156 55.2188,21.8438 Q55.0313,21.6719 54.9844,21.5313 Q54.9531,21.375 54.9063,21.1094 Q54.7969,20.5938 54.2813,20.2813 Q53.7656,19.9688 53.3125,19.8906 Q52.875,19.7969 52.5,19.7969 Q51.2188,19.7969 50.3594,20.6719 Q49.5156,21.5469 49.5156,22.8906 L49.5156,23.9844 Q49.5156,25.2656 50.4219,26.0313 Q51.3281,26.7813 52.8594,26.7813 Z \" fill=\"#000000\"/><text fill=\"#000000\" font-family=\"sans-serif\" font-size=\"12\" lengthAdjust=\"spacing\" textLength=\"27\" x=\"67.5\" y=\"27.8\">Gene</text><line style=\"stroke:#A80036;stroke-width:1.5;\" x1=\"39.5\" x2=\"96.5\" y1=\"39\" y2=\"39\"/><line style=\"stroke:#A80036;stroke-width:1.5;\" x1=\"39.5\" x2=\"96.5\" y1=\"47\" y2=\"47\"/><!--MD5=[7eeb4b838a05227218a56e467b2beb72]\n",
       "class Site--><rect codeLine=\"10\" fill=\"#FEFECE\" filter=\"url(#f9mdkixml51ex)\" height=\"48\" id=\"Site\" style=\"stroke:#A80036;stroke-width:1.5;\" width=\"52\" x=\"133\" y=\"7\"/><ellipse cx=\"148\" cy=\"23\" fill=\"#ADD1B2\" rx=\"11\" ry=\"11\" style=\"stroke:#A80036;stroke-width:1.0;\"/><path d=\"M147.3594,26.7813 Q148.1563,26.7813 148.7188,26.5938 Q149.2969,26.3906 149.5313,26.1719 Q149.7813,25.9375 150.0156,25.75 Q150.2656,25.5469 150.4844,25.5469 Q150.8281,25.5469 151.0781,25.8125 Q151.3438,26.0625 151.3438,26.3906 Q151.3438,27.125 150.1719,27.8125 Q149.0156,28.4844 147.3125,28.4844 Q145.1563,28.4844 143.7344,27.2188 Q142.3125,25.9531 142.3125,24.0156 L142.3125,22.8906 Q142.3125,20.8594 143.6406,19.4844 Q144.9688,18.0938 146.9375,18.0938 Q148.125,18.0938 149.3438,18.6719 L149.5156,18.75 Q149.8125,18.3438 150.2344,18.3438 Q150.7188,18.3438 150.8906,18.6406 Q151.0781,18.9219 151.0781,19.4688 L151.0781,20.8906 Q151.0781,22.0156 150.2344,22.0156 Q149.9219,22.0156 149.7188,21.8438 Q149.5313,21.6719 149.4844,21.5313 Q149.4531,21.375 149.4063,21.1094 Q149.2969,20.5938 148.7813,20.2813 Q148.2656,19.9688 147.8125,19.8906 Q147.375,19.7969 147,19.7969 Q145.7188,19.7969 144.8594,20.6719 Q144.0156,21.5469 144.0156,22.8906 L144.0156,23.9844 Q144.0156,25.2656 144.9219,26.0313 Q145.8281,26.7813 147.3594,26.7813 Z \" fill=\"#000000\"/><text fill=\"#000000\" font-family=\"sans-serif\" font-size=\"12\" lengthAdjust=\"spacing\" textLength=\"20\" x=\"162\" y=\"27.8\">Site</text><line style=\"stroke:#A80036;stroke-width:1.5;\" x1=\"134\" x2=\"184\" y1=\"39\" y2=\"39\"/><line style=\"stroke:#A80036;stroke-width:1.5;\" x1=\"134\" x2=\"184\" y1=\"47\" y2=\"47\"/><!--MD5=[88e2a0d4ab991ac16de8f88c13815ba1]\n",
       "class GeneViewBuilder--><rect codeLine=\"11\" fill=\"#FEFECE\" filter=\"url(#f9mdkixml51ex)\" height=\"48\" id=\"GeneViewBuilder\" style=\"stroke:#A80036;stroke-width:1.5;\" width=\"122\" x=\"7\" y=\"115\"/><ellipse cx=\"22\" cy=\"131\" fill=\"#ADD1B2\" rx=\"11\" ry=\"11\" style=\"stroke:#A80036;stroke-width:1.0;\"/><path d=\"M21.3594,134.7813 Q22.1563,134.7813 22.7188,134.5938 Q23.2969,134.3906 23.5313,134.1719 Q23.7813,133.9375 24.0156,133.75 Q24.2656,133.5469 24.4844,133.5469 Q24.8281,133.5469 25.0781,133.8125 Q25.3438,134.0625 25.3438,134.3906 Q25.3438,135.125 24.1719,135.8125 Q23.0156,136.4844 21.3125,136.4844 Q19.1563,136.4844 17.7344,135.2188 Q16.3125,133.9531 16.3125,132.0156 L16.3125,130.8906 Q16.3125,128.8594 17.6406,127.4844 Q18.9688,126.0938 20.9375,126.0938 Q22.125,126.0938 23.3438,126.6719 L23.5156,126.75 Q23.8125,126.3438 24.2344,126.3438 Q24.7188,126.3438 24.8906,126.6406 Q25.0781,126.9219 25.0781,127.4688 L25.0781,128.8906 Q25.0781,130.0156 24.2344,130.0156 Q23.9219,130.0156 23.7188,129.8438 Q23.5313,129.6719 23.4844,129.5313 Q23.4531,129.375 23.4063,129.1094 Q23.2969,128.5938 22.7813,128.2813 Q22.2656,127.9688 21.8125,127.8906 Q21.375,127.7969 21,127.7969 Q19.7188,127.7969 18.8594,128.6719 Q18.0156,129.5469 18.0156,130.8906 L18.0156,131.9844 Q18.0156,133.2656 18.9219,134.0313 Q19.8281,134.7813 21.3594,134.7813 Z \" fill=\"#000000\"/><text fill=\"#000000\" font-family=\"sans-serif\" font-size=\"12\" lengthAdjust=\"spacing\" textLength=\"90\" x=\"36\" y=\"135.8\">GeneViewBuilder</text><line style=\"stroke:#A80036;stroke-width:1.5;\" x1=\"8\" x2=\"128\" y1=\"147\" y2=\"147\"/><line style=\"stroke:#A80036;stroke-width:1.5;\" x1=\"8\" x2=\"128\" y1=\"155\" y2=\"155\"/><!--MD5=[b5313cd49da22b0744b541f414f8445e]\n",
       "class Rectangle--><rect codeLine=\"14\" fill=\"#FEFECE\" filter=\"url(#f9mdkixml51ex)\" height=\"48\" id=\"Rectangle\" style=\"stroke:#A80036;stroke-width:1.5;\" width=\"85\" x=\"164.5\" y=\"115\"/><ellipse cx=\"179.5\" cy=\"131\" fill=\"#ADD1B2\" rx=\"11\" ry=\"11\" style=\"stroke:#A80036;stroke-width:1.0;\"/><path d=\"M178.8594,134.7813 Q179.6563,134.7813 180.2188,134.5938 Q180.7969,134.3906 181.0313,134.1719 Q181.2813,133.9375 181.5156,133.75 Q181.7656,133.5469 181.9844,133.5469 Q182.3281,133.5469 182.5781,133.8125 Q182.8438,134.0625 182.8438,134.3906 Q182.8438,135.125 181.6719,135.8125 Q180.5156,136.4844 178.8125,136.4844 Q176.6563,136.4844 175.2344,135.2188 Q173.8125,133.9531 173.8125,132.0156 L173.8125,130.8906 Q173.8125,128.8594 175.1406,127.4844 Q176.4688,126.0938 178.4375,126.0938 Q179.625,126.0938 180.8438,126.6719 L181.0156,126.75 Q181.3125,126.3438 181.7344,126.3438 Q182.2188,126.3438 182.3906,126.6406 Q182.5781,126.9219 182.5781,127.4688 L182.5781,128.8906 Q182.5781,130.0156 181.7344,130.0156 Q181.4219,130.0156 181.2188,129.8438 Q181.0313,129.6719 180.9844,129.5313 Q180.9531,129.375 180.9063,129.1094 Q180.7969,128.5938 180.2813,128.2813 Q179.7656,127.9688 179.3125,127.8906 Q178.875,127.7969 178.5,127.7969 Q177.2188,127.7969 176.3594,128.6719 Q175.5156,129.5469 175.5156,130.8906 L175.5156,131.9844 Q175.5156,133.2656 176.4219,134.0313 Q177.3281,134.7813 178.8594,134.7813 Z \" fill=\"#000000\"/><text fill=\"#000000\" font-family=\"sans-serif\" font-size=\"12\" lengthAdjust=\"spacing\" textLength=\"53\" x=\"193.5\" y=\"135.8\">Rectangle</text><line style=\"stroke:#A80036;stroke-width:1.5;\" x1=\"165.5\" x2=\"248.5\" y1=\"147\" y2=\"147\"/><line style=\"stroke:#A80036;stroke-width:1.5;\" x1=\"165.5\" x2=\"248.5\" y1=\"155\" y2=\"155\"/><!--MD5=[81f041543df69fb8be6acc92c2ad4e9b]\n",
       "reverse link View to BaseView--><path codeLine=\"16\" d=\"M327,75.02 C327,88.58 327,103.04 327,114.68 \" fill=\"none\" id=\"View-backto-BaseView\" style=\"stroke:#A80036;stroke-width:1.0;\"/><polygon fill=\"none\" points=\"320,75,327,55,334,75,320,75\" style=\"stroke:#A80036;stroke-width:1.0;\"/><!--MD5=[4df096e2572cee7ff13b075199b89760]\n",
       "reverse link BaseView to RectangleView--><path codeLine=\"17\" d=\"M282.96,175.64 C263.79,191.15 241.86,208.89 224.82,222.68 \" fill=\"none\" id=\"BaseView-backto-RectangleView\" style=\"stroke:#A80036;stroke-width:1.0;\"/><polygon fill=\"none\" points=\"278.62,170.14,298.57,163,287.43,181.02,278.62,170.14\" style=\"stroke:#A80036;stroke-width:1.0;\"/><!--MD5=[fca4fd9a3819c7e4459bafd4e423e764]\n",
       "reverse link BaseView to TextView--><path codeLine=\"18\" d=\"M327,183.02 C327,196.58 327,211.04 327,222.68 \" fill=\"none\" id=\"BaseView-backto-TextView\" style=\"stroke:#A80036;stroke-width:1.0;\"/><polygon fill=\"none\" points=\"320,183,327,163,334,183,320,183\" style=\"stroke:#A80036;stroke-width:1.0;\"/><!--MD5=[e12b5a63c87ef2ca4ea95d34ceac9e03]\n",
       "reverse link TextView to SequenceView--><path codeLine=\"19\" d=\"M327,291.02 C327,304.58 327,319.04 327,330.68 \" fill=\"none\" id=\"TextView-backto-SequenceView\" style=\"stroke:#A80036;stroke-width:1.0;\"/><polygon fill=\"none\" points=\"320,291,327,271,334,291,320,291\" style=\"stroke:#A80036;stroke-width:1.0;\"/><!--MD5=[0ea119c36ec8a40a760b293070499597]\n",
       "reverse link BaseView to CompositeView--><path codeLine=\"21\" d=\"M371.71,175.64 C391.18,191.15 413.44,208.89 430.74,222.68 \" fill=\"none\" id=\"BaseView-backto-CompositeView\" style=\"stroke:#A80036;stroke-width:1.0;\"/><polygon fill=\"none\" points=\"367.14,180.94,355.86,163,375.86,169.99,367.14,180.94\" style=\"stroke:#A80036;stroke-width:1.0;\"/><!--MD5=[c05a560b8a6d89e9276ccc3edfcc393d]\n",
       "link Gene to Site--><!--MD5=[1a14936f47d63a8b38050dafbb34b4b9]\n",
       "link Gene to GeneViewBuilder--><!--MD5=[1a761ff36c134c86907143c2ed109169]\n",
       "link GeneViewBuilder to Rectangle--><!--MD5=[381023c77c92eec5351a9a763ddbc017]\n",
       "@startuml\n",
       "abstract class View\n",
       "class BaseView\n",
       "class RectangleView\n",
       "class TextView\n",
       "class SequenceView\n",
       "class CompositeView\n",
       "\n",
       "\n",
       "class Gene\n",
       "class Site\n",
       "class GeneViewBuilder \n",
       "\n",
       "\n",
       "class Rectangle\n",
       "\n",
       "View <|- - BaseView\n",
       "BaseView <|- - RectangleView\n",
       "BaseView <|- - TextView\n",
       "TextView <|- - SequenceView\n",
       "\n",
       "BaseView <|- - CompositeView\n",
       "@enduml\n",
       "\n",
       "PlantUML version 1.2021.8(Sat Jun 26 08:20:59 GMT 2021)\n",
       "(GPL source distribution)\n",
       "Java Runtime: OpenJDK Runtime Environment\n",
       "JVM: OpenJDK 64-Bit Server VM\n",
       "Default Encoding: UTF-8\n",
       "Language: en\n",
       "Country: US\n",
       "--></g></svg>"
      ],
      "text/plain": [
       "<IPython.core.display.SVG object>"
      ]
     },
     "metadata": {},
     "output_type": "display_data"
    }
   ],
   "source": [
    "%%kroki plantuml\n",
    "\n",
    "abstract class View\n",
    "class BaseView\n",
    "class RectangleView\n",
    "class TextView\n",
    "class SequenceView\n",
    "class CompositeView\n",
    "\n",
    "\n",
    "class Gene\n",
    "class Site\n",
    "class GeneViewBuilder \n",
    "\n",
    "\n",
    "class Rectangle\n",
    "\n",
    "View <|-- BaseView\n",
    "BaseView <|-- RectangleView\n",
    "BaseView <|-- TextView\n",
    "TextView <|-- SequenceView\n",
    "\n",
    "BaseView <|-- CompositeView"
   ]
  },
  {
   "cell_type": "markdown",
   "id": "9b697610-fe5d-4863-9ba2-324d845add23",
   "metadata": {},
   "source": [
    "# Иерархия классов для рисования"
   ]
  },
  {
   "cell_type": "code",
   "execution_count": 3,
   "id": "7d6b964c-c7b8-459c-8f2c-4b91681a9126",
   "metadata": {},
   "outputs": [],
   "source": [
    "from abc import abstractmethod\n",
    "from ipycanvas import Canvas"
   ]
  },
  {
   "cell_type": "code",
   "execution_count": 4,
   "id": "50c966b7-fe58-4408-9e0e-4fc5a3e55e8e",
   "metadata": {},
   "outputs": [],
   "source": [
    "class Rectangle:\n",
    "    '''Используется для представления минимального прямоугольника, описывающего заданную фигуру.'''\n",
    "    \n",
    "    def __init__(self, x, y, width, height):\n",
    "        self.x = x\n",
    "        self.y = y\n",
    "        self.width = width\n",
    "        self.height = height\n",
    "    \n",
    "    def __str__(self):\n",
    "        return f'Rectangle ({self.x}, {self.y}) {self.width}x{self.height}'"
   ]
  },
  {
   "cell_type": "markdown",
   "id": "3c915a5b-cef1-4373-80f7-37a608ef750b",
   "metadata": {},
   "source": [
    "## View"
   ]
  },
  {
   "cell_type": "code",
   "execution_count": 5,
   "id": "e086b38f-0c95-44b8-812c-222e0a09c448",
   "metadata": {},
   "outputs": [],
   "source": [
    "class View:\n",
    "    '''Абстрактный базовый класс для представления и рисования фигур'''\n",
    "\n",
    "    @abstractmethod\n",
    "    def get_bounds(self):\n",
    "        ''' Возвращает размеры минимального прямоугольника, описывающего данную фигуру.'''\n",
    "        pass\n",
    "\n",
    "    @abstractmethod\n",
    "    def draw(self, canvas):\n",
    "        ''' \n",
    "        Рисует фигуру на холсте \n",
    "        \n",
    "        Параметры:\n",
    "        canvas - холст для рисования\n",
    "        '''     \n",
    "        pass\n",
    "    \n",
    "    @abstractmethod\n",
    "    def move(self, x, y):\n",
    "        ''' Перемещает верхний левый угол границы фигуры в координаты (x, y) '''     \n",
    "        pass\n",
    "\n",
    "    @abstractmethod\n",
    "    def align_vertical(self, view, alignment, offset):\n",
    "        ''' \n",
    "        Выравнивает фигуру по вертикалии относительно заданной фигуры\n",
    "        \n",
    "        Параметры:\n",
    "        view - фигура, относительно которой происходит выравнивание\n",
    "        alignment - выравнивание, возможные значения (view_текущая фигура):\n",
    "            top_top, top_center, top_bottom\n",
    "            center_top, center_center, center_bottom\n",
    "            bottom_top, bottom_cente, bottom_bottom\n",
    "        '''     \n",
    "        pass\n",
    "\n",
    "    @abstractmethod\n",
    "    def align_horisontal(self, view, alignment, offset):\n",
    "        ''' \n",
    "        Выравнивает фигуру по горизонтали относительно заданной фигуры\n",
    "        \n",
    "        Параметры:\n",
    "        view - фигура, относительно которой происходит выравнивание\n",
    "        alignment - выравнивание, возможные значения (view_текущая фигура):\n",
    "            left_left, left_center, left_right\n",
    "            center_left, center_center, center_right\n",
    "            right_left, rightcenter, right_right\n",
    "        '''     \n",
    "        pass\n",
    "  \n",
    "    "
   ]
  },
  {
   "cell_type": "markdown",
   "id": "6d4d5369-3ff1-4c4c-9758-cb104154e744",
   "metadata": {},
   "source": [
    "## BaseView"
   ]
  },
  {
   "cell_type": "code",
   "execution_count": 6,
   "id": "c22b6675-66a6-49ff-ab95-5c961e0ca44e",
   "metadata": {},
   "outputs": [],
   "source": [
    "class BaseView(View):\n",
    "    \n",
    "    def __init__(self, x, y, width, height):\n",
    "        '''задает границы минимального прямоугольника, описывающего заданную фигуру'''\n",
    "        self.bounds = Rectangle(x, y, width, height)\n",
    "\n",
    "    def getBounds(self):\n",
    "        return self.bounds;\n",
    "    \n",
    "    def move(self, x, y):\n",
    "        self.bounds.x = x\n",
    "        self.bounds.y = y\n",
    "        \n",
    "    def align_vertical(self, view, alignment, offset=0):\n",
    "        r1 = view.bounds\n",
    "        height = self.bounds.height\n",
    "\n",
    "        if alignment == 'top_top':            y = r1.y + offset\n",
    "        elif alignment == 'top_center':       y = r1.y - height/2\n",
    "        elif alignment == 'top_bottom':       y = r1.y - height - offset\n",
    "        \n",
    "        elif alignment == 'center_top':       y = r1.y + r1.height/2 + offset\n",
    "        elif alignment == 'center_center':    y = r1.y + r1.height/2 - height/2\n",
    "        elif alignment == 'center_bottom':    y = r1.y + r1.height/2 - height + offset\n",
    "        \n",
    "        elif alignment == 'bottom_top':       y = r1.y + r1.height + offset\n",
    "        elif alignment == 'bottom_center':    y = r1.y + r1.height - height/2\n",
    "        elif alignment == 'bottom_bottom':    y = r1.y + r1.height - height + offset\n",
    "\n",
    "        self.move(self.bounds.x, y)\n",
    "        \n",
    "    def align_horisontal(self, view, alignment, offset=0):\n",
    "        r1 = view.bounds\n",
    "        width = self.bounds.width\n",
    "        \n",
    "        if alignment == 'left_left':          x = r1.x + offset\n",
    "        elif alignment == 'left_center':      x = r1.x - width/2\n",
    "        elif alignment == 'left_right':       x = r1.x - width - offset\n",
    "        \n",
    "        elif alignment == 'center_left':      x = r1.x + r1.width/2 + offset\n",
    "        elif alignment == 'center_center':    x = r1.x + r1.width/2 - width/2\n",
    "        elif alignment == 'center_right':     x = r1.x + r1.width/2 - width + offset\n",
    "        \n",
    "        elif alignment == 'right_left':       x = r1.x + r1.width + offset\n",
    "        elif alignment == 'right_center':     x = r1.x + r1.width - width/2\n",
    "        elif alignment == 'right_right':      x = r1.x + r1.width - width + offset\n",
    "\n",
    "        self.move(x, self.bounds.y)    "
   ]
  },
  {
   "cell_type": "code",
   "execution_count": 7,
   "id": "e8d24550-bd6b-4f87-bee0-249f25f7dc5f",
   "metadata": {},
   "outputs": [
    {
     "name": "stdout",
     "output_type": "stream",
     "text": [
      "Rectangle (100, 100) 200x400\n",
      "Rectangle (1000, 200) 500x500\n",
      "Rectangle (100, 250.0) 200x400\n"
     ]
    }
   ],
   "source": [
    "# тест на выравниеание фигур друг относительно друга\n",
    "# ...\n",
    "figure1 = BaseView(100, 100, 200, 400)\n",
    "print(figure1.getBounds())\n",
    "figure2 = BaseView(1000, 200, 500, 500)\n",
    "print(figure2.getBounds())\n",
    "figure1.align_vertical(figure2, 'center_center')\n",
    "print(figure1.getBounds())\n"
   ]
  },
  {
   "cell_type": "markdown",
   "id": "f4c03e1b-a526-4a54-9648-6e29ec6ecf3b",
   "metadata": {},
   "source": [
    "## RectangleView"
   ]
  },
  {
   "cell_type": "code",
   "execution_count": 8,
   "id": "99766886-8773-4a44-8f99-eeb9e41d37e0",
   "metadata": {},
   "outputs": [],
   "source": [
    "class RectangleView(BaseView):\n",
    "    '''\n",
    "    Класс для рисования прямоугольника.\n",
    "    \n",
    "    Прямоугольник имеет следующие параметры:\n",
    "    x, y, width, height -положение и размер прямоугольника\n",
    "    fill_style - цвет и стиль заливки прямоугольника (может отсутствовать)\n",
    "    stroke_style - цвет и стиль границы прямоугольника (может отсутствовать)\n",
    "    \n",
    "    '''\n",
    "    \n",
    "    def __init__(self, x, y, width, height, fill_style=None, stroke_style=None):\n",
    "        super().__init__(x, y, width, height) # super() method lets you access methods from a parent class from within a child class\n",
    "        self.fill_style = fill_style\n",
    "        self.stroke_style = stroke_style\n",
    "\n",
    "    def from_rectangle(rectangle, fill_style=None, stroke_style=None):\n",
    "        return RectangleView(rectangle.x, rectangle.y, \n",
    "                             rectangle.width, rectangle.height,\n",
    "                             fill_style, stroke_style\n",
    "                            )\n",
    "        \n",
    "    def draw(self, canvas):\n",
    "        \n",
    "        if self.fill_style:\n",
    "            canvas.fill_style = self.fill_style\n",
    "            canvas.fill_rect(\n",
    "                self.bounds.x, \n",
    "                self.bounds.y, \n",
    "                self.bounds.width, \n",
    "                self.bounds.height\n",
    "            )            \n",
    "\n",
    "        if self.stroke_style:\n",
    "            canvas.stroke_style = self.stroke_style\n",
    "            canvas.stroke_rect(\n",
    "                self.bounds.x, \n",
    "                self.bounds.y, \n",
    "                self.bounds.width, \n",
    "                self.bounds.height\n",
    "            )               "
   ]
  },
  {
   "cell_type": "code",
   "execution_count": 9,
   "id": "f236608a-3029-4cf2-ba7b-1b627485d5a6",
   "metadata": {},
   "outputs": [
    {
     "data": {
      "application/vnd.jupyter.widget-view+json": {
       "model_id": "4310eed50a444016a18f1a750a3aab3f",
       "version_major": 2,
       "version_minor": 0
      },
      "text/plain": [
       "Canvas(height=60, width=200)"
      ]
     },
     "metadata": {},
     "output_type": "display_data"
    }
   ],
   "source": [
    "#тест\n",
    "canvas = Canvas(width=200, height=60)\n",
    "\n",
    "rv = RectangleView(20, 10, 100, 50, fill_style=\"red\", stroke_style=\"black\")\n",
    "rv.draw(canvas)\n",
    "\n",
    "canvas"
   ]
  },
  {
   "cell_type": "markdown",
   "id": "48b2847d-fdb8-4d3c-bf00-ae424186dc6f",
   "metadata": {},
   "source": [
    "## TextView"
   ]
  },
  {
   "cell_type": "code",
   "execution_count": 10,
   "id": "18f10eb9-6189-4ab2-83fb-580817ac2201",
   "metadata": {},
   "outputs": [],
   "source": [
    " def textSize(x, y, text, font_size, font_name):\n",
    "    '''\n",
    "    Некоторая проблема - узнать размер отображения текста.\n",
    "    Напрямую библиотека pycanvas не имеет такого метода, поэтому мы делаем некоторую эвристику, чтобы угадать размер текста.\n",
    "    \n",
    "    Параметры:\n",
    "    x, y - координаты, используемые для рисования текста в pycanvas\n",
    "    text - текст, для которого рассчитывается размер\n",
    "    font_size - размер шрифта\n",
    "    \n",
    "    Возвращает Rectangle, описывающий размер заданного текста.\n",
    "    '''\n",
    "    k = 0.55\n",
    "    if font_name != 'monospace': \n",
    "        k = 0.47\n",
    "    \n",
    "    return Rectangle(x, y, font_size*len(text)*k, font_size*1)"
   ]
  },
  {
   "cell_type": "code",
   "execution_count": 121,
   "id": "15c66ec4-7b77-4b4b-8934-d4439f70d54e",
   "metadata": {},
   "outputs": [],
   "source": [
    "class TextView(BaseView):\n",
    "    '''\n",
    "    Класс для рисования текста.\n",
    "    \n",
    "    Текст имеет следующие параметры:\n",
    "    x, y - левая верхняя граница текста\n",
    "    text - строка текста, без переводов строки\n",
    "    font_size - размер шрифта, например 32\n",
    "    font_style - название шрифта, например 'serif'\n",
    "    fill_style или stroke_style - цвет и стиль текста\n",
    "    border - если True, то рисует прямоугольник с определенным размером текста \n",
    "    '''\n",
    "    \n",
    "    \n",
    "    def __init__(self, x, y, text, font_size, font_style, fill_style ='black', stroke_style = None, border = False):\n",
    "        self.bounds = textSize(x, y, text, font_size, font_style)\n",
    "        self.text = text\n",
    "        self.font_size = font_size\n",
    "        self.font_style = font_style\n",
    "        self.fill_style = fill_style\n",
    "        self.stroke_style = stroke_style\n",
    "        self.border = border\n",
    "    \n",
    "    def draw(self, canvas):\n",
    "        \n",
    "        #canvas.font_size = self.font_size\n",
    "        #canvas.font_style = self.font_style\n",
    "        #canvas.font = '16px monospace'\n",
    "        #canvas.font = str(self.font_size) + 'px ' + self.font_style\n",
    "        \n",
    "        canvas.font = str(self.font_size) + 'px ' + self.font_style\n",
    "        \n",
    "        if self.fill_style:\n",
    "            canvas.fill_style = self.fill_style\n",
    "            canvas.fill_text(\n",
    "                self.text,\n",
    "                self.bounds.x, \n",
    "                self.bounds.y\n",
    "            )            \n",
    "\n",
    "        if self.stroke_style:\n",
    "            canvas.stroke_style = self.stroke_style\n",
    "            canvas.stroke_text(\n",
    "                self.text,\n",
    "                self.bounds.x, \n",
    "                self.bounds.y\n",
    "            )     \n",
    "            \n",
    "        if self.border:\n",
    "            #RectangleView.from_rectangle(self.bounds, stroke_style = \"black\").draw(canvas)\n",
    "            rv = RectangleView.from_rectangle(self.bounds, stroke_style = \"black\")\n",
    "            rv.align_vertical(rv, 'top_bottom', offset = -6)\n",
    "            rv.draw(canvas)\n",
    "    \n",
    "    \n",
    "    \n",
    "    #TODO"
   ]
  },
  {
   "cell_type": "code",
   "execution_count": 122,
   "id": "aa05be04-4112-4722-9395-5a7977400b16",
   "metadata": {},
   "outputs": [
    {
     "data": {
      "application/vnd.jupyter.widget-view+json": {
       "model_id": "d1b0add606ae47ac8b366fbf6e911b0b",
       "version_major": 2,
       "version_minor": 0
      },
      "text/plain": [
       "Canvas(height=80, width=600)"
      ]
     },
     "metadata": {},
     "output_type": "display_data"
    }
   ],
   "source": [
    "# тест текста\n",
    "canvas = Canvas(width=600, height=80)\n",
    "\n",
    "view1 = TextView(10, 10, 'atgcggctaaaat', 16, 'monospace', border=True)\n",
    "view1.draw(canvas)\n",
    "\n",
    "view2 = TextView(10, 30, 'atgcggctaaaat atgcggctaaaat atgcggctaaaat', 16, 'monospace', border=True)\n",
    "view2.draw(canvas)\n",
    "\n",
    "view3 = TextView(10, 50, '150', 16, 'serif', fill_style='red', border=True)\n",
    "view3.draw(canvas)\n",
    "\n",
    "view4 = TextView(50, 50, '20', 16, 'serif', fill_style=None, stroke_style='blue', border=True)\n",
    "view4.draw(canvas)\n",
    "\n",
    "canvas"
   ]
  },
  {
   "cell_type": "markdown",
   "id": "9e390eb9-84ec-4240-b04a-764aa07a729a",
   "metadata": {},
   "source": [
    "## SequenceView"
   ]
  },
  {
   "cell_type": "code",
   "execution_count": 123,
   "id": "fef957e7-99e8-43aa-8351-c9739a94ac63",
   "metadata": {},
   "outputs": [],
   "source": [
    "class SequenceView(TextView):\n",
    "    ''' \n",
    "    Класс для рисования последовательности.\n",
    "    \n",
    "    Имеет следующие параметры:\n",
    "    x, y - левая верхняя граница последовательности\n",
    "    text - последовательность, без пробелов и без переводов строки\n",
    "    font_size - размер шрифта, например 16\n",
    "    '''\n",
    "\n",
    "    def __init__(self, x, y, text, font_size):\n",
    "        super().__init__(x, y, text, font_size, 'monospace')\n",
    "        self.font_size = font_size\n",
    "\n",
    "    def getBounds(self, start, end):\n",
    "        '''\n",
    "        Возвращает Rectangle для фрагмента последовательности \n",
    "        с заданными позициями [start, end] (считаются от 1-ой позиции). \n",
    "        '''\n",
    "        k = 0.55\n",
    "        return Rectangle(self.bounds.x + self.font_size * len(self.text[ :start - 1 ]) * k, self.bounds.y, self.font_size*len(self.text[start - 1 : end]) * k, self.font_size * 1)\n",
    "        #offset = self.font_size * 0.6\n",
    "        #return Rectangle(self.bounds.x + self.font_size * len(self.text[ :start - 1 ]) * k, self.bounds.y - offset, self.font_size*len(self.text[start - 1 : end]) * k, self.font_size * 1)\n",
    "    # TODO"
   ]
  },
  {
   "cell_type": "code",
   "execution_count": 124,
   "id": "6081e2a3-d495-4869-9676-8ababf9b152f",
   "metadata": {},
   "outputs": [
    {
     "data": {
      "application/vnd.jupyter.widget-view+json": {
       "model_id": "7e7b57c0a9e048d8b64a9c9ff18e5975",
       "version_major": 2,
       "version_minor": 0
      },
      "text/plain": [
       "Canvas(height=30, width=600)"
      ]
     },
     "metadata": {},
     "output_type": "display_data"
    }
   ],
   "source": [
    "# тест последовательности и координат района\n",
    "canvas = Canvas(width=600, height=30)\n",
    "\n",
    "seq = SequenceView(10, 10, 'atgcggctaaaat', 16)\n",
    "seq.draw(canvas)\n",
    "\n",
    "r1 = seq.getBounds(1, 3)\n",
    "box1 = RectangleView.from_rectangle(r1, stroke_style = 'red')\n",
    "box1.draw(canvas)\n",
    "\n",
    "r2 = seq.getBounds(11, 13)\n",
    "box2 = RectangleView.from_rectangle(r2, stroke_style = 'blue')\n",
    "box2.draw(canvas)\n",
    "\n",
    "canvas"
   ]
  },
  {
   "cell_type": "markdown",
   "id": "548a9c6e-0f10-464a-b359-96132ce5ac1e",
   "metadata": {},
   "source": [
    "## CompositeView"
   ]
  },
  {
   "cell_type": "code",
   "execution_count": 150,
   "id": "3b90b01e-6723-4e3d-b812-51a70100f3f7",
   "metadata": {},
   "outputs": [],
   "source": [
    "class CompositeView(BaseView):\n",
    "    '''\n",
    "    Составная фигура - массив других фигур (View), которые можно двигать,\n",
    "    выравнивать и рисовать как единное целое.\n",
    "    \n",
    "    '''\n",
    "\n",
    "    def __init__(self):\n",
    "        self._children = []\n",
    "        self.bounds = 'None'\n",
    "    \n",
    "    def add(self, component):\n",
    "        self._children.append(component)\n",
    "        offset = 10\n",
    "        left_x = min([child.bounds.x for child in self._children])\n",
    "        right_x = max([child.bounds.x + child.bounds.width for child in self._children])\n",
    "        top_y = min([child.bounds.y for child in self._children]) \n",
    "        bottom_y = max([child.bounds.y + child.bounds.height for child in self._children])\n",
    "        \n",
    "        width = right_x - left_x\n",
    "        height = bottom_y - top_y\n",
    "        \n",
    "        \n",
    "        self.bounds = Rectangle(left_x, top_y - offset, width, height + offset )\n",
    "    \n",
    "    def draw(self, canvas):\n",
    "        for child in self._children:\n",
    "            child.draw(canvas)\n",
    "\n",
    "    \n",
    "    # TODO\n"
   ]
  },
  {
   "cell_type": "code",
   "execution_count": 151,
   "id": "d2dd27c9-820a-4e05-80fa-a3ce7c651e36",
   "metadata": {},
   "outputs": [
    {
     "data": {
      "application/vnd.jupyter.widget-view+json": {
       "model_id": "aa0dd303b04f46508e68e4a080b872c5",
       "version_major": 2,
       "version_minor": 0
      },
      "text/plain": [
       "Canvas(height=200, width=600)"
      ]
     },
     "metadata": {},
     "output_type": "display_data"
    }
   ],
   "source": [
    "# тест составной фигуры\n",
    "canvas = Canvas(width=600, height=200)\n",
    "\n",
    "composite = CompositeView()\n",
    "\n",
    "seq = SequenceView(10, 10, 'atgcggctaaaat', 16)\n",
    "composite.add(seq)\n",
    "\n",
    "r = seq.getBounds(1, 3)\n",
    "box = RectangleView.from_rectangle(r, stroke_style = 'red')\n",
    "box.align_vertical(seq, 'bottom_top', 5)\n",
    "composite.add(box)\n",
    "\n",
    "composite1 = CompositeView()\n",
    "\n",
    "seq1 = SequenceView(50, 100, 'atgcggctaaaataaaacg', 16)\n",
    "r1 = seq1.getBounds(5, 9)\n",
    "box1 = RectangleView.from_rectangle(r1, stroke_style = 'red')\n",
    "composite1.add(seq1)\n",
    "composite1.add(box1)\n",
    "\n",
    "\n",
    "r = composite1.bounds\n",
    "box = RectangleView.from_rectangle(r, stroke_style = 'green')\n",
    "composite1.add(box)\n",
    "box.draw(canvas)\n",
    "composite.add(composite1)\n",
    "\n",
    "composite.draw(canvas)\n",
    "\n",
    "r = composite.bounds\n",
    "box = RectangleView.from_rectangle(r, stroke_style = 'blue')\n",
    "box.draw(canvas)\n",
    "\n",
    "canvas"
   ]
  },
  {
   "cell_type": "markdown",
   "id": "70c48dd8-74eb-494c-9ba2-84b6f34b65c5",
   "metadata": {},
   "source": [
    "# Модель"
   ]
  },
  {
   "cell_type": "code",
   "execution_count": 127,
   "id": "6fe392aa-49c4-42b8-9850-9e3ba3a4ccbf",
   "metadata": {},
   "outputs": [],
   "source": [
    "class Gene:\n",
    "    \n",
    "    def __init__(self, title, sequence, sites = []):\n",
    "        self.title = title\n",
    "        self.sequence = sequence\n",
    "        self.sites = sites\n",
    "\n",
    "    def add(self, site):\n",
    "        assert site.start > 0, f\"Начало сайта должно быть > 0, {site.start}\"\n",
    "        assert site.start < site.end, f\"Начало сайта должно быть больше конца, {site.start} > {site.end}\"\n",
    "        assert site.end <= len(self.sequence), f\"Конец сайта не должен выходить за длину последовательности, {site.end} <= {len(self.sequence)}\"\n",
    "        \n",
    "        self.sites.append(site)\n",
    "        \n",
    "    def __str__(self):\n",
    "        return f'Gene {self.title}, sequence length {len(self.sequence)}, has {len(self.sites)} sites.'\n",
    "\n",
    "        \n",
    "class Site:\n",
    "\n",
    "    def __init__(self, title, start, end):\n",
    "        self.title = title\n",
    "        self.start = start\n",
    "        self.end = end"
   ]
  },
  {
   "cell_type": "code",
   "execution_count": 217,
   "id": "82832f9a-8f68-4378-8870-9336f53b0c2d",
   "metadata": {},
   "outputs": [
    {
     "name": "stdout",
     "output_type": "stream",
     "text": [
      "Gene p53 stub, sequence length 32, has 2 sites.\n"
     ]
    }
   ],
   "source": [
    "# тест гена\n",
    "\n",
    "gene = Gene('p53 stub', 'atagatatatatatattttaaaaatttggggg', [])\n",
    "gene.add(Site('site 1', 2, 10))\n",
    "gene.add(Site('site 2', 20, 27))\n",
    "print(gene)"
   ]
  },
  {
   "cell_type": "markdown",
   "id": "79b55093-1636-43a0-ade2-4828948e6cb1",
   "metadata": {},
   "source": [
    "# Gene view builder"
   ]
  },
  {
   "cell_type": "code",
   "execution_count": 259,
   "id": "25758743-010b-4dce-af3f-eabd4bcc3b0f",
   "metadata": {},
   "outputs": [],
   "source": [
    "class GeneViewBuilder:\n",
    "    \n",
    "    \n",
    "    def gene_view(gene, composite):\n",
    "        gene_text = TextView(10, 20, f'Gene: {gene.title}', 20, 'serif', fill_style = 'red')\n",
    "        if composite.bounds != 'None':\n",
    "            gene_text.align_vertical(composite, 'bottom_top', 15)\n",
    "            gene_text.align_horisontal(composite, 'center_center')\n",
    "        gene_seq = SequenceView(10, 20, gene.sequence, 16)\n",
    "        gene_seq.align_vertical(gene_text, 'bottom_top')\n",
    "        gene_text.align_horisontal(gene_seq, 'center_center')\n",
    "        composite.add(gene_text)\n",
    "        composite.add(gene_seq)\n",
    "        for elem in gene.sites:\n",
    "            rect = gene_seq.getBounds(elem.start, elem.end)\n",
    "            box = RectangleView.from_rectangle(rect, fill_style = 'gray', stroke_style = 'blue')\n",
    "            site_title = TextView(10, 20, elem.title, 16, 'serif') \n",
    "            site_title.align_vertical(gene_seq, 'bottom_top', 5)\n",
    "            site_title.align_horisontal(box, 'center_center', 5)\n",
    "            composite.add(site_title)\n",
    "            box.align_vertical(site_title, 'bottom_top', -10)\n",
    "            composite.add(box)\n",
    "            site_start = TextView(10, 20, str(elem.start), 14, 'serif')\n",
    "            site_start.align_vertical(box, 'bottom_top', 15)\n",
    "            site_start.align_horisontal(box, 'left_center', 15)\n",
    "            composite.add(site_start)\n",
    "            site_end = TextView(10, 20, str(elem.end), 14, 'serif')\n",
    "            site_end.align_vertical(box, 'bottom_top', 15)\n",
    "            site_end.align_horisontal(box, 'right_center', 15)\n",
    "            composite.add(site_end)\n",
    "            #print(gene.sites[0].title)\n",
    "        return composite\n",
    "    \n",
    "    \n",
    "    \n",
    "    # TODO\n",
    "        "
   ]
  },
  {
   "cell_type": "code",
   "execution_count": null,
   "id": "da6c90c8-bf18-41ae-8783-30c40b1eb693",
   "metadata": {},
   "outputs": [],
   "source": []
  },
  {
   "cell_type": "code",
   "execution_count": 278,
   "id": "b5669ea9-1d60-45c4-b323-71bd4e159b1c",
   "metadata": {},
   "outputs": [
    {
     "name": "stdout",
     "output_type": "stream",
     "text": [
      "Gene p53 stub, sequence length 32, has 2 sites.\n",
      "Gene new1, sequence length 18, has 2 sites.\n",
      "Gene new2, sequence length 44, has 3 sites.\n"
     ]
    },
    {
     "data": {
      "application/vnd.jupyter.widget-view+json": {
       "model_id": "cbe73062941d4a7ca47e32d737840cd4",
       "version_major": 2,
       "version_minor": 0
      },
      "text/plain": [
       "Canvas(height=350, width=600)"
      ]
     },
     "metadata": {},
     "output_type": "display_data"
    }
   ],
   "source": [
    "# тест отображения гена\n",
    "canvas = Canvas(width=600, height=350)\n",
    "\n",
    "gene = Gene('p53 stub', 'atagatatatatatattttaaaaatttggggg', [])\n",
    "gene.add(Site('site 1', 2, 10))\n",
    "gene.add(Site('site 2', 20, 27))\n",
    "print(gene)\n",
    "\n",
    "gene1 = Gene('new1', 'atttgcaagcttacggaa', [])\n",
    "gene1.add(Site('site 1', 1, 5))\n",
    "gene1.add(Site('site 2', 12, 17))\n",
    "print(gene1)\n",
    "\n",
    "gene2 = Gene('new2', 'atttgcaagcttacggaagggggggggggggggccccccccccc', [])\n",
    "gene2.add(Site('site 1', 3, 7))\n",
    "gene2.add(Site('site 2', 12, 17))\n",
    "gene2.add(Site('site 3', 20, 35))\n",
    "print(gene2)\n",
    "\n",
    "gene_view = GeneViewBuilder.gene_view(gene, CompositeView())\n",
    "#gene_view.draw(canvas)\n",
    "gene_view1 = GeneViewBuilder.gene_view(gene1, gene_view)\n",
    "#gene_view1.draw(canvas)\n",
    "gene_view2 = GeneViewBuilder.gene_view(gene2, gene_view1)\n",
    "gene_view2.draw(canvas)\n",
    "\n",
    "canvas"
   ]
  },
  {
   "cell_type": "code",
   "execution_count": null,
   "id": "6d259902-cd78-409e-9bd8-6775a740f836",
   "metadata": {},
   "outputs": [],
   "source": []
  }
 ],
 "metadata": {
  "kernelspec": {
   "display_name": "Python 3 (ipykernel)",
   "language": "python",
   "name": "python3"
  },
  "language_info": {
   "codemirror_mode": {
    "name": "ipython",
    "version": 3
   },
   "file_extension": ".py",
   "mimetype": "text/x-python",
   "name": "python",
   "nbconvert_exporter": "python",
   "pygments_lexer": "ipython3",
   "version": "3.9.7"
  }
 },
 "nbformat": 4,
 "nbformat_minor": 5
}
