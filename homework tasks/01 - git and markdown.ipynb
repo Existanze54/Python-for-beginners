{
 "cells": [
  {
   "cell_type": "markdown",
   "id": "7d637ff5-e1b7-43b3-aad2-c8014915d8a7",
   "metadata": {},
   "source": [
    "# Прочитать дополнительные материалы\n",
    "\n",
    "[Начало работы с Git: подробный гайд для новичков](https://javarush.ru/groups/posts/2683-nachalo-rabotih-s-git-podrobnihy-gayd-dlja-novichkov)\n",
    "\n",
    "или\n",
    "\n",
    "[Официальная документация](https://git-scm.com/book/ru/v2/)\n",
    "* глава 2 - Основы Git\n",
    "* глава 3 - Ветвление Git\n",
    "\n",
    "Git fork. Зачем нужны форки и как с ними работать\n",
    "https://webdevkin.ru/posts/raznoe/git-fork"
   ]
  },
  {
   "cell_type": "markdown",
   "id": "e6146230-2fdc-4a10-a968-b73e2567c1a9",
   "metadata": {},
   "source": [
    "# Работа с Git"
   ]
  },
  {
   "cell_type": "markdown",
   "id": "e33ac1c9-dd1d-4335-9f94-16d8a131969f",
   "metadata": {},
   "source": [
    "* создать ветку в персональном репозитории test_1\n",
    "* переключиться на эту ветку"
   ]
  },
  {
   "cell_type": "code",
   "execution_count": 1,
   "id": "70bb31ee-abf7-4648-ad1e-f9a27c3b3265",
   "metadata": {},
   "outputs": [
    {
     "name": "stdout",
     "output_type": "stream",
     "text": [
      "M\thomework tasks/01 - git and markdown.ipynb\n",
      "M\tlections/jupyter_notebooks/01 notebook example.ipynb\n"
     ]
    },
    {
     "name": "stderr",
     "output_type": "stream",
     "text": [
      "Switched to branch 'test_1'\n"
     ]
    }
   ],
   "source": [
    "# поле для решения задачи\n",
    "!git branch test_1\n",
    "!git checkout test_1"
   ]
  },
  {
   "cell_type": "markdown",
   "id": "52dc5235-9d7d-4565-b696-1775ffd2fb56",
   "metadata": {},
   "source": [
    "# Работа с Markdown\n",
    "* создать заголовки 1, 2, 3 уровня\n",
    "* создать списки\n",
    "* создать таблицу\n",
    "* вставить картинку"
   ]
  },
  {
   "cell_type": "code",
   "execution_count": null,
   "id": "3e246bb9-7b41-493b-97a4-279d23db2838",
   "metadata": {},
   "outputs": [],
   "source": [
    "# поле для решения задачи"
   ]
  },
  {
   "cell_type": "markdown",
   "id": "ab1eb041-ac0c-4772-a96f-28f2b038f9e9",
   "metadata": {},
   "source": [
    "# Заголовок 1\n",
    "## Заголовок 2\n",
    "### Заголовок 3\n",
    "\n",
    "1. Первое\n",
    "2. Второе\n",
    "3. Третье\n",
    "\n",
    "| Title 1 | Title 2 | Title 3 |\n",
    "| :---  | :---:   | ---:    |\n",
    "| Text | Text| Text|\n",
    "\n",
    "<img src=\"https://dxgh891opzso3.cloudfront.net/files/5/9/6/9/2/shutterstock_1045743757.jpg?height=2000&width=3000\"/>"
   ]
  },
  {
   "cell_type": "code",
   "execution_count": null,
   "id": "5b8e2df1-f6d1-4ffa-9b2b-2c9f3d70480b",
   "metadata": {},
   "outputs": [],
   "source": [
    "# Работа с Git\n",
    "* добавить измененный файл в область индексирования\n",
    "* сделать коммит\n",
    "* перенести изменения из ветки test_1 в ветку master\n",
    "* внести изменения в персональный репозиторий на сервере"
   ]
  },
  {
   "cell_type": "code",
   "execution_count": null,
   "id": "5b1d958b-a97e-4501-af94-6d0db6d6935c",
   "metadata": {},
   "outputs": [],
   "source": [
    "# поле для решения задачи\n",
    "!git add "
   ]
  },
  {
   "cell_type": "code",
   "execution_count": null,
   "id": "286b0a09-d8b3-43cf-b64d-2a7bee7ae791",
   "metadata": {},
   "outputs": [],
   "source": [
    "# поле для решения задачи"
   ]
  },
  {
   "cell_type": "code",
   "execution_count": null,
   "id": "909c1c78-1fc9-438c-ad8a-8567b11e6096",
   "metadata": {},
   "outputs": [],
   "source": [
    "# поле для решения задачи"
   ]
  },
  {
   "cell_type": "code",
   "execution_count": null,
   "id": "a78b4c6e-5e42-4d1e-b5d2-450985e5b153",
   "metadata": {},
   "outputs": [],
   "source": [
    "# поле для решения задачи"
   ]
  }
 ],
 "metadata": {
  "kernelspec": {
   "display_name": "Python 3 (ipykernel)",
   "language": "python",
   "name": "python3"
  },
  "language_info": {
   "codemirror_mode": {
    "name": "ipython",
    "version": 3
   },
   "file_extension": ".py",
   "mimetype": "text/x-python",
   "name": "python",
   "nbconvert_exporter": "python",
   "pygments_lexer": "ipython3",
   "version": "3.9.7"
  }
 },
 "nbformat": 4,
 "nbformat_minor": 5
}
