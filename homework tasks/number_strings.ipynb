{
 "cells": [
  {
   "cell_type": "markdown",
   "metadata": {},
   "source": [
    "# Задача\n",
    "Вам дана нуклеотидная последовательность:\n",
    "- Дать возможность передавать пользователю последовательность в код\n",
    "- Определить, РНК это или ДНК\n",
    "- Посчитать средне количество нуклеотидов\n",
    "- Определить длинну последовательности\n",
    "- Посчитать встречаемость каждого нуклеотида\n",
    "- Посчитать GC состав\n",
    "- Получить прямую и обратную цепь, если последовательность это ДНК\n",
    "- Сделать красивый вывод насчитанной статистики для пользователя\n",
    "- \\* Сделать возможность выбора пользователем какую статистику ему считать"
   ]
  },
  {
   "cell_type": "code",
   "execution_count": 101,
   "metadata": {},
   "outputs": [
    {
     "name": "stdout",
     "output_type": "stream",
     "text": [
      "Initial sequence: ATTTCATTTAGGGGGCCGCAATATCGGCGATCATGCAT\n",
      "This is a DNA sequence\n",
      "Mean value = 9.5\n",
      "Length = 38\n",
      "{'A': 9, 'T': 11, 'G': 10, 'C': 8}\n",
      "GC - composition = 47.368421052631575%\n",
      "Second DNA chain: ATGCATGATCGCCGATATTGCGGCCCCCTAAATGAAAT\n",
      "\n",
      "Statistics to calculate: \n",
      "1: Initial sequence\n",
      "2: DNA\\RNA\n",
      "3: Mean value\n",
      "4: Length\n",
      "5: Number of nucleotides\n",
      "6: GC - composition\n",
      "7: Complementary sequence\n",
      "0: Exit\n"
     ]
    },
    {
     "name": "stdin",
     "output_type": "stream",
     "text": [
      "Enter number of statistic: 1\n"
     ]
    },
    {
     "name": "stdout",
     "output_type": "stream",
     "text": [
      "\tInitial sequence: ATTTCATTTAGGGGGCCGCAATATCGGCGATCATGCAT\n"
     ]
    },
    {
     "name": "stdin",
     "output_type": "stream",
     "text": [
      "Enter number of statistic: 2\n"
     ]
    },
    {
     "name": "stdout",
     "output_type": "stream",
     "text": [
      "\tThis is a DNA sequence\n"
     ]
    },
    {
     "name": "stdin",
     "output_type": "stream",
     "text": [
      "Enter number of statistic: 3\n"
     ]
    },
    {
     "name": "stdout",
     "output_type": "stream",
     "text": [
      "\tMean value = 9.5\n"
     ]
    },
    {
     "name": "stdin",
     "output_type": "stream",
     "text": [
      "Enter number of statistic: 4\n"
     ]
    },
    {
     "name": "stdout",
     "output_type": "stream",
     "text": [
      "\tLength = 38\n"
     ]
    },
    {
     "name": "stdin",
     "output_type": "stream",
     "text": [
      "Enter number of statistic: 5\n"
     ]
    },
    {
     "name": "stdout",
     "output_type": "stream",
     "text": [
      "\t{'A': 9, 'T': 11, 'G': 10, 'C': 8}\n"
     ]
    },
    {
     "name": "stdin",
     "output_type": "stream",
     "text": [
      "Enter number of statistic: 6\n"
     ]
    },
    {
     "name": "stdout",
     "output_type": "stream",
     "text": [
      "\tGC - composition = 47.368421052631575%\n"
     ]
    },
    {
     "name": "stdin",
     "output_type": "stream",
     "text": [
      "Enter number of statistic: 7\n"
     ]
    },
    {
     "name": "stdout",
     "output_type": "stream",
     "text": [
      "\tComplementary sequence: TAAAGTAAATCCCCCGGCGTTATAGCCGCTAGTACGTA\n"
     ]
    },
    {
     "name": "stdin",
     "output_type": "stream",
     "text": [
      "Enter number of statistic: 0\n"
     ]
    },
    {
     "name": "stdout",
     "output_type": "stream",
     "text": [
      "\tStopped\n"
     ]
    }
   ],
   "source": [
    "# Поле для решения (можно и больше одного поля использовать :))\n",
    "def nucl_seq_type(nucl_seq):\n",
    "    par = False\n",
    "    if 'T' in list(nucl_seq): par = True\n",
    "    return par\n",
    "\n",
    "def nucl_seq_mean_value(nucl_seq):\n",
    "    mean_value = (list(nucl_seq).count('A') + list(nucl_seq).count('G') + list(nucl_seq).count('C') + list(nucl_seq).count('T') + list(nucl_seq).count('U')) / 4\n",
    "    return mean_value\n",
    "\n",
    "def nucl_seq_count(nucl_seq):\n",
    "    dict_of_nucl = {}\n",
    "    if nucl_seq_type(nucl_seq):\n",
    "        for elem in list('ATGC'):\n",
    "            dict_of_nucl.update([(elem, list(nucl_seq).count(elem))])\n",
    "    else:\n",
    "        for elem in list('AUGC'):\n",
    "            dict_of_nucl.update([(elem, list(nucl_seq).count(elem))])\n",
    "    return dict_of_nucl\n",
    "\n",
    "def nucl_seq_gc(nucl_seq):\n",
    "    dict_of_nucl = nucl_seq_count(nucl_seq)\n",
    "    gc_composition = ((dict_of_nucl['G'] + dict_of_nucl['C']) / len(nucl_seq)) * 100\n",
    "    return gc_composition\n",
    "\n",
    "def nucl_seq_complement(nucl_seq):\n",
    "    nucl_seq_comp = []\n",
    "    for elem in nucl_seq:\n",
    "        if elem == 'A': nucl_seq_comp.append('T')\n",
    "        if elem == 'T': nucl_seq_comp.append('A')\n",
    "        if elem == 'G': nucl_seq_comp.append('C')\n",
    "        if elem == 'C': nucl_seq_comp.append('G')\n",
    "    return ''.join(nucl_seq_comp)\n",
    "\n",
    "def nucl_seq_second_chain(nucl_seq):\n",
    "    if nucl_seq_type(nucl_seq): nucl_seq_sec = nucl_seq_complement(nucl_seq)[ : :-1]\n",
    "    else: nucl_seq_sec = 'Not a DNA'\n",
    "    return nucl_seq_sec\n",
    "\n",
    "def nucl_seq_stat(nucl_seq):\n",
    "    print(f'Initial sequence: {nucl_seq}')\n",
    "    if nucl_seq_type(nucl_seq): print('This is a DNA sequence')\n",
    "    else: print('This is a RNA sequence')\n",
    "    print(f'Mean value = {nucl_seq_mean_value(nucl_seq)}')\n",
    "    print(f'Length = {len(nucl_seq)}')\n",
    "    print(nucl_seq_count(nucl_seq))\n",
    "    print(f'GC - composition = {nucl_seq_gc(nucl_seq)}%')\n",
    "    print(f'Second DNA chain: {nucl_seq_second_chain(nucl_seq)}')\n",
    "    \n",
    "def nucl_seq_stat_to_choose(nucl_seq):\n",
    "    par = -1\n",
    "    print('\\nStatistics to calculate: \\n1: Initial sequence\\n2: DNA\\RNA\\n3: Mean value\\n4: Length\\n5: Number of nucleotides\\n6: GC - composition\\n7: Complementary sequence\\n0: Exit')\n",
    "    while par != 0:\n",
    "        par = int(input('Enter number of statistic:'))\n",
    "        if par == 1:\n",
    "            print(f'\\tInitial sequence: {nucl_seq}')\n",
    "        elif par == 2:\n",
    "            if nucl_seq_type(nucl_seq): print('\\tThis is a DNA sequence')\n",
    "            else: print('\\tThis is a RNA sequence')\n",
    "        elif par == 3:\n",
    "            print(f'\\tMean value = {nucl_seq_mean_value(nucl_seq)}')\n",
    "        elif par == 4:\n",
    "            print(f'\\tLength = {len(nucl_seq)}')\n",
    "        elif par == 5:\n",
    "            print(f'\\t{nucl_seq_count(nucl_seq)}')    \n",
    "        elif par == 6:\n",
    "            print(f'\\tGC - composition = {nucl_seq_gc(nucl_seq)}%')\n",
    "        elif par == 7:\n",
    "            if nucl_seq_type(nucl_seq): print(f'\\tComplementary sequence: {nucl_seq_complement(nucl_seq)}')\n",
    "        elif par == 0: print('\\tStopped')\n",
    "        else: print('\\nStatistics to calculate: \\n1: Initial sequence\\n2: DNA\\RNA\\n3: Mean value\\n4: Length\\n5: Number of nucleotides\\n6: GC - composition\\n7: Complimentary sequence\\n0: Exit')\n",
    "\n",
    "#nucl_seq = input('Enter a nucleotide sequence')\n",
    "nucl_seq = 'ATTTCATTTAGGGGGCCGCAATATCGGCGATCATGCAT'\n",
    "#nucl_seq = 'AUG'\n",
    "\n",
    "nucl_seq_stat(nucl_seq)\n",
    "\n",
    "nucl_seq_stat_to_choose(nucl_seq)    "
   ]
  },
  {
   "cell_type": "code",
   "execution_count": null,
   "metadata": {},
   "outputs": [],
   "source": []
  }
 ],
 "metadata": {
  "kernelspec": {
   "display_name": "Python 3 (ipykernel)",
   "language": "python",
   "name": "python3"
  },
  "language_info": {
   "codemirror_mode": {
    "name": "ipython",
    "version": 3
   },
   "file_extension": ".py",
   "mimetype": "text/x-python",
   "name": "python",
   "nbconvert_exporter": "python",
   "pygments_lexer": "ipython3",
   "version": "3.9.7"
  }
 },
 "nbformat": 4,
 "nbformat_minor": 4
}
