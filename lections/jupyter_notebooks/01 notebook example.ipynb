{
 "cells": [
  {
   "cell_type": "markdown",
   "metadata": {},
   "source": [
    "## ���������������� ��� ���� (������ ������ � Python)\n",
    "\n",
    "*���� ����������, ��� ���*"
   ]
  },
  {
   "cell_type": "markdown",
   "metadata": {},
   "source": [
    "### ���������� � Jupyter Notebook\n",
    "\n",
    "Jupyter Notebook ���-�� ����� �� ��������� ��������: ���� ����, ������ ������������ � ���� ��� ������, ������� ������� �� ����� (*cells*). ������ ����� ��������� ��� ���, ��� � ����� (������������� � �����������). ����������� � ������� � ����� ������ ���������� �� ����� `#`.\n",
    "\n",
    "������ ������ � �����:"
   ]
  },
  {
   "cell_type": "code",
   "execution_count": 1,
   "metadata": {},
   "outputs": [
    {
     "name": "stdout",
     "output_type": "stream",
     "text": [
      "3 0.2\n"
     ]
    }
   ],
   "source": [
    "a = 3 # ������� ���������� a � ����������� �� �������� 3\n",
    "b = 0.2 \n",
    "\n",
    "# ����������� 1\n",
    "# ����������� 2\n",
    "\n",
    "print(a, b) # ������� �� ����� �������� ���������� A � B"
   ]
  },
  {
   "cell_type": "markdown",
   "metadata": {},
   "source": [
    "�� ��������� ��� ������ *Code*, ��� ����� ������� �� ������ ��� ����. ����� �������� ��� ������, ����� ������ �� ��������� ���� � ������� ������ �������. ����� ��������� ������: *Code*, *Markdown*, *RawNBConvert* � *Heading*.\n",
    "\n",
    "* *Code*: ������ � ����� Python;\n",
    "* *Markdown*: ������ � ����������� �������, ���� �������� Markdown;\n",
    "* *RawNBConvert*: ������������� ������ �����, ��� �������/����������� ������;\n",
    "* *Heading*: �������, ������ ������������� ��� ����������, ������ �� ����� ��������� � ������ *Markdown*."
   ]
  },
  {
   "cell_type": "markdown",
   "metadata": {},
   "source": [
    "������� ����� � ����������� ������� (���� �������� Markdown, �������� ��� ���� ����� [�����](https://jupyter-notebook.readthedocs.io/en/latest/examples/Notebook/Working%20With%20Markdown%20Cells.html) � [�����](http://nestacms.com/docs/creating-content/markdown-cheat-sheet)) � ��. ����."
   ]
  },
  {
   "cell_type": "markdown",
   "metadata": {},
   "source": [
    "### ��� ����� ������ � ������� Markdown?\n",
    "\n",
    "�������� ��������� ������ �������.\n",
    "\n",
    "�� �����:\n",
    "\n",
    "    # ��������� 1\n",
    "    ## ��������� 2\n",
    "    ### ��������� 3\n",
    "    \n",
    "�� ������:"
   ]
  },
  {
   "cell_type": "markdown",
   "metadata": {},
   "source": [
    "# ��������� 1\n",
    "## ��������� 2\n",
    "### ��������� 3"
   ]
  },
  {
   "cell_type": "markdown",
   "metadata": {},
   "source": [
    "�������� ����� ������ � ������� *�������* ��� **����������� ����������**. ��� ���� <s>�����������</s>. ��� ��� ���� ����� �������� � ����������� ����:\n",
    "\n",
    "       �������� ����� ������ � ������� *�������* ��� **����������� ����������**. ��� ���� <s>�����������</s>."
   ]
  },
  {
   "cell_type": "markdown",
   "metadata": {},
   "source": [
    "��������� ������ ������� ����. \n",
    "\n",
    "**�������������� ������.** \n",
    "\n",
    "�� �����:\n",
    "\n",
    "    * ����� 1\n",
    "    * ����� 2\n",
    "    * ����� 3\n",
    "\n",
    "�� ������:\n",
    "\n",
    "* ����� 1\n",
    "* ����� 2\n",
    "* ����� 3"
   ]
  },
  {
   "cell_type": "markdown",
   "metadata": {},
   "source": [
    "**������������ ������:**\n",
    "\n",
    "�� �����:\n",
    "\n",
    "    1. ��-������,...\n",
    "    2. ��-������,...\n",
    "    3. �-�������,...\n",
    "    \n",
    "�� ������: \n",
    "\n",
    "1. ��-������,...\n",
    "2. ��-������,...\n",
    "3. �-�������,...\n"
   ]
  },
  {
   "cell_type": "markdown",
   "metadata": {},
   "source": [
    "��� ���, ��� ������ � LaTeX: ����� ������� ��������� �������, ��������� ���������, �������� � LaTeX (������� �������������� �� ���������� LaTeX �� ���������, ����� ������������� � ����� Jupyter Notebook):\n",
    "\n",
    "$$(x+y)^2 = x^2 + 2xy + y^2$$\n",
    "\n",
    "$$\\Delta = I_{2018} - I_{2017}$$\n",
    "\n",
    "$$P(A|B) = \\frac{P(A \\cap B)}{P(B)}$$\n",
    "\n",
    "$$\\sin(\\alpha)^2 + cos(\\alpha)^2 = 1$$\n",
    "\n",
    "������� ���� �������� ����� �������:\n",
    "\n",
    "    $$(x+y)^2 = x^2 + 2xy + y^2$$\n",
    "\n",
    "    $$\\Delta = I_{2018} - I_{2017}$$\n",
    "\n",
    "    $$P(A|B) = \\frac{P(A \\cap B)}{P(B)}$$\n",
    "\n",
    "    $$\\sin(\\alpha)^2 + cos(\\alpha)^2 = 1$$"
   ]
  },
  {
   "cell_type": "markdown",
   "metadata": {},
   "source": [
    "��� ����� ��������� **������**. ���� ����� ������ � ���� ������: ����� `[Jupyter](http://jupyter.org)` ���� ������ [Jupyter](http://jupyter.org). ���� ���� ������ ��� ����: ����� `<http://jupyter.org/>` ������ ������ <http://jupyter.org/>."
   ]
  },
  {
   "cell_type": "markdown",
   "metadata": {},
   "source": [
    "�, �������, ����� ��������� ��������!"
   ]
  },
  {
   "cell_type": "markdown",
   "metadata": {},
   "source": [
    "��������, ���:\n",
    "\n",
    "`![title](test.png) `"
   ]
  },
  {
   "cell_type": "markdown",
   "metadata": {},
   "source": [
    "![title](test.png) "
   ]
  },
  {
   "cell_type": "markdown",
   "metadata": {},
   "source": [
    "��� ��� (���������, ��� � html, ��� ������):\n",
    "\n",
    "`<img src =\"test.png\" alt =\"Test picture\">`\n",
    "    \n",
    "<img src =\"test.png\" alt =\"Test picture\">"
   ]
  },
  {
   "cell_type": "markdown",
   "metadata": {},
   "source": [
    "*����������:* ����� � *alt* ����� ��� ����, ����� � ������, ���� �������� � ����� ��������� ���, ��������� �����-�� �������������� ����� ������ ���."
   ]
  },
  {
   "cell_type": "markdown",
   "metadata": {},
   "source": [
    "### ������� �������"
   ]
  },
  {
   "cell_type": "markdown",
   "metadata": {},
   "source": [
    "� Jupyter Notebook ���� ���� ������� �������, ������� ��������� ��������� ��� ������� ������, ������ �� ��� � ��� �����. ����� �������� � ������ ������� ������, ����� ����� �� �������������� ������ (������ �� *Esc*), � ����� ������� ������ ���������� ������. ����� ��������� � ����� �������������� ������, ����� �������� �� ��� ��� ���� ���, ������ ��, ������ *Enter*. ��� �������� ���������� ������ ����� ����� � ���� (*Help - Keyboard Shortcuts*) ��� ����� *Esc*, � ����� *H* ��� *P*."
   ]
  },
  {
   "cell_type": "markdown",
   "metadata": {},
   "source": [
    "### ���� ����������"
   ]
  },
  {
   "cell_type": "markdown",
   "metadata": {},
   "source": [
    "� �������: ��� �����, ���� Jupyter ��������� �������� � ����� � ����������� `.ipynb`. ����� ������������� ������ *os* � ������ ������� ������� ����� (*current working directory*) � � ��� ����� ������ ��������."
   ]
  },
  {
   "cell_type": "code",
   "execution_count": null,
   "metadata": {},
   "outputs": [],
   "source": [
    "import os\n",
    "os.getcwd()"
   ]
  },
  {
   "cell_type": "markdown",
   "metadata": {},
   "source": [
    "� ������� `import` �� ����� ������������� ����� ������ ��� ���������� Python, � ����� ��������� ������� ��� �������������. ����� ����, ����� ������������� ����� ��������� Python, ������� ����� �������� \"The Zen of Python\":"
   ]
  },
  {
   "cell_type": "code",
   "execution_count": 5,
   "metadata": {},
   "outputs": [
    {
     "name": "stdout",
     "output_type": "stream",
     "text": [
      "The Zen of Python, by Tim Peters\n",
      "\n",
      "Beautiful is better than ugly.\n",
      "Explicit is better than implicit.\n",
      "Simple is better than complex.\n",
      "Complex is better than complicated.\n",
      "Flat is better than nested.\n",
      "Sparse is better than dense.\n",
      "Readability counts.\n",
      "Special cases aren't special enough to break the rules.\n",
      "Although practicality beats purity.\n",
      "Errors should never pass silently.\n",
      "Unless explicitly silenced.\n",
      "In the face of ambiguity, refuse the temptation to guess.\n",
      "There should be one-- and preferably only one --obvious way to do it.\n",
      "Although that way may not be obvious at first unless you're Dutch.\n",
      "Now is better than never.\n",
      "Although never is often better than *right* now.\n",
      "If the implementation is hard to explain, it's a bad idea.\n",
      "If the implementation is easy to explain, it may be a good idea.\n",
      "Namespaces are one honking great idea -- let's do more of those!\n"
     ]
    }
   ],
   "source": [
    "import this"
   ]
  }
 ],
 "metadata": {
  "kernelspec": {
   "display_name": "Python 3",
   "language": "python",
   "name": "python3"
  },
  "language_info": {
   "codemirror_mode": {
    "name": "ipython",
    "version": 3
   },
   "file_extension": ".py",
   "mimetype": "text/x-python",
   "name": "python",
   "nbconvert_exporter": "python",
   "pygments_lexer": "ipython3",
   "version": "3.7.4"
  }
 },
 "nbformat": 4,
 "nbformat_minor": 2
}